{
 "cells": [
  {
   "cell_type": "markdown",
   "id": "b206d405",
   "metadata": {
    "toc": true
   },
   "source": [
    "<h1>Запросы SQL из базы данных PostgreSQL (локальный сервер  PostgreSQL )<span class=\"tocSkip\"></span></h1>\n",
    "<div class=\"toc\"><ul class=\"toc-item\"><li><span><a href=\"#Подключение-к-базе-данных-с-помощью-Python\" data-toc-modified-id=\"Подключение-к-базе-данных-с-помощью-Python-1\"><span class=\"toc-item-num\">1&nbsp;&nbsp;</span>Подключение к базе данных с помощью Python</a></span></li><li><span><a href=\"#Запросы\" data-toc-modified-id=\"Запросы-2\"><span class=\"toc-item-num\">2&nbsp;&nbsp;</span>Запросы</a></span></li></ul></div>"
   ]
  },
  {
   "cell_type": "markdown",
   "id": "e3510c22",
   "metadata": {},
   "source": [
    "## Подключение к базе данных с помощью Python"
   ]
  },
  {
   "cell_type": "markdown",
   "id": "25f6c78f",
   "metadata": {},
   "source": [
    "Для подключения к базе данных часто используют библиотеку SQLAlchemy — она одна из самых распространённых. "
   ]
  },
  {
   "cell_type": "markdown",
   "id": "4886533f",
   "metadata": {},
   "source": [
    "Прежде чем использовать библиотеку, нужно её установить. Запустите команду для установки SQLAlchemy в вашей тетрадке Jupyter Notebook. Знак ! перед командой обозначает, что её нужно передать консоли."
   ]
  },
  {
   "cell_type": "code",
   "execution_count": 1,
   "id": "26dc80f3",
   "metadata": {},
   "outputs": [
    {
     "name": "stdout",
     "output_type": "stream",
     "text": [
      "Requirement already satisfied: sqlalchemy in c:\\users\\nikita\\anaconda3\\envs\\da_practicum_env1\\lib\\site-packages (1.4.15)\n",
      "Requirement already satisfied: greenlet!=0.4.17 in c:\\users\\nikita\\anaconda3\\envs\\da_practicum_env1\\lib\\site-packages (from sqlalchemy) (2.0.2)\n"
     ]
    }
   ],
   "source": [
    "!pip install sqlalchemy"
   ]
  },
  {
   "cell_type": "markdown",
   "id": "117db042",
   "metadata": {},
   "source": [
    "Импортируем остальные библиотеки. Функция create_engine() из библиотеки SQLAlchemy служит для подключения к базе данных и выполнения SQL-запроса"
   ]
  },
  {
   "cell_type": "code",
   "execution_count": 2,
   "id": "88cd35fd",
   "metadata": {},
   "outputs": [
    {
     "name": "stderr",
     "output_type": "stream",
     "text": [
      "C:\\Users\\NIKITA\\anaconda3\\envs\\da_practicum_env1\\lib\\site-packages\\scipy\\__init__.py:146: UserWarning: A NumPy version >=1.17.3 and <1.25.0 is required for this version of SciPy (detected version 1.26.3\n",
      "  warnings.warn(f\"A NumPy version >={np_minversion} and <{np_maxversion}\"\n"
     ]
    }
   ],
   "source": [
    "import pandas as pd\n",
    "import matplotlib.pyplot as plt\n",
    "import seaborn as sns\n",
    "from sqlalchemy import create_engine"
   ]
  },
  {
   "cell_type": "markdown",
   "id": "510c6a6d",
   "metadata": {},
   "source": [
    "Для подключения к базе данных вам понадобится:\n",
    "- имя пользователя базы данных и пароль;\n",
    "- адрес сервера базы данных, включая порт;\n",
    "- название базы данных.\n",
    "\n",
    "Эти данные удобно записать в объект, чтобы потом их было легко поправить. Для подключения к базе данных Практикума используйте следующие данные:"
   ]
  },
  {
   "cell_type": "code",
   "execution_count": 3,
   "id": "ff664d20",
   "metadata": {},
   "outputs": [],
   "source": [
    "db_config = {\n",
    "    'user': 'postgres', # имя пользователя\n",
    "    'pwd': '5432', # пароль\n",
    "    'host': 'localhost',\n",
    "    'port': 5432, # порт подключения\n",
    "    'db': '2_st_database' # название базы данных\n",
    "} "
   ]
  },
  {
   "cell_type": "markdown",
   "id": "cdd30fc9",
   "metadata": {},
   "source": [
    "После того как данные для авторизации записаны в объект db_config, нужно передать функции create_engine() строку для соединения с базой данных. Строка содержит информацию об используемой СУБД, а также все данные для авторизации."
   ]
  },
  {
   "cell_type": "markdown",
   "id": "c0f1652f",
   "metadata": {},
   "source": [
    "Строку для подключения можно сформировать с помощью метода .format()"
   ]
  },
  {
   "cell_type": "code",
   "execution_count": 4,
   "id": "d8cf874a",
   "metadata": {},
   "outputs": [],
   "source": [
    "connection_string = 'postgresql://{}:{}@{}:{}/{}'.format(\n",
    "    db_config['user'],\n",
    "    db_config['pwd'],\n",
    "    db_config['host'],\n",
    "    db_config['port'],\n",
    "    db_config['db'],\n",
    ")"
   ]
  },
  {
   "cell_type": "markdown",
   "id": "5d087aa3",
   "metadata": {},
   "source": [
    "Чтобы создать соединение, строку с данными для подключения передают функции create_engine()"
   ]
  },
  {
   "cell_type": "code",
   "execution_count": 5,
   "id": "42458a1f",
   "metadata": {},
   "outputs": [],
   "source": [
    "engine = create_engine(connection_string)"
   ]
  },
  {
   "cell_type": "markdown",
   "id": "f8ef897b",
   "metadata": {},
   "source": [
    "Готово! К базе подключились, теперь можно извлекать результаты SQL-запроса"
   ]
  },
  {
   "cell_type": "markdown",
   "id": "2737eda4",
   "metadata": {},
   "source": [
    "## Запросы"
   ]
  },
  {
   "cell_type": "code",
   "execution_count": 6,
   "id": "5b1c0175",
   "metadata": {},
   "outputs": [],
   "source": [
    "query = '''\n",
    "SELECT *\n",
    "FROM newtable\n",
    "'''"
   ]
  },
  {
   "cell_type": "code",
   "execution_count": 7,
   "id": "3640df68",
   "metadata": {},
   "outputs": [],
   "source": [
    "data_1 = pd.read_sql_query(query, con = engine)"
   ]
  },
  {
   "cell_type": "code",
   "execution_count": 8,
   "id": "9b4869a4",
   "metadata": {},
   "outputs": [
    {
     "data": {
      "text/html": [
       "<div>\n",
       "<style scoped>\n",
       "    .dataframe tbody tr th:only-of-type {\n",
       "        vertical-align: middle;\n",
       "    }\n",
       "\n",
       "    .dataframe tbody tr th {\n",
       "        vertical-align: top;\n",
       "    }\n",
       "\n",
       "    .dataframe thead th {\n",
       "        text-align: right;\n",
       "    }\n",
       "</style>\n",
       "<table border=\"1\" class=\"dataframe\">\n",
       "  <thead>\n",
       "    <tr style=\"text-align: right;\">\n",
       "      <th></th>\n",
       "      <th>user_id</th>\n",
       "      <th>group</th>\n",
       "      <th>ab_test</th>\n",
       "    </tr>\n",
       "  </thead>\n",
       "  <tbody>\n",
       "    <tr>\n",
       "      <th>0</th>\n",
       "      <td>D1ABA3E2887B6A73</td>\n",
       "      <td>A</td>\n",
       "      <td>recommender_system_test</td>\n",
       "    </tr>\n",
       "    <tr>\n",
       "      <th>1</th>\n",
       "      <td>A7A3664BD6242119</td>\n",
       "      <td>A</td>\n",
       "      <td>recommender_system_test</td>\n",
       "    </tr>\n",
       "    <tr>\n",
       "      <th>2</th>\n",
       "      <td>DABC14FDDFADD29E</td>\n",
       "      <td>A</td>\n",
       "      <td>recommender_system_test</td>\n",
       "    </tr>\n",
       "    <tr>\n",
       "      <th>3</th>\n",
       "      <td>04988C5DF189632E</td>\n",
       "      <td>A</td>\n",
       "      <td>recommender_system_test</td>\n",
       "    </tr>\n",
       "    <tr>\n",
       "      <th>4</th>\n",
       "      <td>482F14783456D21B</td>\n",
       "      <td>B</td>\n",
       "      <td>recommender_system_test</td>\n",
       "    </tr>\n",
       "    <tr>\n",
       "      <th>...</th>\n",
       "      <td>...</td>\n",
       "      <td>...</td>\n",
       "      <td>...</td>\n",
       "    </tr>\n",
       "    <tr>\n",
       "      <th>18263</th>\n",
       "      <td>1D302F8688B91781</td>\n",
       "      <td>B</td>\n",
       "      <td>interface_eu_test</td>\n",
       "    </tr>\n",
       "    <tr>\n",
       "      <th>18264</th>\n",
       "      <td>3DE51B726983B657</td>\n",
       "      <td>A</td>\n",
       "      <td>interface_eu_test</td>\n",
       "    </tr>\n",
       "    <tr>\n",
       "      <th>18265</th>\n",
       "      <td>F501F79D332BE86C</td>\n",
       "      <td>A</td>\n",
       "      <td>interface_eu_test</td>\n",
       "    </tr>\n",
       "    <tr>\n",
       "      <th>18266</th>\n",
       "      <td>63FBE257B05F2245</td>\n",
       "      <td>A</td>\n",
       "      <td>interface_eu_test</td>\n",
       "    </tr>\n",
       "    <tr>\n",
       "      <th>18267</th>\n",
       "      <td>79F9ABFB029CF724</td>\n",
       "      <td>B</td>\n",
       "      <td>interface_eu_test</td>\n",
       "    </tr>\n",
       "  </tbody>\n",
       "</table>\n",
       "<p>18268 rows × 3 columns</p>\n",
       "</div>"
      ],
      "text/plain": [
       "                user_id group                  ab_test\n",
       "0      D1ABA3E2887B6A73     A  recommender_system_test\n",
       "1      A7A3664BD6242119     A  recommender_system_test\n",
       "2      DABC14FDDFADD29E     A  recommender_system_test\n",
       "3      04988C5DF189632E     A  recommender_system_test\n",
       "4      482F14783456D21B     B  recommender_system_test\n",
       "...                 ...   ...                      ...\n",
       "18263  1D302F8688B91781     B        interface_eu_test\n",
       "18264  3DE51B726983B657     A        interface_eu_test\n",
       "18265  F501F79D332BE86C     A        interface_eu_test\n",
       "18266  63FBE257B05F2245     A        interface_eu_test\n",
       "18267  79F9ABFB029CF724     B        interface_eu_test\n",
       "\n",
       "[18268 rows x 3 columns]"
      ]
     },
     "execution_count": 8,
     "metadata": {},
     "output_type": "execute_result"
    }
   ],
   "source": [
    "data_1"
   ]
  },
  {
   "cell_type": "markdown",
   "id": "ea0e468c",
   "metadata": {},
   "source": [
    "Создадим тестовый датафрейм и зальём его в нашу базу данных **2_st_database**"
   ]
  },
  {
   "cell_type": "code",
   "execution_count": 9,
   "id": "bf88302e",
   "metadata": {},
   "outputs": [
    {
     "data": {
      "text/html": [
       "<div>\n",
       "<style scoped>\n",
       "    .dataframe tbody tr th:only-of-type {\n",
       "        vertical-align: middle;\n",
       "    }\n",
       "\n",
       "    .dataframe tbody tr th {\n",
       "        vertical-align: top;\n",
       "    }\n",
       "\n",
       "    .dataframe thead th {\n",
       "        text-align: right;\n",
       "    }\n",
       "</style>\n",
       "<table border=\"1\" class=\"dataframe\">\n",
       "  <thead>\n",
       "    <tr style=\"text-align: right;\">\n",
       "      <th></th>\n",
       "      <th>number</th>\n",
       "    </tr>\n",
       "  </thead>\n",
       "  <tbody>\n",
       "    <tr>\n",
       "      <th>0</th>\n",
       "      <td>1</td>\n",
       "    </tr>\n",
       "    <tr>\n",
       "      <th>1</th>\n",
       "      <td>2</td>\n",
       "    </tr>\n",
       "    <tr>\n",
       "      <th>2</th>\n",
       "      <td>3</td>\n",
       "    </tr>\n",
       "    <tr>\n",
       "      <th>3</th>\n",
       "      <td>4</td>\n",
       "    </tr>\n",
       "    <tr>\n",
       "      <th>4</th>\n",
       "      <td>5</td>\n",
       "    </tr>\n",
       "  </tbody>\n",
       "</table>\n",
       "</div>"
      ],
      "text/plain": [
       "   number\n",
       "0       1\n",
       "1       2\n",
       "2       3\n",
       "3       4\n",
       "4       5"
      ]
     },
     "execution_count": 9,
     "metadata": {},
     "output_type": "execute_result"
    }
   ],
   "source": [
    "new_df = pd.DataFrame({'number': [1,2,3,4,5]})\n",
    "new_df"
   ]
  },
  {
   "cell_type": "code",
   "execution_count": 10,
   "id": "485def5c",
   "metadata": {},
   "outputs": [],
   "source": [
    "# Параметр if_exists = 'replace' - нужен для того, чтобы перезаписывать таблицу test_1 в базу данных, в случае, если мы перегружаем тетрадку \n",
    "# Jupyter, если не поставим, будет ошибка. \n",
    "# Параметр index=False, нужен, чтобы в базу данных записалась таблица без индексов\n",
    "\n",
    "new_df.to_sql('test_1',con = engine,if_exists = 'replace',index=False)"
   ]
  },
  {
   "cell_type": "markdown",
   "id": "b494af75",
   "metadata": {},
   "source": [
    "Выполняем запрос по вновь добавленной в базу данных таблице test_1"
   ]
  },
  {
   "cell_type": "code",
   "execution_count": 11,
   "id": "082d5e76",
   "metadata": {},
   "outputs": [],
   "source": [
    "query = '''select * \n",
    "from test_1 '''"
   ]
  },
  {
   "cell_type": "code",
   "execution_count": 12,
   "id": "5c1fee9e",
   "metadata": {},
   "outputs": [
    {
     "data": {
      "text/html": [
       "<div>\n",
       "<style scoped>\n",
       "    .dataframe tbody tr th:only-of-type {\n",
       "        vertical-align: middle;\n",
       "    }\n",
       "\n",
       "    .dataframe tbody tr th {\n",
       "        vertical-align: top;\n",
       "    }\n",
       "\n",
       "    .dataframe thead th {\n",
       "        text-align: right;\n",
       "    }\n",
       "</style>\n",
       "<table border=\"1\" class=\"dataframe\">\n",
       "  <thead>\n",
       "    <tr style=\"text-align: right;\">\n",
       "      <th></th>\n",
       "      <th>number</th>\n",
       "    </tr>\n",
       "  </thead>\n",
       "  <tbody>\n",
       "    <tr>\n",
       "      <th>0</th>\n",
       "      <td>1</td>\n",
       "    </tr>\n",
       "    <tr>\n",
       "      <th>1</th>\n",
       "      <td>2</td>\n",
       "    </tr>\n",
       "    <tr>\n",
       "      <th>2</th>\n",
       "      <td>3</td>\n",
       "    </tr>\n",
       "    <tr>\n",
       "      <th>3</th>\n",
       "      <td>4</td>\n",
       "    </tr>\n",
       "    <tr>\n",
       "      <th>4</th>\n",
       "      <td>5</td>\n",
       "    </tr>\n",
       "  </tbody>\n",
       "</table>\n",
       "</div>"
      ],
      "text/plain": [
       "   number\n",
       "0       1\n",
       "1       2\n",
       "2       3\n",
       "3       4\n",
       "4       5"
      ]
     },
     "execution_count": 12,
     "metadata": {},
     "output_type": "execute_result"
    }
   ],
   "source": [
    "data_2 = pd.read_sql_query(query, con = engine)\n",
    "data_2"
   ]
  },
  {
   "cell_type": "markdown",
   "id": "4d2ccb28",
   "metadata": {},
   "source": [
    "Всё работает, созданная таблица `test_1` в jupyter отражется также в клиенте DBeaver. В DBeaver также можно создавать тестовые датафреймы. "
   ]
  }
 ],
 "metadata": {
  "kernelspec": {
   "display_name": "Python 3 (ipykernel)",
   "language": "python",
   "name": "python3"
  },
  "language_info": {
   "codemirror_mode": {
    "name": "ipython",
    "version": 3
   },
   "file_extension": ".py",
   "mimetype": "text/x-python",
   "name": "python",
   "nbconvert_exporter": "python",
   "pygments_lexer": "ipython3",
   "version": "3.9.16"
  },
  "toc": {
   "base_numbering": 1,
   "nav_menu": {},
   "number_sections": true,
   "sideBar": true,
   "skip_h1_title": true,
   "title_cell": "Запросы SQL из базы данных PostgreSQL (локальный сервер  PostgreSQL )",
   "title_sidebar": "Запросы SQL из базы данных PostgreSQL (локальный сервер  PostgreSQL )",
   "toc_cell": true,
   "toc_position": {
    "height": "calc(100% - 180px)",
    "left": "10px",
    "top": "150px",
    "width": "384px"
   },
   "toc_section_display": true,
   "toc_window_display": false
  }
 },
 "nbformat": 4,
 "nbformat_minor": 5
}
