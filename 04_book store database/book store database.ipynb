{
 "cells": [
  {
   "cell_type": "markdown",
   "id": "388ba632",
   "metadata": {},
   "source": [
    "# Исследование сервиса для чтения книг "
   ]
  },
  {
   "cell_type": "markdown",
   "id": "3155bbd4",
   "metadata": {
    "toc": true
   },
   "source": [
    "<h1>Содержание<span class=\"tocSkip\"></span></h1>\n",
    "<div class=\"toc\"><ul class=\"toc-item\"><li><span><a href=\"#Обзор-данных\" data-toc-modified-id=\"Обзор-данных-1\"><span class=\"toc-item-num\">1&nbsp;&nbsp;</span>Обзор данных</a></span><ul class=\"toc-item\"><li><span><a href=\"#Выведем-первые-строки-каждой-таблицы-и-изучим-значение-столбцов\" data-toc-modified-id=\"Выведем-первые-строки-каждой-таблицы-и-изучим-значение-столбцов-1.1\"><span class=\"toc-item-num\">1.1&nbsp;&nbsp;</span>Выведем первые строки каждой таблицы и изучим значение столбцов</a></span><ul class=\"toc-item\"><li><span><a href=\"#Таблица-books\" data-toc-modified-id=\"Таблица-books-1.1.1\"><span class=\"toc-item-num\">1.1.1&nbsp;&nbsp;</span>Таблица books</a></span></li><li><span><a href=\"#Таблица-authors\" data-toc-modified-id=\"Таблица-authors-1.1.2\"><span class=\"toc-item-num\">1.1.2&nbsp;&nbsp;</span>Таблица authors</a></span></li><li><span><a href=\"#Таблица-publishers\" data-toc-modified-id=\"Таблица-publishers-1.1.3\"><span class=\"toc-item-num\">1.1.3&nbsp;&nbsp;</span>Таблица publishers</a></span></li><li><span><a href=\"#Таблица-ratings\" data-toc-modified-id=\"Таблица-ratings-1.1.4\"><span class=\"toc-item-num\">1.1.4&nbsp;&nbsp;</span>Таблица ratings</a></span></li><li><span><a href=\"#Таблица-reviews\" data-toc-modified-id=\"Таблица-reviews-1.1.5\"><span class=\"toc-item-num\">1.1.5&nbsp;&nbsp;</span>Таблица reviews</a></span></li></ul></li></ul></li><li><span><a href=\"#Исследовательский-анализ-данных\" data-toc-modified-id=\"Исследовательский-анализ-данных-2\"><span class=\"toc-item-num\">2&nbsp;&nbsp;</span>Исследовательский анализ данных</a></span><ul class=\"toc-item\"><li><span><a href=\"#Кол-во-книг-вышедших-после--1-января-2000-года\" data-toc-modified-id=\"Кол-во-книг-вышедших-после--1-января-2000-года-2.1\"><span class=\"toc-item-num\">2.1&nbsp;&nbsp;</span>Кол-во книг вышедших после  1 января 2000 года</a></span></li><li><span><a href=\"#Кол-во-обзоров-и-средняя-оценка-книги\" data-toc-modified-id=\"Кол-во-обзоров-и-средняя-оценка-книги-2.2\"><span class=\"toc-item-num\">2.2&nbsp;&nbsp;</span>Кол-во обзоров и средняя оценка книги</a></span></li><li><span><a href=\"#Издательство-с-наибольшим-числом-выпущенных-книг-толще-50-страниц\" data-toc-modified-id=\"Издательство-с-наибольшим-числом-выпущенных-книг-толще-50-страниц-2.3\"><span class=\"toc-item-num\">2.3&nbsp;&nbsp;</span>Издательство с наибольшим числом выпущенных книг толще 50 страниц</a></span></li><li><span><a href=\"#Автор-с-самой-высокой-средней-оценкой-книг\" data-toc-modified-id=\"Автор-с-самой-высокой-средней-оценкой-книг-2.4\"><span class=\"toc-item-num\">2.4&nbsp;&nbsp;</span>Автор с самой высокой средней оценкой книг</a></span></li><li><span><a href=\"#Среднее-количество-обзоров-от-пользователей\" data-toc-modified-id=\"Среднее-количество-обзоров-от-пользователей-2.5\"><span class=\"toc-item-num\">2.5&nbsp;&nbsp;</span>Среднее количество обзоров от пользователей</a></span></li></ul></li><li><span><a href=\"#Общий-вывод\" data-toc-modified-id=\"Общий-вывод-3\"><span class=\"toc-item-num\">3&nbsp;&nbsp;</span>Общий вывод</a></span></li></ul></div>"
   ]
  },
  {
   "cell_type": "markdown",
   "id": "e284dbd1",
   "metadata": {},
   "source": [
    "**Описание проекта**"
   ]
  },
  {
   "cell_type": "markdown",
   "id": "669ebc39",
   "metadata": {},
   "source": [
    "Наша компания купила крупный сервис для чтения книг по подписке. В рамках данного проекта мы должны проанализировать предоставленную  базу данных. В ней — информация о книгах, издательствах, авторах, а также пользовательские обзоры книг. Эти данные помогут сформулировать ценностное предложение для нового продукта."
   ]
  },
  {
   "cell_type": "markdown",
   "id": "74878a51",
   "metadata": {},
   "source": [
    "**Предоставленные файлы**"
   ]
  },
  {
   "cell_type": "markdown",
   "id": "bf2c2b57",
   "metadata": {},
   "source": [
    "Схема данных\n",
    "![База данных](https://pictures.s3.yandex.net/resources/scheme_1589269096.png)\n"
   ]
  },
  {
   "cell_type": "markdown",
   "id": "be9e03b5",
   "metadata": {},
   "source": [
    "- `books` - таблица содержит данные о книгах\n",
    "- `authors` - таблица содержит данные об авторах\n",
    "- `publishers` - таблица содержит данные об издательствах\n",
    "- `ratings` - таблица содержит данные о пользовательских оценках книг\n",
    "- `reviews` - таблица содержит данные о пользовательских обзорах"
   ]
  },
  {
   "cell_type": "markdown",
   "id": "254b032f",
   "metadata": {},
   "source": [
    "**Цель исследования**"
   ]
  },
  {
   "cell_type": "markdown",
   "id": "c5498690",
   "metadata": {},
   "source": [
    "- Написать рабочие, оптимальные запросы к БД\n",
    "- Проанализировать базу данных\n",
    "- Сформулировать выводы"
   ]
  },
  {
   "cell_type": "markdown",
   "id": "2ebdd1e4",
   "metadata": {},
   "source": [
    "**Основные шаги**"
   ]
  },
  {
   "cell_type": "markdown",
   "id": "d9965cd8",
   "metadata": {},
   "source": [
    "1. Обзор данных\n",
    "2. Исследовательский анализ данных\n",
    "3. Общий вывод  и формулировка ценностного предложения для нового продукта"
   ]
  },
  {
   "cell_type": "markdown",
   "id": "f096dc1c",
   "metadata": {},
   "source": [
    "## Обзор данных"
   ]
  },
  {
   "cell_type": "code",
   "execution_count": 1,
   "id": "8f894468",
   "metadata": {},
   "outputs": [],
   "source": [
    "# импортируем библиотеки\n",
    "\n",
    "import pandas as pd\n",
    "import sqlalchemy as sa"
   ]
  },
  {
   "cell_type": "markdown",
   "id": "a423cbf9",
   "metadata": {},
   "source": [
    "Подключение к базе данных `data-analyst-final-project-db`"
   ]
  },
  {
   "cell_type": "code",
   "execution_count": 2,
   "id": "d6ef66bc",
   "metadata": {},
   "outputs": [],
   "source": [
    "# устанавливаем параметры\n",
    "db_config = {\n",
    "'user': 'praktikum_student', # имя пользователя\n",
    "'pwd': 'Sdf4$2;d-d30pp', # пароль\n",
    "'host': 'rc1b-wcoijxj3yxfsf3fs.mdb.yandexcloud.net',\n",
    "'port': 6432, # порт подключения\n",
    "'db': 'data-analyst-final-project-db' # название базы данных\n",
    "}\n",
    "\n",
    "connection_string = 'postgresql://{user}:{pwd}@{host}:{port}/{db}'.format(**db_config)\n",
    "# сохраняем коннектор\n",
    "engine = sa.create_engine(connection_string, connect_args={'sslmode':'require'})\n",
    "\n",
    "# чтобы выполнить SQL-запрос, пишем функцию с использованием Pandas\n",
    "def get_sql_data(query:str, engine:sa.engine.base.Engine=engine) -> pd.DataFrame:    \n",
    "    '''Открываем соединение, получаем данные из sql, закрываем соединение'''\n",
    "    with engine.connect() as con:    \n",
    "        return pd.read_sql(sql=sa.text(query), con = con)"
   ]
  },
  {
   "cell_type": "markdown",
   "id": "db934b59",
   "metadata": {},
   "source": [
    "### Выведем первые строки каждой таблицы и изучим значение столбцов"
   ]
  },
  {
   "cell_type": "markdown",
   "id": "840c4101",
   "metadata": {},
   "source": [
    "#### Таблица books"
   ]
  },
  {
   "cell_type": "code",
   "execution_count": 3,
   "id": "8cab9b1d",
   "metadata": {},
   "outputs": [
    {
     "data": {
      "text/html": [
       "<div>\n",
       "<style scoped>\n",
       "    .dataframe tbody tr th:only-of-type {\n",
       "        vertical-align: middle;\n",
       "    }\n",
       "\n",
       "    .dataframe tbody tr th {\n",
       "        vertical-align: top;\n",
       "    }\n",
       "\n",
       "    .dataframe thead th {\n",
       "        text-align: right;\n",
       "    }\n",
       "</style>\n",
       "<table border=\"1\" class=\"dataframe\">\n",
       "  <thead>\n",
       "    <tr style=\"text-align: right;\">\n",
       "      <th></th>\n",
       "      <th>book_id</th>\n",
       "      <th>author_id</th>\n",
       "      <th>title</th>\n",
       "      <th>num_pages</th>\n",
       "      <th>publication_date</th>\n",
       "      <th>publisher_id</th>\n",
       "    </tr>\n",
       "  </thead>\n",
       "  <tbody>\n",
       "    <tr>\n",
       "      <th>0</th>\n",
       "      <td>1</td>\n",
       "      <td>546</td>\n",
       "      <td>'Salem's Lot</td>\n",
       "      <td>594</td>\n",
       "      <td>2005-11-01</td>\n",
       "      <td>93</td>\n",
       "    </tr>\n",
       "    <tr>\n",
       "      <th>1</th>\n",
       "      <td>2</td>\n",
       "      <td>465</td>\n",
       "      <td>1 000 Places to See Before You Die</td>\n",
       "      <td>992</td>\n",
       "      <td>2003-05-22</td>\n",
       "      <td>336</td>\n",
       "    </tr>\n",
       "    <tr>\n",
       "      <th>2</th>\n",
       "      <td>3</td>\n",
       "      <td>407</td>\n",
       "      <td>13 Little Blue Envelopes (Little Blue Envelope...</td>\n",
       "      <td>322</td>\n",
       "      <td>2010-12-21</td>\n",
       "      <td>135</td>\n",
       "    </tr>\n",
       "    <tr>\n",
       "      <th>3</th>\n",
       "      <td>4</td>\n",
       "      <td>82</td>\n",
       "      <td>1491: New Revelations of the Americas Before C...</td>\n",
       "      <td>541</td>\n",
       "      <td>2006-10-10</td>\n",
       "      <td>309</td>\n",
       "    </tr>\n",
       "    <tr>\n",
       "      <th>4</th>\n",
       "      <td>5</td>\n",
       "      <td>125</td>\n",
       "      <td>1776</td>\n",
       "      <td>386</td>\n",
       "      <td>2006-07-04</td>\n",
       "      <td>268</td>\n",
       "    </tr>\n",
       "  </tbody>\n",
       "</table>\n",
       "</div>"
      ],
      "text/plain": [
       "   book_id  author_id                                              title  \\\n",
       "0        1        546                                       'Salem's Lot   \n",
       "1        2        465                 1 000 Places to See Before You Die   \n",
       "2        3        407  13 Little Blue Envelopes (Little Blue Envelope...   \n",
       "3        4         82  1491: New Revelations of the Americas Before C...   \n",
       "4        5        125                                               1776   \n",
       "\n",
       "   num_pages publication_date  publisher_id  \n",
       "0        594       2005-11-01            93  \n",
       "1        992       2003-05-22           336  \n",
       "2        322       2010-12-21           135  \n",
       "3        541       2006-10-10           309  \n",
       "4        386       2006-07-04           268  "
      ]
     },
     "execution_count": 3,
     "metadata": {},
     "output_type": "execute_result"
    }
   ],
   "source": [
    "query = '''\n",
    "SELECT *\n",
    "FROM books\n",
    "LIMIT 5'''\n",
    "get_sql_data(query)\n"
   ]
  },
  {
   "cell_type": "code",
   "execution_count": 4,
   "id": "88cb40e1",
   "metadata": {},
   "outputs": [
    {
     "data": {
      "text/html": [
       "<div>\n",
       "<style scoped>\n",
       "    .dataframe tbody tr th:only-of-type {\n",
       "        vertical-align: middle;\n",
       "    }\n",
       "\n",
       "    .dataframe tbody tr th {\n",
       "        vertical-align: top;\n",
       "    }\n",
       "\n",
       "    .dataframe thead th {\n",
       "        text-align: right;\n",
       "    }\n",
       "</style>\n",
       "<table border=\"1\" class=\"dataframe\">\n",
       "  <thead>\n",
       "    <tr style=\"text-align: right;\">\n",
       "      <th></th>\n",
       "      <th>count</th>\n",
       "    </tr>\n",
       "  </thead>\n",
       "  <tbody>\n",
       "    <tr>\n",
       "      <th>0</th>\n",
       "      <td>1000</td>\n",
       "    </tr>\n",
       "  </tbody>\n",
       "</table>\n",
       "</div>"
      ],
      "text/plain": [
       "   count\n",
       "0   1000"
      ]
     },
     "execution_count": 4,
     "metadata": {},
     "output_type": "execute_result"
    }
   ],
   "source": [
    "query = '''\n",
    "SELECT COUNT(*)\n",
    "FROM books\n",
    "'''\n",
    "get_sql_data(query)"
   ]
  },
  {
   "cell_type": "markdown",
   "id": "7565a8a1",
   "metadata": {},
   "source": [
    "В таблице 6-ть столбцов и 1000 строк:\n",
    "- **book_id** — идентификатор книги\n",
    "- **author_id** — идентификатор автора \n",
    "- **title** — название книги\n",
    "- **num_pages** — количество страниц\n",
    "- **publication_date** — дата публикации книги\n",
    "- **publisher_id** — идентификатор издателя"
   ]
  },
  {
   "cell_type": "markdown",
   "id": "7fde7702",
   "metadata": {},
   "source": [
    "#### Таблица authors"
   ]
  },
  {
   "cell_type": "code",
   "execution_count": 5,
   "id": "654ea8a4",
   "metadata": {},
   "outputs": [
    {
     "data": {
      "text/html": [
       "<div>\n",
       "<style scoped>\n",
       "    .dataframe tbody tr th:only-of-type {\n",
       "        vertical-align: middle;\n",
       "    }\n",
       "\n",
       "    .dataframe tbody tr th {\n",
       "        vertical-align: top;\n",
       "    }\n",
       "\n",
       "    .dataframe thead th {\n",
       "        text-align: right;\n",
       "    }\n",
       "</style>\n",
       "<table border=\"1\" class=\"dataframe\">\n",
       "  <thead>\n",
       "    <tr style=\"text-align: right;\">\n",
       "      <th></th>\n",
       "      <th>author_id</th>\n",
       "      <th>author</th>\n",
       "    </tr>\n",
       "  </thead>\n",
       "  <tbody>\n",
       "    <tr>\n",
       "      <th>0</th>\n",
       "      <td>1</td>\n",
       "      <td>A.S. Byatt</td>\n",
       "    </tr>\n",
       "    <tr>\n",
       "      <th>1</th>\n",
       "      <td>2</td>\n",
       "      <td>Aesop/Laura Harris/Laura Gibbs</td>\n",
       "    </tr>\n",
       "    <tr>\n",
       "      <th>2</th>\n",
       "      <td>3</td>\n",
       "      <td>Agatha Christie</td>\n",
       "    </tr>\n",
       "    <tr>\n",
       "      <th>3</th>\n",
       "      <td>4</td>\n",
       "      <td>Alan Brennert</td>\n",
       "    </tr>\n",
       "    <tr>\n",
       "      <th>4</th>\n",
       "      <td>5</td>\n",
       "      <td>Alan Moore/David   Lloyd</td>\n",
       "    </tr>\n",
       "  </tbody>\n",
       "</table>\n",
       "</div>"
      ],
      "text/plain": [
       "   author_id                          author\n",
       "0          1                      A.S. Byatt\n",
       "1          2  Aesop/Laura Harris/Laura Gibbs\n",
       "2          3                 Agatha Christie\n",
       "3          4                   Alan Brennert\n",
       "4          5        Alan Moore/David   Lloyd"
      ]
     },
     "execution_count": 5,
     "metadata": {},
     "output_type": "execute_result"
    }
   ],
   "source": [
    "query = '''\n",
    "SELECT *\n",
    "FROM authors\n",
    "LIMIT 5'''\n",
    "\n",
    "get_sql_data(query)"
   ]
  },
  {
   "cell_type": "code",
   "execution_count": 6,
   "id": "831ca277",
   "metadata": {},
   "outputs": [
    {
     "data": {
      "text/html": [
       "<div>\n",
       "<style scoped>\n",
       "    .dataframe tbody tr th:only-of-type {\n",
       "        vertical-align: middle;\n",
       "    }\n",
       "\n",
       "    .dataframe tbody tr th {\n",
       "        vertical-align: top;\n",
       "    }\n",
       "\n",
       "    .dataframe thead th {\n",
       "        text-align: right;\n",
       "    }\n",
       "</style>\n",
       "<table border=\"1\" class=\"dataframe\">\n",
       "  <thead>\n",
       "    <tr style=\"text-align: right;\">\n",
       "      <th></th>\n",
       "      <th>count</th>\n",
       "    </tr>\n",
       "  </thead>\n",
       "  <tbody>\n",
       "    <tr>\n",
       "      <th>0</th>\n",
       "      <td>636</td>\n",
       "    </tr>\n",
       "  </tbody>\n",
       "</table>\n",
       "</div>"
      ],
      "text/plain": [
       "   count\n",
       "0    636"
      ]
     },
     "execution_count": 6,
     "metadata": {},
     "output_type": "execute_result"
    }
   ],
   "source": [
    "query = '''\n",
    "SELECT COUNT(*)\n",
    "FROM authors\n",
    "'''\n",
    "get_sql_data(query)"
   ]
  },
  {
   "cell_type": "markdown",
   "id": "8d80cdfa",
   "metadata": {},
   "source": [
    "В таблице 2-а столбца и 636 строк:\n",
    "- **author_id** — идентификатор автора\n",
    "- **author** — имя автора"
   ]
  },
  {
   "cell_type": "markdown",
   "id": "4a301170",
   "metadata": {},
   "source": [
    "#### Таблица publishers"
   ]
  },
  {
   "cell_type": "code",
   "execution_count": 7,
   "id": "29f7b935",
   "metadata": {},
   "outputs": [
    {
     "data": {
      "text/html": [
       "<div>\n",
       "<style scoped>\n",
       "    .dataframe tbody tr th:only-of-type {\n",
       "        vertical-align: middle;\n",
       "    }\n",
       "\n",
       "    .dataframe tbody tr th {\n",
       "        vertical-align: top;\n",
       "    }\n",
       "\n",
       "    .dataframe thead th {\n",
       "        text-align: right;\n",
       "    }\n",
       "</style>\n",
       "<table border=\"1\" class=\"dataframe\">\n",
       "  <thead>\n",
       "    <tr style=\"text-align: right;\">\n",
       "      <th></th>\n",
       "      <th>publisher_id</th>\n",
       "      <th>publisher</th>\n",
       "    </tr>\n",
       "  </thead>\n",
       "  <tbody>\n",
       "    <tr>\n",
       "      <th>0</th>\n",
       "      <td>1</td>\n",
       "      <td>Ace</td>\n",
       "    </tr>\n",
       "    <tr>\n",
       "      <th>1</th>\n",
       "      <td>2</td>\n",
       "      <td>Ace Book</td>\n",
       "    </tr>\n",
       "    <tr>\n",
       "      <th>2</th>\n",
       "      <td>3</td>\n",
       "      <td>Ace Books</td>\n",
       "    </tr>\n",
       "    <tr>\n",
       "      <th>3</th>\n",
       "      <td>4</td>\n",
       "      <td>Ace Hardcover</td>\n",
       "    </tr>\n",
       "    <tr>\n",
       "      <th>4</th>\n",
       "      <td>5</td>\n",
       "      <td>Addison Wesley Publishing Company</td>\n",
       "    </tr>\n",
       "  </tbody>\n",
       "</table>\n",
       "</div>"
      ],
      "text/plain": [
       "   publisher_id                          publisher\n",
       "0             1                                Ace\n",
       "1             2                           Ace Book\n",
       "2             3                          Ace Books\n",
       "3             4                      Ace Hardcover\n",
       "4             5  Addison Wesley Publishing Company"
      ]
     },
     "execution_count": 7,
     "metadata": {},
     "output_type": "execute_result"
    }
   ],
   "source": [
    "query = '''\n",
    "SELECT *\n",
    "FROM publishers\n",
    "LIMIT 5'''\n",
    "\n",
    "get_sql_data(query)"
   ]
  },
  {
   "cell_type": "code",
   "execution_count": 8,
   "id": "bf4cdd81",
   "metadata": {},
   "outputs": [
    {
     "data": {
      "text/html": [
       "<div>\n",
       "<style scoped>\n",
       "    .dataframe tbody tr th:only-of-type {\n",
       "        vertical-align: middle;\n",
       "    }\n",
       "\n",
       "    .dataframe tbody tr th {\n",
       "        vertical-align: top;\n",
       "    }\n",
       "\n",
       "    .dataframe thead th {\n",
       "        text-align: right;\n",
       "    }\n",
       "</style>\n",
       "<table border=\"1\" class=\"dataframe\">\n",
       "  <thead>\n",
       "    <tr style=\"text-align: right;\">\n",
       "      <th></th>\n",
       "      <th>count</th>\n",
       "    </tr>\n",
       "  </thead>\n",
       "  <tbody>\n",
       "    <tr>\n",
       "      <th>0</th>\n",
       "      <td>340</td>\n",
       "    </tr>\n",
       "  </tbody>\n",
       "</table>\n",
       "</div>"
      ],
      "text/plain": [
       "   count\n",
       "0    340"
      ]
     },
     "execution_count": 8,
     "metadata": {},
     "output_type": "execute_result"
    }
   ],
   "source": [
    "query = '''\n",
    "SELECT COUNT(*)\n",
    "FROM publishers\n",
    "'''\n",
    "get_sql_data(query)"
   ]
  },
  {
   "cell_type": "markdown",
   "id": "495ded11",
   "metadata": {},
   "source": [
    "В таблице 2-а столбца и 340 строк:\n",
    "- **publisher_id** — идентификатор издательства\n",
    "- **publisher** — название издательства"
   ]
  },
  {
   "cell_type": "markdown",
   "id": "9447446d",
   "metadata": {},
   "source": [
    "#### Таблица ratings"
   ]
  },
  {
   "cell_type": "code",
   "execution_count": 9,
   "id": "d27bfee5",
   "metadata": {},
   "outputs": [
    {
     "data": {
      "text/html": [
       "<div>\n",
       "<style scoped>\n",
       "    .dataframe tbody tr th:only-of-type {\n",
       "        vertical-align: middle;\n",
       "    }\n",
       "\n",
       "    .dataframe tbody tr th {\n",
       "        vertical-align: top;\n",
       "    }\n",
       "\n",
       "    .dataframe thead th {\n",
       "        text-align: right;\n",
       "    }\n",
       "</style>\n",
       "<table border=\"1\" class=\"dataframe\">\n",
       "  <thead>\n",
       "    <tr style=\"text-align: right;\">\n",
       "      <th></th>\n",
       "      <th>rating_id</th>\n",
       "      <th>book_id</th>\n",
       "      <th>username</th>\n",
       "      <th>rating</th>\n",
       "    </tr>\n",
       "  </thead>\n",
       "  <tbody>\n",
       "    <tr>\n",
       "      <th>0</th>\n",
       "      <td>1</td>\n",
       "      <td>1</td>\n",
       "      <td>ryanfranco</td>\n",
       "      <td>4</td>\n",
       "    </tr>\n",
       "    <tr>\n",
       "      <th>1</th>\n",
       "      <td>2</td>\n",
       "      <td>1</td>\n",
       "      <td>grantpatricia</td>\n",
       "      <td>2</td>\n",
       "    </tr>\n",
       "    <tr>\n",
       "      <th>2</th>\n",
       "      <td>3</td>\n",
       "      <td>1</td>\n",
       "      <td>brandtandrea</td>\n",
       "      <td>5</td>\n",
       "    </tr>\n",
       "    <tr>\n",
       "      <th>3</th>\n",
       "      <td>4</td>\n",
       "      <td>2</td>\n",
       "      <td>lorichen</td>\n",
       "      <td>3</td>\n",
       "    </tr>\n",
       "    <tr>\n",
       "      <th>4</th>\n",
       "      <td>5</td>\n",
       "      <td>2</td>\n",
       "      <td>mariokeller</td>\n",
       "      <td>2</td>\n",
       "    </tr>\n",
       "  </tbody>\n",
       "</table>\n",
       "</div>"
      ],
      "text/plain": [
       "   rating_id  book_id       username  rating\n",
       "0          1        1     ryanfranco       4\n",
       "1          2        1  grantpatricia       2\n",
       "2          3        1   brandtandrea       5\n",
       "3          4        2       lorichen       3\n",
       "4          5        2    mariokeller       2"
      ]
     },
     "execution_count": 9,
     "metadata": {},
     "output_type": "execute_result"
    }
   ],
   "source": [
    "query = '''\n",
    "SELECT *\n",
    "FROM ratings\n",
    "LIMIT 5'''\n",
    "\n",
    "get_sql_data(query)"
   ]
  },
  {
   "cell_type": "code",
   "execution_count": 10,
   "id": "83273c3f",
   "metadata": {},
   "outputs": [
    {
     "data": {
      "text/html": [
       "<div>\n",
       "<style scoped>\n",
       "    .dataframe tbody tr th:only-of-type {\n",
       "        vertical-align: middle;\n",
       "    }\n",
       "\n",
       "    .dataframe tbody tr th {\n",
       "        vertical-align: top;\n",
       "    }\n",
       "\n",
       "    .dataframe thead th {\n",
       "        text-align: right;\n",
       "    }\n",
       "</style>\n",
       "<table border=\"1\" class=\"dataframe\">\n",
       "  <thead>\n",
       "    <tr style=\"text-align: right;\">\n",
       "      <th></th>\n",
       "      <th>count</th>\n",
       "    </tr>\n",
       "  </thead>\n",
       "  <tbody>\n",
       "    <tr>\n",
       "      <th>0</th>\n",
       "      <td>6456</td>\n",
       "    </tr>\n",
       "  </tbody>\n",
       "</table>\n",
       "</div>"
      ],
      "text/plain": [
       "   count\n",
       "0   6456"
      ]
     },
     "execution_count": 10,
     "metadata": {},
     "output_type": "execute_result"
    }
   ],
   "source": [
    "query = '''\n",
    "SELECT COUNT(*)\n",
    "FROM ratings\n",
    "'''\n",
    "get_sql_data(query)"
   ]
  },
  {
   "cell_type": "markdown",
   "id": "96fc6929",
   "metadata": {},
   "source": [
    "В таблице 4-е столбца и 6456 строк:\n",
    "- **rating_id** — идентификатор оценки\n",
    "- **book_id** — идентификатор книги\n",
    "- **username** — имя пользователя, оставившего оценку\n",
    "- **rating** — оценка книги"
   ]
  },
  {
   "cell_type": "markdown",
   "id": "61294b9e",
   "metadata": {},
   "source": [
    "#### Таблица reviews"
   ]
  },
  {
   "cell_type": "code",
   "execution_count": 11,
   "id": "4c0812ea",
   "metadata": {},
   "outputs": [
    {
     "data": {
      "text/html": [
       "<div>\n",
       "<style scoped>\n",
       "    .dataframe tbody tr th:only-of-type {\n",
       "        vertical-align: middle;\n",
       "    }\n",
       "\n",
       "    .dataframe tbody tr th {\n",
       "        vertical-align: top;\n",
       "    }\n",
       "\n",
       "    .dataframe thead th {\n",
       "        text-align: right;\n",
       "    }\n",
       "</style>\n",
       "<table border=\"1\" class=\"dataframe\">\n",
       "  <thead>\n",
       "    <tr style=\"text-align: right;\">\n",
       "      <th></th>\n",
       "      <th>review_id</th>\n",
       "      <th>book_id</th>\n",
       "      <th>username</th>\n",
       "      <th>text</th>\n",
       "    </tr>\n",
       "  </thead>\n",
       "  <tbody>\n",
       "    <tr>\n",
       "      <th>0</th>\n",
       "      <td>1</td>\n",
       "      <td>1</td>\n",
       "      <td>brandtandrea</td>\n",
       "      <td>Mention society tell send professor analysis. ...</td>\n",
       "    </tr>\n",
       "    <tr>\n",
       "      <th>1</th>\n",
       "      <td>2</td>\n",
       "      <td>1</td>\n",
       "      <td>ryanfranco</td>\n",
       "      <td>Foot glass pretty audience hit themselves. Amo...</td>\n",
       "    </tr>\n",
       "    <tr>\n",
       "      <th>2</th>\n",
       "      <td>3</td>\n",
       "      <td>2</td>\n",
       "      <td>lorichen</td>\n",
       "      <td>Listen treat keep worry. Miss husband tax but ...</td>\n",
       "    </tr>\n",
       "    <tr>\n",
       "      <th>3</th>\n",
       "      <td>4</td>\n",
       "      <td>3</td>\n",
       "      <td>johnsonamanda</td>\n",
       "      <td>Finally month interesting blue could nature cu...</td>\n",
       "    </tr>\n",
       "    <tr>\n",
       "      <th>4</th>\n",
       "      <td>5</td>\n",
       "      <td>3</td>\n",
       "      <td>scotttamara</td>\n",
       "      <td>Nation purpose heavy give wait song will. List...</td>\n",
       "    </tr>\n",
       "  </tbody>\n",
       "</table>\n",
       "</div>"
      ],
      "text/plain": [
       "   review_id  book_id       username  \\\n",
       "0          1        1   brandtandrea   \n",
       "1          2        1     ryanfranco   \n",
       "2          3        2       lorichen   \n",
       "3          4        3  johnsonamanda   \n",
       "4          5        3    scotttamara   \n",
       "\n",
       "                                                text  \n",
       "0  Mention society tell send professor analysis. ...  \n",
       "1  Foot glass pretty audience hit themselves. Amo...  \n",
       "2  Listen treat keep worry. Miss husband tax but ...  \n",
       "3  Finally month interesting blue could nature cu...  \n",
       "4  Nation purpose heavy give wait song will. List...  "
      ]
     },
     "execution_count": 11,
     "metadata": {},
     "output_type": "execute_result"
    }
   ],
   "source": [
    "query = '''\n",
    "SELECT *\n",
    "FROM reviews\n",
    "LIMIT 5'''\n",
    "\n",
    "get_sql_data(query)"
   ]
  },
  {
   "cell_type": "code",
   "execution_count": 12,
   "id": "b694cf57",
   "metadata": {},
   "outputs": [
    {
     "data": {
      "text/html": [
       "<div>\n",
       "<style scoped>\n",
       "    .dataframe tbody tr th:only-of-type {\n",
       "        vertical-align: middle;\n",
       "    }\n",
       "\n",
       "    .dataframe tbody tr th {\n",
       "        vertical-align: top;\n",
       "    }\n",
       "\n",
       "    .dataframe thead th {\n",
       "        text-align: right;\n",
       "    }\n",
       "</style>\n",
       "<table border=\"1\" class=\"dataframe\">\n",
       "  <thead>\n",
       "    <tr style=\"text-align: right;\">\n",
       "      <th></th>\n",
       "      <th>count</th>\n",
       "    </tr>\n",
       "  </thead>\n",
       "  <tbody>\n",
       "    <tr>\n",
       "      <th>0</th>\n",
       "      <td>2793</td>\n",
       "    </tr>\n",
       "  </tbody>\n",
       "</table>\n",
       "</div>"
      ],
      "text/plain": [
       "   count\n",
       "0   2793"
      ]
     },
     "execution_count": 12,
     "metadata": {},
     "output_type": "execute_result"
    }
   ],
   "source": [
    "query = '''\n",
    "SELECT COUNT(*)\n",
    "FROM reviews\n",
    "'''\n",
    "get_sql_data(query)"
   ]
  },
  {
   "cell_type": "markdown",
   "id": "07a14a4f",
   "metadata": {},
   "source": [
    "В таблице 4-е столбца и 2793 строк:\n",
    "- **review_id** — идентификатор обзора\n",
    "- **book_id** — идентификатор книги\n",
    "- **username** — имя автора обзора\n",
    "- **text** — текст обзора"
   ]
  },
  {
   "cell_type": "markdown",
   "id": "ad3df94e",
   "metadata": {},
   "source": [
    "**Вывод** \n",
    "\n",
    "В представленных таблицах - информация о книгах, издательствах, авторах, а также пользовательские обзоры книг. Предварительно данных достаточно для анализа.\n"
   ]
  },
  {
   "cell_type": "markdown",
   "id": "8d852491",
   "metadata": {},
   "source": [
    "## Исследовательский анализ данных"
   ]
  },
  {
   "cell_type": "markdown",
   "id": "c586d1b2",
   "metadata": {},
   "source": [
    "В рамках дальнейшего анализа изучим и проверим полученные данные. Найдём особенности. Соберём наблюдения в один общий вывод."
   ]
  },
  {
   "cell_type": "markdown",
   "id": "6506a92d",
   "metadata": {},
   "source": [
    "### Кол-во книг вышедших после  1 января 2000 года "
   ]
  },
  {
   "cell_type": "markdown",
   "id": "bdd8ba9e",
   "metadata": {},
   "source": [
    "В рамках  исследования посчитаем, сколько книг вышло после 1 января 2000 года;"
   ]
  },
  {
   "cell_type": "code",
   "execution_count": 13,
   "id": "5ab7b425",
   "metadata": {},
   "outputs": [
    {
     "data": {
      "text/html": [
       "<div>\n",
       "<style scoped>\n",
       "    .dataframe tbody tr th:only-of-type {\n",
       "        vertical-align: middle;\n",
       "    }\n",
       "\n",
       "    .dataframe tbody tr th {\n",
       "        vertical-align: top;\n",
       "    }\n",
       "\n",
       "    .dataframe thead th {\n",
       "        text-align: right;\n",
       "    }\n",
       "</style>\n",
       "<table border=\"1\" class=\"dataframe\">\n",
       "  <thead>\n",
       "    <tr style=\"text-align: right;\">\n",
       "      <th></th>\n",
       "      <th>book_count</th>\n",
       "    </tr>\n",
       "  </thead>\n",
       "  <tbody>\n",
       "    <tr>\n",
       "      <th>0</th>\n",
       "      <td>819</td>\n",
       "    </tr>\n",
       "  </tbody>\n",
       "</table>\n",
       "</div>"
      ],
      "text/plain": [
       "   book_count\n",
       "0         819"
      ]
     },
     "execution_count": 13,
     "metadata": {},
     "output_type": "execute_result"
    }
   ],
   "source": [
    "query = '''SELECT \n",
    "COUNT (*) AS book_count\n",
    "FROM books \n",
    "WHERE publication_date > ('2000-01-01')'''\n",
    "get_sql_data(query)"
   ]
  },
  {
   "cell_type": "markdown",
   "id": "3d85324f",
   "metadata": {},
   "source": [
    "Кол-во книг вышедших после 1 января 2000 года составило 819 ед."
   ]
  },
  {
   "cell_type": "markdown",
   "id": "7920008c",
   "metadata": {},
   "source": [
    "### Кол-во обзоров и средняя оценка книги"
   ]
  },
  {
   "cell_type": "markdown",
   "id": "abae0127",
   "metadata": {},
   "source": [
    "Для каждой книги посчитаем количество обзоров и среднюю оценку"
   ]
  },
  {
   "cell_type": "code",
   "execution_count": 14,
   "id": "9e98d5d7",
   "metadata": {},
   "outputs": [
    {
     "data": {
      "text/html": [
       "<div>\n",
       "<style scoped>\n",
       "    .dataframe tbody tr th:only-of-type {\n",
       "        vertical-align: middle;\n",
       "    }\n",
       "\n",
       "    .dataframe tbody tr th {\n",
       "        vertical-align: top;\n",
       "    }\n",
       "\n",
       "    .dataframe thead th {\n",
       "        text-align: right;\n",
       "    }\n",
       "</style>\n",
       "<table border=\"1\" class=\"dataframe\">\n",
       "  <thead>\n",
       "    <tr style=\"text-align: right;\">\n",
       "      <th></th>\n",
       "      <th>book_id</th>\n",
       "      <th>title</th>\n",
       "      <th>review_count</th>\n",
       "      <th>rating_avg</th>\n",
       "    </tr>\n",
       "  </thead>\n",
       "  <tbody>\n",
       "    <tr>\n",
       "      <th>0</th>\n",
       "      <td>652</td>\n",
       "      <td>The Body in the Library (Miss Marple  #3)</td>\n",
       "      <td>2.0</td>\n",
       "      <td>4.50</td>\n",
       "    </tr>\n",
       "    <tr>\n",
       "      <th>1</th>\n",
       "      <td>273</td>\n",
       "      <td>Galápagos</td>\n",
       "      <td>2.0</td>\n",
       "      <td>4.50</td>\n",
       "    </tr>\n",
       "    <tr>\n",
       "      <th>2</th>\n",
       "      <td>51</td>\n",
       "      <td>A Tree Grows in Brooklyn</td>\n",
       "      <td>5.0</td>\n",
       "      <td>4.25</td>\n",
       "    </tr>\n",
       "    <tr>\n",
       "      <th>3</th>\n",
       "      <td>951</td>\n",
       "      <td>Undaunted Courage: The Pioneering First Missio...</td>\n",
       "      <td>2.0</td>\n",
       "      <td>4.00</td>\n",
       "    </tr>\n",
       "    <tr>\n",
       "      <th>4</th>\n",
       "      <td>839</td>\n",
       "      <td>The Prophet</td>\n",
       "      <td>4.0</td>\n",
       "      <td>4.29</td>\n",
       "    </tr>\n",
       "    <tr>\n",
       "      <th>...</th>\n",
       "      <td>...</td>\n",
       "      <td>...</td>\n",
       "      <td>...</td>\n",
       "      <td>...</td>\n",
       "    </tr>\n",
       "    <tr>\n",
       "      <th>995</th>\n",
       "      <td>64</td>\n",
       "      <td>Alice in Wonderland</td>\n",
       "      <td>4.0</td>\n",
       "      <td>4.23</td>\n",
       "    </tr>\n",
       "    <tr>\n",
       "      <th>996</th>\n",
       "      <td>55</td>\n",
       "      <td>A Woman of Substance (Emma Harte Saga #1)</td>\n",
       "      <td>2.0</td>\n",
       "      <td>5.00</td>\n",
       "    </tr>\n",
       "    <tr>\n",
       "      <th>997</th>\n",
       "      <td>148</td>\n",
       "      <td>Christine</td>\n",
       "      <td>3.0</td>\n",
       "      <td>3.43</td>\n",
       "    </tr>\n",
       "    <tr>\n",
       "      <th>998</th>\n",
       "      <td>790</td>\n",
       "      <td>The Magicians' Guild (Black Magician Trilogy  #1)</td>\n",
       "      <td>2.0</td>\n",
       "      <td>3.50</td>\n",
       "    </tr>\n",
       "    <tr>\n",
       "      <th>999</th>\n",
       "      <td>828</td>\n",
       "      <td>The Plot Against America</td>\n",
       "      <td>2.0</td>\n",
       "      <td>3.00</td>\n",
       "    </tr>\n",
       "  </tbody>\n",
       "</table>\n",
       "<p>1000 rows × 4 columns</p>\n",
       "</div>"
      ],
      "text/plain": [
       "     book_id                                              title  review_count  \\\n",
       "0        652          The Body in the Library (Miss Marple  #3)           2.0   \n",
       "1        273                                          Galápagos           2.0   \n",
       "2         51                           A Tree Grows in Brooklyn           5.0   \n",
       "3        951  Undaunted Courage: The Pioneering First Missio...           2.0   \n",
       "4        839                                        The Prophet           4.0   \n",
       "..       ...                                                ...           ...   \n",
       "995       64                                Alice in Wonderland           4.0   \n",
       "996       55          A Woman of Substance (Emma Harte Saga #1)           2.0   \n",
       "997      148                                          Christine           3.0   \n",
       "998      790  The Magicians' Guild (Black Magician Trilogy  #1)           2.0   \n",
       "999      828                           The Plot Against America           2.0   \n",
       "\n",
       "     rating_avg  \n",
       "0          4.50  \n",
       "1          4.50  \n",
       "2          4.25  \n",
       "3          4.00  \n",
       "4          4.29  \n",
       "..          ...  \n",
       "995        4.23  \n",
       "996        5.00  \n",
       "997        3.43  \n",
       "998        3.50  \n",
       "999        3.00  \n",
       "\n",
       "[1000 rows x 4 columns]"
      ]
     },
     "execution_count": 14,
     "metadata": {},
     "output_type": "execute_result"
    }
   ],
   "source": [
    "query = '''\n",
    "WITH first_sub_query AS\n",
    "  (SELECT re.book_id,\n",
    "          COUNT(re.review_id) AS review_count\n",
    "   FROM reviews AS re\n",
    "   GROUP BY re.book_id),\n",
    "     second_sub_query AS\n",
    "  (SELECT ra.book_id,\n",
    "          ROUND(AVG(ra.rating), 2)AS rating_avg\n",
    "   FROM ratings AS ra\n",
    "   GROUP BY ra.book_id)\n",
    "SELECT b.book_id,\n",
    "       b.title,\n",
    "       first_sub_query.review_count,\n",
    "       second_sub_query.rating_avg\n",
    "FROM books AS b\n",
    "LEFT JOIN first_sub_query ON b.book_id = first_sub_query.book_id\n",
    "LEFT JOIN second_sub_query ON b.book_id = second_sub_query.book_id\n",
    "'''\n",
    "get_sql_data(query)"
   ]
  },
  {
   "cell_type": "markdown",
   "id": "94304590",
   "metadata": {},
   "source": [
    "По каждой книге найдено количество обзоров и средняя оценка"
   ]
  },
  {
   "cell_type": "markdown",
   "id": "868ae658",
   "metadata": {},
   "source": [
    "### Издательство с наибольшим числом выпущенных книг толще 50 страниц"
   ]
  },
  {
   "cell_type": "markdown",
   "id": "8a409b5c",
   "metadata": {},
   "source": [
    "Определим издательство, которое выпустило наибольшее число книг толще\n",
    "50 страниц — так мы исключим из анализа брошюры"
   ]
  },
  {
   "cell_type": "code",
   "execution_count": 15,
   "id": "36baaf87",
   "metadata": {},
   "outputs": [
    {
     "data": {
      "text/html": [
       "<div>\n",
       "<style scoped>\n",
       "    .dataframe tbody tr th:only-of-type {\n",
       "        vertical-align: middle;\n",
       "    }\n",
       "\n",
       "    .dataframe tbody tr th {\n",
       "        vertical-align: top;\n",
       "    }\n",
       "\n",
       "    .dataframe thead th {\n",
       "        text-align: right;\n",
       "    }\n",
       "</style>\n",
       "<table border=\"1\" class=\"dataframe\">\n",
       "  <thead>\n",
       "    <tr style=\"text-align: right;\">\n",
       "      <th></th>\n",
       "      <th>publisher</th>\n",
       "    </tr>\n",
       "  </thead>\n",
       "  <tbody>\n",
       "    <tr>\n",
       "      <th>0</th>\n",
       "      <td>Penguin Books</td>\n",
       "    </tr>\n",
       "  </tbody>\n",
       "</table>\n",
       "</div>"
      ],
      "text/plain": [
       "       publisher\n",
       "0  Penguin Books"
      ]
     },
     "execution_count": 15,
     "metadata": {},
     "output_type": "execute_result"
    }
   ],
   "source": [
    "query = '''\n",
    "SELECT p.publisher\n",
    "FROM\n",
    "  (SELECT b.publisher_id,\n",
    "          COUNT(b.book_id) AS count_book\n",
    "   FROM books AS b\n",
    "   WHERE b.num_pages> 50\n",
    "   GROUP BY b.publisher_id) AS sub_query\n",
    "INNER JOIN publishers AS p ON sub_query.publisher_id = p.publisher_id\n",
    "ORDER BY sub_query.count_book DESC\n",
    "LIMIT 1\n",
    " '''\n",
    "\n",
    "get_sql_data(query)"
   ]
  },
  {
   "cell_type": "markdown",
   "id": "6b0d266f",
   "metadata": {},
   "source": [
    "Издательство с наибольшим числом выпущенных книг толще 50 страниц - **Penguin Books**"
   ]
  },
  {
   "cell_type": "markdown",
   "id": "f6dc3446",
   "metadata": {},
   "source": [
    "### Автор с самой высокой средней оценкой книг"
   ]
  },
  {
   "cell_type": "markdown",
   "id": "55b4bc5b",
   "metadata": {},
   "source": [
    "Найдём автора с самой высокой средней оценкой книг. Учтём только книги с 50 и более оценками"
   ]
  },
  {
   "cell_type": "code",
   "execution_count": 16,
   "id": "1f79c83d",
   "metadata": {},
   "outputs": [
    {
     "data": {
      "text/html": [
       "<div>\n",
       "<style scoped>\n",
       "    .dataframe tbody tr th:only-of-type {\n",
       "        vertical-align: middle;\n",
       "    }\n",
       "\n",
       "    .dataframe tbody tr th {\n",
       "        vertical-align: top;\n",
       "    }\n",
       "\n",
       "    .dataframe thead th {\n",
       "        text-align: right;\n",
       "    }\n",
       "</style>\n",
       "<table border=\"1\" class=\"dataframe\">\n",
       "  <thead>\n",
       "    <tr style=\"text-align: right;\">\n",
       "      <th></th>\n",
       "      <th>author</th>\n",
       "      <th>author_id</th>\n",
       "      <th>round</th>\n",
       "    </tr>\n",
       "  </thead>\n",
       "  <tbody>\n",
       "    <tr>\n",
       "      <th>0</th>\n",
       "      <td>J.K. Rowling/Mary GrandPré</td>\n",
       "      <td>236</td>\n",
       "      <td>4.29</td>\n",
       "    </tr>\n",
       "  </tbody>\n",
       "</table>\n",
       "</div>"
      ],
      "text/plain": [
       "                       author  author_id  round\n",
       "0  J.K. Rowling/Mary GrandPré        236   4.29"
      ]
     },
     "execution_count": 16,
     "metadata": {},
     "output_type": "execute_result"
    }
   ],
   "source": [
    "query = ''' \n",
    "WITH first_sub_query AS\n",
    "  (SELECT r.book_id\n",
    "   FROM ratings AS r\n",
    "   GROUP BY r.book_id\n",
    "   HAVING COUNT(r.rating)>=50),\n",
    "     second_sub_query AS\n",
    "  (SELECT b.author_id,\n",
    "          AVG(r.rating) AS avg_rating\n",
    "   FROM first_sub_query\n",
    "   INNER JOIN books AS b ON first_sub_query.book_id = b.book_id\n",
    "   INNER JOIN ratings AS r ON b.book_id = r.book_id\n",
    "   GROUP BY b.author_id\n",
    "   ORDER BY avg_rating DESC\n",
    "   LIMIT 1)\n",
    "SELECT a.author,\n",
    "       second_sub_query.author_id,\n",
    "       ROUND(second_sub_query.avg_rating, 2)\n",
    "FROM second_sub_query\n",
    "INNER JOIN authors AS a ON second_sub_query.author_id = a.author_id\n",
    "'''\n",
    "get_sql_data(query)"
   ]
  },
  {
   "cell_type": "markdown",
   "id": "f3fb2176",
   "metadata": {},
   "source": [
    "Автор с самой высокой средней оценкой книг **J.K. Rowling/Mary GrandPré**"
   ]
  },
  {
   "cell_type": "markdown",
   "id": "9caab258",
   "metadata": {},
   "source": [
    "### Среднее количество обзоров от пользователей"
   ]
  },
  {
   "cell_type": "markdown",
   "id": "a6a571a8",
   "metadata": {},
   "source": [
    "Посчитаем среднее количество обзоров от пользователей, которые поставили больше 48 оценок"
   ]
  },
  {
   "cell_type": "code",
   "execution_count": 17,
   "id": "cd73696c",
   "metadata": {},
   "outputs": [
    {
     "data": {
      "text/html": [
       "<div>\n",
       "<style scoped>\n",
       "    .dataframe tbody tr th:only-of-type {\n",
       "        vertical-align: middle;\n",
       "    }\n",
       "\n",
       "    .dataframe tbody tr th {\n",
       "        vertical-align: top;\n",
       "    }\n",
       "\n",
       "    .dataframe thead th {\n",
       "        text-align: right;\n",
       "    }\n",
       "</style>\n",
       "<table border=\"1\" class=\"dataframe\">\n",
       "  <thead>\n",
       "    <tr style=\"text-align: right;\">\n",
       "      <th></th>\n",
       "      <th>avg_count_review</th>\n",
       "    </tr>\n",
       "  </thead>\n",
       "  <tbody>\n",
       "    <tr>\n",
       "      <th>0</th>\n",
       "      <td>24.0</td>\n",
       "    </tr>\n",
       "  </tbody>\n",
       "</table>\n",
       "</div>"
      ],
      "text/plain": [
       "   avg_count_review\n",
       "0              24.0"
      ]
     },
     "execution_count": 17,
     "metadata": {},
     "output_type": "execute_result"
    }
   ],
   "source": [
    "query = '''\n",
    "WITH first_sub_query AS\n",
    "  (SELECT ra.username AS username\n",
    "   FROM ratings AS ra\n",
    "   GROUP BY ra.username\n",
    "   HAVING COUNT(ra.rating)>48),\n",
    "     second_sub_query AS\n",
    "  (SELECT first_sub_query.username,\n",
    "          COUNT(re.review_id) AS count_review\n",
    "   FROM first_sub_query\n",
    "   LEFT JOIN reviews AS re ON first_sub_query.username = re.username\n",
    "   GROUP BY first_sub_query.username)\n",
    "SELECT ROUND(AVG(count_review), 0) AS avg_count_review\n",
    "FROM second_sub_query\n",
    "\n",
    "'''\n",
    "get_sql_data(query)"
   ]
  },
  {
   "cell_type": "markdown",
   "id": "5eee38a4",
   "metadata": {},
   "source": [
    "Cреднее количество обзоров от пользователей, которые поставили больше 48 оценок составило 24 ед.\n"
   ]
  },
  {
   "cell_type": "markdown",
   "id": "ffea71f3",
   "metadata": {},
   "source": [
    "## Общий вывод"
   ]
  },
  {
   "cell_type": "markdown",
   "id": "4d978037",
   "metadata": {},
   "source": [
    "Мы произвели анализ предоставленной базы данных. В представленных таблицах - информация о книгах, издательствах, авторах, а также пользовательские обзоры книг. Предварительно данных достаточно для анализа.\n",
    "\n",
    "Найденные особенности по исследованным данным:\n",
    "\n",
    "- Кол-во книг вышедших после 1 января 2000 года составило 819 ед.\n",
    "- По всем книгам (1000 ед.) найдено количество обзоров и средняя оценка\n",
    "- Издательство с наибольшим числом выпущенных книг толще 50 страниц - **Penguin Books**\n",
    "- Автор с самой высокой средней оценкой книг -  **J.K. Rowling/Mary GrandPré**\n",
    "- Cреднее количество обзоров от пользователей, которые поставили больше 48 оценок составило 24 ед.\n",
    "\n",
    "Пример ценностного предложения для нового продукта: `Откройте дверь в увлекательный мир современной литературы с нашим уникальным сервисом чтения книг по подписке. Погрузитесь в 800 свежих произведений, выпущенных после 2000 года, оцененных более чем 1000 пользователями. Наше партнерство с ведущим издательством Penguin Books обеспечит Вам доступ к самому качественному контенту.` "
   ]
  }
 ],
 "metadata": {
  "ExecuteTimeLog": [
   {
    "duration": 496,
    "start_time": "2023-12-18T07:02:42.052Z"
   },
   {
    "duration": 5275,
    "start_time": "2023-12-18T07:02:42.550Z"
   },
   {
    "duration": 54,
    "start_time": "2023-12-18T07:02:47.827Z"
   },
   {
    "duration": 9,
    "start_time": "2023-12-18T07:02:47.883Z"
   },
   {
    "duration": 10,
    "start_time": "2023-12-18T07:02:47.894Z"
   },
   {
    "duration": 8,
    "start_time": "2023-12-18T07:02:47.906Z"
   },
   {
    "duration": 10,
    "start_time": "2023-12-18T07:02:47.915Z"
   },
   {
    "duration": 8,
    "start_time": "2023-12-18T07:02:47.926Z"
   },
   {
    "duration": 11,
    "start_time": "2023-12-18T07:02:47.936Z"
   },
   {
    "duration": 9,
    "start_time": "2023-12-18T07:02:47.949Z"
   },
   {
    "duration": 11,
    "start_time": "2023-12-18T07:02:47.960Z"
   },
   {
    "duration": 9,
    "start_time": "2023-12-18T07:02:47.972Z"
   },
   {
    "duration": 36,
    "start_time": "2023-12-18T07:02:47.982Z"
   },
   {
    "duration": 26,
    "start_time": "2023-12-18T07:02:48.021Z"
   },
   {
    "duration": 12,
    "start_time": "2023-12-18T07:02:48.049Z"
   },
   {
    "duration": 13,
    "start_time": "2023-12-18T07:02:48.062Z"
   },
   {
    "duration": 13,
    "start_time": "2023-12-18T07:02:48.077Z"
   },
   {
    "duration": 13,
    "start_time": "2023-12-18T07:09:11.720Z"
   },
   {
    "duration": 13,
    "start_time": "2023-12-18T07:09:15.761Z"
   },
   {
    "duration": 13,
    "start_time": "2023-12-18T07:13:28.916Z"
   },
   {
    "duration": 81,
    "start_time": "2023-12-18T07:13:56.670Z"
   },
   {
    "duration": 13,
    "start_time": "2023-12-18T07:14:12.140Z"
   },
   {
    "duration": 19,
    "start_time": "2023-12-18T07:14:20.541Z"
   },
   {
    "duration": 22,
    "start_time": "2023-12-18T07:14:37.403Z"
   },
   {
    "duration": 21,
    "start_time": "2023-12-18T07:14:50.539Z"
   },
   {
    "duration": 22,
    "start_time": "2023-12-18T07:15:02.490Z"
   },
   {
    "duration": 12,
    "start_time": "2023-12-18T07:15:10.193Z"
   },
   {
    "duration": 13,
    "start_time": "2023-12-18T07:15:31.362Z"
   },
   {
    "duration": 23,
    "start_time": "2023-12-18T07:15:44.601Z"
   },
   {
    "duration": 10,
    "start_time": "2023-12-18T07:16:14.931Z"
   },
   {
    "duration": 10,
    "start_time": "2023-12-18T07:16:52.902Z"
   },
   {
    "duration": 12,
    "start_time": "2023-12-18T07:16:55.981Z"
   },
   {
    "duration": 10,
    "start_time": "2023-12-18T07:17:14.464Z"
   },
   {
    "duration": 21,
    "start_time": "2023-12-18T07:17:28.259Z"
   },
   {
    "duration": 18,
    "start_time": "2023-12-18T07:17:56.265Z"
   },
   {
    "duration": 21,
    "start_time": "2023-12-18T07:18:23.380Z"
   },
   {
    "duration": 21,
    "start_time": "2023-12-18T07:18:32.587Z"
   },
   {
    "duration": 12,
    "start_time": "2023-12-18T07:18:52.393Z"
   },
   {
    "duration": 21,
    "start_time": "2023-12-18T07:19:32.652Z"
   },
   {
    "duration": 21,
    "start_time": "2023-12-18T07:19:48.490Z"
   },
   {
    "duration": 21,
    "start_time": "2023-12-18T07:20:02.561Z"
   },
   {
    "duration": 13,
    "start_time": "2023-12-18T07:20:06.680Z"
   },
   {
    "duration": 12,
    "start_time": "2023-12-18T07:20:19.820Z"
   },
   {
    "duration": 23,
    "start_time": "2023-12-18T07:20:58.158Z"
   },
   {
    "duration": 15,
    "start_time": "2023-12-18T07:21:12.951Z"
   },
   {
    "duration": 15,
    "start_time": "2023-12-18T07:23:49.661Z"
   },
   {
    "duration": 15,
    "start_time": "2023-12-18T07:23:54.091Z"
   },
   {
    "duration": 498,
    "start_time": "2023-12-18T08:30:28.384Z"
   },
   {
    "duration": 8631,
    "start_time": "2023-12-18T08:30:28.884Z"
   },
   {
    "duration": 253,
    "start_time": "2023-12-18T08:30:37.516Z"
   },
   {
    "duration": 52,
    "start_time": "2023-12-18T08:30:37.771Z"
   },
   {
    "duration": 52,
    "start_time": "2023-12-18T08:30:37.825Z"
   },
   {
    "duration": 52,
    "start_time": "2023-12-18T08:30:37.879Z"
   },
   {
    "duration": 57,
    "start_time": "2023-12-18T08:30:37.932Z"
   },
   {
    "duration": 53,
    "start_time": "2023-12-18T08:30:37.991Z"
   },
   {
    "duration": 54,
    "start_time": "2023-12-18T08:30:38.045Z"
   },
   {
    "duration": 53,
    "start_time": "2023-12-18T08:30:38.102Z"
   },
   {
    "duration": 54,
    "start_time": "2023-12-18T08:30:38.157Z"
   },
   {
    "duration": 54,
    "start_time": "2023-12-18T08:30:38.212Z"
   },
   {
    "duration": 53,
    "start_time": "2023-12-18T08:30:38.267Z"
   },
   {
    "duration": 91,
    "start_time": "2023-12-18T08:30:38.321Z"
   },
   {
    "duration": 55,
    "start_time": "2023-12-18T08:30:38.413Z"
   },
   {
    "duration": 58,
    "start_time": "2023-12-18T08:30:38.470Z"
   },
   {
    "duration": 55,
    "start_time": "2023-12-18T08:30:38.529Z"
   },
   {
    "duration": 91,
    "start_time": "2023-12-18T08:56:04.929Z"
   },
   {
    "duration": 88,
    "start_time": "2023-12-18T08:56:24.881Z"
   },
   {
    "duration": 120,
    "start_time": "2023-12-18T08:59:43.029Z"
   },
   {
    "duration": 332,
    "start_time": "2023-12-18T08:59:52.264Z"
   },
   {
    "duration": 86,
    "start_time": "2023-12-18T09:12:31.248Z"
   },
   {
    "duration": 62,
    "start_time": "2023-12-18T09:22:35.120Z"
   },
   {
    "duration": 3,
    "start_time": "2023-12-18T09:23:02.300Z"
   },
   {
    "duration": 3,
    "start_time": "2023-12-18T09:23:07.604Z"
   },
   {
    "duration": 86,
    "start_time": "2023-12-18T09:23:22.851Z"
   },
   {
    "duration": 138,
    "start_time": "2023-12-18T09:31:58.718Z"
   },
   {
    "duration": 325,
    "start_time": "2023-12-18T09:34:02.524Z"
   },
   {
    "duration": 472,
    "start_time": "2023-12-18T09:54:02.199Z"
   },
   {
    "duration": 9041,
    "start_time": "2023-12-18T09:54:02.672Z"
   },
   {
    "duration": 248,
    "start_time": "2023-12-18T09:54:11.715Z"
   },
   {
    "duration": 52,
    "start_time": "2023-12-18T09:54:11.966Z"
   },
   {
    "duration": 56,
    "start_time": "2023-12-18T09:54:12.020Z"
   },
   {
    "duration": 53,
    "start_time": "2023-12-18T09:54:12.077Z"
   },
   {
    "duration": 53,
    "start_time": "2023-12-18T09:54:12.131Z"
   },
   {
    "duration": 53,
    "start_time": "2023-12-18T09:54:12.185Z"
   },
   {
    "duration": 54,
    "start_time": "2023-12-18T09:54:12.239Z"
   },
   {
    "duration": 54,
    "start_time": "2023-12-18T09:54:12.295Z"
   },
   {
    "duration": 54,
    "start_time": "2023-12-18T09:54:12.350Z"
   },
   {
    "duration": 52,
    "start_time": "2023-12-18T09:54:12.406Z"
   },
   {
    "duration": 54,
    "start_time": "2023-12-18T09:54:12.460Z"
   },
   {
    "duration": 340,
    "start_time": "2023-12-18T09:54:12.515Z"
   },
   {
    "duration": 69,
    "start_time": "2023-12-18T09:54:12.857Z"
   },
   {
    "duration": 55,
    "start_time": "2023-12-18T09:54:12.928Z"
   },
   {
    "duration": 58,
    "start_time": "2023-12-18T09:54:12.985Z"
   },
   {
    "duration": 55,
    "start_time": "2023-12-18T09:54:13.044Z"
   },
   {
    "duration": 120,
    "start_time": "2023-12-18T10:13:50.045Z"
   },
   {
    "duration": 63,
    "start_time": "2023-12-18T10:13:56.036Z"
   },
   {
    "duration": 66,
    "start_time": "2023-12-18T10:13:59.745Z"
   },
   {
    "duration": 68,
    "start_time": "2023-12-18T10:24:55.822Z"
   },
   {
    "duration": 63,
    "start_time": "2023-12-18T10:25:38.161Z"
   },
   {
    "duration": 62,
    "start_time": "2023-12-18T10:26:07.611Z"
   },
   {
    "duration": 62,
    "start_time": "2023-12-18T10:45:03.263Z"
   },
   {
    "duration": 86,
    "start_time": "2023-12-18T10:46:35.231Z"
   },
   {
    "duration": 88,
    "start_time": "2023-12-18T10:47:18.628Z"
   },
   {
    "duration": 92,
    "start_time": "2023-12-18T10:47:50.945Z"
   },
   {
    "duration": 86,
    "start_time": "2023-12-18T10:49:09.425Z"
   },
   {
    "duration": 89,
    "start_time": "2023-12-18T10:49:11.571Z"
   },
   {
    "duration": 85,
    "start_time": "2023-12-18T10:50:03.525Z"
   },
   {
    "duration": 91,
    "start_time": "2023-12-18T10:50:35.551Z"
   },
   {
    "duration": 87,
    "start_time": "2023-12-18T10:51:39.873Z"
   },
   {
    "duration": 56,
    "start_time": "2023-12-18T11:43:10.062Z"
   },
   {
    "duration": 56,
    "start_time": "2023-12-18T11:45:39.108Z"
   },
   {
    "duration": 61,
    "start_time": "2023-12-18T11:49:30.531Z"
   },
   {
    "duration": 55,
    "start_time": "2023-12-18T11:51:51.702Z"
   },
   {
    "duration": 55,
    "start_time": "2023-12-18T11:54:04.588Z"
   },
   {
    "duration": 65,
    "start_time": "2023-12-18T11:54:42.370Z"
   },
   {
    "duration": 88,
    "start_time": "2023-12-18T11:54:50.562Z"
   },
   {
    "duration": 85,
    "start_time": "2023-12-18T11:55:02.773Z"
   },
   {
    "duration": 86,
    "start_time": "2023-12-18T12:17:19.993Z"
   },
   {
    "duration": 88,
    "start_time": "2023-12-18T12:31:11.952Z"
   },
   {
    "duration": 85,
    "start_time": "2023-12-18T12:31:28.581Z"
   },
   {
    "duration": 85,
    "start_time": "2023-12-18T12:31:50.461Z"
   },
   {
    "duration": 91,
    "start_time": "2023-12-18T12:39:07.850Z"
   },
   {
    "duration": 2,
    "start_time": "2023-12-18T12:39:27.485Z"
   },
   {
    "duration": 66,
    "start_time": "2023-12-18T12:39:38.756Z"
   },
   {
    "duration": 65,
    "start_time": "2023-12-18T12:52:29.071Z"
   },
   {
    "duration": 62,
    "start_time": "2023-12-18T12:52:52.809Z"
   },
   {
    "duration": 55,
    "start_time": "2023-12-18T12:53:05.231Z"
   },
   {
    "duration": 63,
    "start_time": "2023-12-18T12:54:20.557Z"
   },
   {
    "duration": 64,
    "start_time": "2023-12-18T12:54:27.846Z"
   },
   {
    "duration": 63,
    "start_time": "2023-12-18T12:54:30.913Z"
   },
   {
    "duration": 63,
    "start_time": "2023-12-18T12:55:08.069Z"
   },
   {
    "duration": 63,
    "start_time": "2023-12-18T12:55:19.042Z"
   },
   {
    "duration": 55,
    "start_time": "2023-12-18T12:55:50.950Z"
   },
   {
    "duration": 63,
    "start_time": "2023-12-18T13:00:36.757Z"
   },
   {
    "duration": 56,
    "start_time": "2023-12-18T13:01:14.980Z"
   },
   {
    "duration": 63,
    "start_time": "2023-12-18T13:04:54.903Z"
   },
   {
    "duration": 68,
    "start_time": "2023-12-18T13:05:24.851Z"
   },
   {
    "duration": 64,
    "start_time": "2023-12-18T13:07:08.548Z"
   },
   {
    "duration": 71,
    "start_time": "2023-12-18T13:09:17.876Z"
   },
   {
    "duration": 54,
    "start_time": "2023-12-18T13:09:40.660Z"
   },
   {
    "duration": 53,
    "start_time": "2023-12-18T13:10:55.754Z"
   },
   {
    "duration": 55,
    "start_time": "2023-12-18T13:14:49.319Z"
   },
   {
    "duration": 58,
    "start_time": "2023-12-18T13:17:00.481Z"
   },
   {
    "duration": 56,
    "start_time": "2023-12-18T13:17:33.215Z"
   },
   {
    "duration": 55,
    "start_time": "2023-12-18T13:18:32.443Z"
   },
   {
    "duration": 55,
    "start_time": "2023-12-18T13:18:38.400Z"
   },
   {
    "duration": 491,
    "start_time": "2023-12-18T13:19:09.874Z"
   },
   {
    "duration": 8716,
    "start_time": "2023-12-18T13:19:10.367Z"
   },
   {
    "duration": 240,
    "start_time": "2023-12-18T13:19:19.085Z"
   },
   {
    "duration": 52,
    "start_time": "2023-12-18T13:19:19.327Z"
   },
   {
    "duration": 52,
    "start_time": "2023-12-18T13:19:19.381Z"
   },
   {
    "duration": 51,
    "start_time": "2023-12-18T13:19:19.435Z"
   },
   {
    "duration": 53,
    "start_time": "2023-12-18T13:19:19.487Z"
   },
   {
    "duration": 52,
    "start_time": "2023-12-18T13:19:19.541Z"
   },
   {
    "duration": 52,
    "start_time": "2023-12-18T13:19:19.595Z"
   },
   {
    "duration": 52,
    "start_time": "2023-12-18T13:19:19.649Z"
   },
   {
    "duration": 55,
    "start_time": "2023-12-18T13:19:19.703Z"
   },
   {
    "duration": 52,
    "start_time": "2023-12-18T13:19:19.760Z"
   },
   {
    "duration": 52,
    "start_time": "2023-12-18T13:19:19.813Z"
   },
   {
    "duration": 85,
    "start_time": "2023-12-18T13:19:19.867Z"
   },
   {
    "duration": 53,
    "start_time": "2023-12-18T13:19:19.953Z"
   },
   {
    "duration": 56,
    "start_time": "2023-12-18T13:19:20.007Z"
   },
   {
    "duration": 55,
    "start_time": "2023-12-18T13:19:20.064Z"
   },
   {
    "duration": 484,
    "start_time": "2023-12-18T20:38:11.487Z"
   },
   {
    "duration": 4778,
    "start_time": "2023-12-18T20:38:11.973Z"
   },
   {
    "duration": 45,
    "start_time": "2023-12-18T20:38:16.753Z"
   },
   {
    "duration": 7,
    "start_time": "2023-12-18T20:38:16.800Z"
   },
   {
    "duration": 7,
    "start_time": "2023-12-18T20:38:16.809Z"
   },
   {
    "duration": 7,
    "start_time": "2023-12-18T20:38:16.817Z"
   },
   {
    "duration": 8,
    "start_time": "2023-12-18T20:38:16.825Z"
   },
   {
    "duration": 8,
    "start_time": "2023-12-18T20:38:16.834Z"
   },
   {
    "duration": 11,
    "start_time": "2023-12-18T20:38:16.843Z"
   },
   {
    "duration": 7,
    "start_time": "2023-12-18T20:38:16.855Z"
   },
   {
    "duration": 8,
    "start_time": "2023-12-18T20:38:16.863Z"
   },
   {
    "duration": 31,
    "start_time": "2023-12-18T20:38:16.873Z"
   },
   {
    "duration": 7,
    "start_time": "2023-12-18T20:38:16.905Z"
   },
   {
    "duration": 19,
    "start_time": "2023-12-18T20:38:16.914Z"
   },
   {
    "duration": 8,
    "start_time": "2023-12-18T20:38:16.935Z"
   },
   {
    "duration": 12,
    "start_time": "2023-12-18T20:38:16.945Z"
   },
   {
    "duration": 11,
    "start_time": "2023-12-18T20:38:16.958Z"
   }
  ],
  "kernelspec": {
   "display_name": "Python 3 (ipykernel)",
   "language": "python",
   "name": "python3"
  },
  "language_info": {
   "codemirror_mode": {
    "name": "ipython",
    "version": 3
   },
   "file_extension": ".py",
   "mimetype": "text/x-python",
   "name": "python",
   "nbconvert_exporter": "python",
   "pygments_lexer": "ipython3",
   "version": "3.9.16"
  },
  "toc": {
   "base_numbering": 1,
   "nav_menu": {},
   "number_sections": true,
   "sideBar": true,
   "skip_h1_title": true,
   "title_cell": "Содержание",
   "title_sidebar": "Содержание",
   "toc_cell": true,
   "toc_position": {
    "height": "calc(100% - 180px)",
    "left": "10px",
    "top": "150px",
    "width": "307.2px"
   },
   "toc_section_display": true,
   "toc_window_display": false
  }
 },
 "nbformat": 4,
 "nbformat_minor": 5
}
