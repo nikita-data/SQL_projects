{
 "cells": [
  {
   "cell_type": "markdown",
   "metadata": {
    "toc": true
   },
   "source": [
    "<h1>SQL запросы портала SQL-EX<span class=\"tocSkip\"></span></h1>\n",
    "<div class=\"toc\"><ul class=\"toc-item\"><li><span><a href=\"#Импорт-библиотек-и-подключение-к-базе-данных-с-помощью-Python\" data-toc-modified-id=\"Импорт-библиотек-и-подключение-к-базе-данных-с-помощью-Python-1\"><span class=\"toc-item-num\">1&nbsp;&nbsp;</span>Импорт библиотек и подключение к базе данных с помощью Python</a></span></li><li><span><a href=\"#SQL-EX-задачи\" data-toc-modified-id=\"SQL-EX-задачи-2\"><span class=\"toc-item-num\">2&nbsp;&nbsp;</span>SQL-EX задачи</a></span><ul class=\"toc-item\"><li><span><a href=\"#№1\" data-toc-modified-id=\"№1-2.1\"><span class=\"toc-item-num\">2.1&nbsp;&nbsp;</span>№1</a></span></li><li><span><a href=\"#№2\" data-toc-modified-id=\"№2-2.2\"><span class=\"toc-item-num\">2.2&nbsp;&nbsp;</span>№2</a></span></li><li><span><a href=\"#№3\" data-toc-modified-id=\"№3-2.3\"><span class=\"toc-item-num\">2.3&nbsp;&nbsp;</span>№3</a></span></li><li><span><a href=\"#№4\" data-toc-modified-id=\"№4-2.4\"><span class=\"toc-item-num\">2.4&nbsp;&nbsp;</span>№4</a></span></li><li><span><a href=\"#№5\" data-toc-modified-id=\"№5-2.5\"><span class=\"toc-item-num\">2.5&nbsp;&nbsp;</span>№5</a></span></li><li><span><a href=\"#№6\" data-toc-modified-id=\"№6-2.6\"><span class=\"toc-item-num\">2.6&nbsp;&nbsp;</span>№6</a></span></li><li><span><a href=\"#№7\" data-toc-modified-id=\"№7-2.7\"><span class=\"toc-item-num\">2.7&nbsp;&nbsp;</span>№7</a></span></li><li><span><a href=\"#№8\" data-toc-modified-id=\"№8-2.8\"><span class=\"toc-item-num\">2.8&nbsp;&nbsp;</span>№8</a></span></li><li><span><a href=\"#№9\" data-toc-modified-id=\"№9-2.9\"><span class=\"toc-item-num\">2.9&nbsp;&nbsp;</span>№9</a></span></li><li><span><a href=\"#№10\" data-toc-modified-id=\"№10-2.10\"><span class=\"toc-item-num\">2.10&nbsp;&nbsp;</span>№10</a></span></li><li><span><a href=\"#№11\" data-toc-modified-id=\"№11-2.11\"><span class=\"toc-item-num\">2.11&nbsp;&nbsp;</span>№11</a></span></li><li><span><a href=\"#№12\" data-toc-modified-id=\"№12-2.12\"><span class=\"toc-item-num\">2.12&nbsp;&nbsp;</span>№12</a></span></li><li><span><a href=\"#№13\" data-toc-modified-id=\"№13-2.13\"><span class=\"toc-item-num\">2.13&nbsp;&nbsp;</span>№13</a></span></li><li><span><a href=\"#№14\" data-toc-modified-id=\"№14-2.14\"><span class=\"toc-item-num\">2.14&nbsp;&nbsp;</span>№14</a></span></li><li><span><a href=\"#№15\" data-toc-modified-id=\"№15-2.15\"><span class=\"toc-item-num\">2.15&nbsp;&nbsp;</span>№15</a></span></li><li><span><a href=\"#№16\" data-toc-modified-id=\"№16-2.16\"><span class=\"toc-item-num\">2.16&nbsp;&nbsp;</span>№16</a></span></li><li><span><a href=\"#№17\" data-toc-modified-id=\"№17-2.17\"><span class=\"toc-item-num\">2.17&nbsp;&nbsp;</span>№17</a></span></li><li><span><a href=\"#№18\" data-toc-modified-id=\"№18-2.18\"><span class=\"toc-item-num\">2.18&nbsp;&nbsp;</span>№18</a></span></li><li><span><a href=\"#№19\" data-toc-modified-id=\"№19-2.19\"><span class=\"toc-item-num\">2.19&nbsp;&nbsp;</span>№19</a></span></li><li><span><a href=\"#№20\" data-toc-modified-id=\"№20-2.20\"><span class=\"toc-item-num\">2.20&nbsp;&nbsp;</span>№20</a></span></li><li><span><a href=\"#№21\" data-toc-modified-id=\"№21-2.21\"><span class=\"toc-item-num\">2.21&nbsp;&nbsp;</span>№21</a></span></li><li><span><a href=\"#№22\" data-toc-modified-id=\"№22-2.22\"><span class=\"toc-item-num\">2.22&nbsp;&nbsp;</span>№22</a></span></li><li><span><a href=\"#№23\" data-toc-modified-id=\"№23-2.23\"><span class=\"toc-item-num\">2.23&nbsp;&nbsp;</span>№23</a></span></li><li><span><a href=\"#№24\" data-toc-modified-id=\"№24-2.24\"><span class=\"toc-item-num\">2.24&nbsp;&nbsp;</span>№24</a></span></li><li><span><a href=\"#№25\" data-toc-modified-id=\"№25-2.25\"><span class=\"toc-item-num\">2.25&nbsp;&nbsp;</span>№25</a></span></li><li><span><a href=\"#№26\" data-toc-modified-id=\"№26-2.26\"><span class=\"toc-item-num\">2.26&nbsp;&nbsp;</span>№26</a></span></li><li><span><a href=\"#№27\" data-toc-modified-id=\"№27-2.27\"><span class=\"toc-item-num\">2.27&nbsp;&nbsp;</span>№27</a></span></li><li><span><a href=\"#№28\" data-toc-modified-id=\"№28-2.28\"><span class=\"toc-item-num\">2.28&nbsp;&nbsp;</span>№28</a></span></li><li><span><a href=\"#№29\" data-toc-modified-id=\"№29-2.29\"><span class=\"toc-item-num\">2.29&nbsp;&nbsp;</span>№29</a></span></li><li><span><a href=\"#№30\" data-toc-modified-id=\"№30-2.30\"><span class=\"toc-item-num\">2.30&nbsp;&nbsp;</span>№30</a></span></li><li><span><a href=\"#№31\" data-toc-modified-id=\"№31-2.31\"><span class=\"toc-item-num\">2.31&nbsp;&nbsp;</span>№31</a></span></li><li><span><a href=\"#№32\" data-toc-modified-id=\"№32-2.32\"><span class=\"toc-item-num\">2.32&nbsp;&nbsp;</span>№32</a></span></li><li><span><a href=\"#№33\" data-toc-modified-id=\"№33-2.33\"><span class=\"toc-item-num\">2.33&nbsp;&nbsp;</span>№33</a></span></li><li><span><a href=\"#№34\" data-toc-modified-id=\"№34-2.34\"><span class=\"toc-item-num\">2.34&nbsp;&nbsp;</span>№34</a></span></li><li><span><a href=\"#№35\" data-toc-modified-id=\"№35-2.35\"><span class=\"toc-item-num\">2.35&nbsp;&nbsp;</span>№35</a></span></li><li><span><a href=\"#№36\" data-toc-modified-id=\"№36-2.36\"><span class=\"toc-item-num\">2.36&nbsp;&nbsp;</span>№36</a></span></li><li><span><a href=\"#№37\" data-toc-modified-id=\"№37-2.37\"><span class=\"toc-item-num\">2.37&nbsp;&nbsp;</span>№37</a></span></li><li><span><a href=\"#№38\" data-toc-modified-id=\"№38-2.38\"><span class=\"toc-item-num\">2.38&nbsp;&nbsp;</span>№38</a></span></li></ul></li></ul></div>"
   ]
  },
  {
   "cell_type": "markdown",
   "metadata": {
    "id": "Et6qkhBrW6k_"
   },
   "source": [
    "В рамках данного проекта я напишу рабочие SQL запросы для решения задач на портале SQL-EX. Дамп базы данных развёрнут на локальном сервере и находится в созданной мной базе данных sql-ex.Для всех запросов будет использована СУБД PostgreSQL. Ниже представлена ER-диаграмма базы данных компьютерной фирмы,базы данных кораблей, участвовавших во второй мировой войне и базы данных фирмы вторсырья. Все последующие запросы будут из этих баз данных.Написание запросов будет продублировано в лк портала, там же будет осуществлена проверка на правильность результата. Скрипт БД находится по [ссылке](https://sql-ex.ru/db_script_download.php)  ![image.png](data:image/png;base64,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)         \n"
   ]
  },
  {
   "attachments": {
    "image.png": {
     "image/png": "[encoded data removed]"
    }
   },
   "cell_type": "markdown",
   "metadata": {},
   "source": [
    "![image.png](attachment:image.png)"
   ]
  },
  {
   "attachments": {
    "image.png": {
     "image/png": "[encoded data removed]"
    }
   },
   "cell_type": "markdown",
   "metadata": {},
   "source": [
    "![image.png](attachment:image.png)"
   ]
  },
  {
   "cell_type": "markdown",
   "metadata": {
    "id": "oPIqC1FLWMB-"
   },
   "source": [
    "## Импорт библиотек и подключение к базе данных с помощью Python"
   ]
  },
  {
   "cell_type": "markdown",
   "metadata": {
    "id": "9G-n28remmGv"
   },
   "source": [
    "Для подключения к базе данных часто используют библиотеку SQLAlchemy — она одна из самых распространённых."
   ]
  },
  {
   "cell_type": "code",
   "execution_count": 1,
   "metadata": {
    "id": "IBjXxFaEW0BT"
   },
   "outputs": [],
   "source": [
    "import pandas as pd\n",
    "\n",
    "# Функция create_engine() из библиотеки SQLAlchemy служит для подключения к базе данных и выполнения SQL-запроса\n",
    "from sqlalchemy import create_engine"
   ]
  },
  {
   "cell_type": "markdown",
   "metadata": {
    "id": "hhHjo7y7nQjI"
   },
   "source": [
    "Для подключения к базе данных вам понадобится:\n",
    "- имя пользователя базы данных и пароль;\n",
    "- адрес сервера базы данных, включая порт;\n",
    "- название базы данных.\n",
    "\n",
    "Эти данные удобно записать в объект, чтобы потом их было легко поправить. Для подключения к базе данных Практикума используйте следующие данные:"
   ]
  },
  {
   "cell_type": "code",
   "execution_count": 2,
   "metadata": {
    "id": "4kjzkXWxW0E2"
   },
   "outputs": [],
   "source": [
    "db_config = {\n",
    "    'user': 'postgres', # имя пользователя\n",
    "    'pwd': '5432', # пароль\n",
    "    'host': 'localhost', #устройство\n",
    "    'port': 5432, # порт подключения\n",
    "    'db': 'sql-ex' # название базы данных\n",
    "}"
   ]
  },
  {
   "cell_type": "markdown",
   "metadata": {
    "id": "LzXXfdw8nyc4"
   },
   "source": [
    "После того как данные для авторизации записаны в объект db_config, нужно передать функции create_engine() строку для соединения с базой данных. Строка содержит информацию об используемой СУБД, а также все данные для авторизации."
   ]
  },
  {
   "cell_type": "markdown",
   "metadata": {
    "id": "KR9MPWS_oDj1"
   },
   "source": [
    "Строку для подключения можно сформировать с помощью метода .format()"
   ]
  },
  {
   "cell_type": "code",
   "execution_count": 3,
   "metadata": {
    "id": "7bG9QkEBW0IV"
   },
   "outputs": [],
   "source": [
    "connection_string = 'postgresql://{}:{}@{}:{}/{}'.format(\n",
    "    db_config['user'],\n",
    "    db_config['pwd'],\n",
    "    db_config['host'],\n",
    "    db_config['port'],\n",
    "    db_config['db'],\n",
    ")"
   ]
  },
  {
   "cell_type": "markdown",
   "metadata": {
    "id": "UTovFuPgoMeY"
   },
   "source": [
    "Чтобы создать соединение, строку с данными для подключения передают функции create_engine()"
   ]
  },
  {
   "cell_type": "code",
   "execution_count": 4,
   "metadata": {
    "id": "gotpT-jfW0LY"
   },
   "outputs": [],
   "source": [
    "engine = create_engine(connection_string)"
   ]
  },
  {
   "cell_type": "markdown",
   "metadata": {
    "id": "7a57h6aToZMP"
   },
   "source": [
    "Готово! К базе подключились, теперь можно извлекать результаты SQL-запроса"
   ]
  },
  {
   "cell_type": "markdown",
   "metadata": {
    "id": "lpoWqeTCo2tz"
   },
   "source": [
    "## SQL-EX задачи"
   ]
  },
  {
   "cell_type": "markdown",
   "metadata": {
    "id": "uWZ8ofbupQuj"
   },
   "source": [
    "### №1"
   ]
  },
  {
   "cell_type": "markdown",
   "metadata": {
    "id": "YiLJDDxSpanp"
   },
   "source": [
    "Найдите номер модели, скорость и размер жесткого диска для всех ПК стоимостью менее 500 дол. Вывести: model, speed и hd"
   ]
  },
  {
   "cell_type": "code",
   "execution_count": 5,
   "metadata": {
    "id": "EZ7eNv8JW0R_"
   },
   "outputs": [],
   "source": [
    "query = '''\n",
    "SELECT\n",
    "pc.model,\n",
    "pc.speed,\n",
    "pc.hd\n",
    "FROM pc\n",
    "WHERE \n",
    "pc.price <500\n",
    "'''"
   ]
  },
  {
   "cell_type": "code",
   "execution_count": 6,
   "metadata": {
    "colab": {
     "base_uri": "https://localhost:8080/",
     "height": 321
    },
    "id": "HUG-phCwquPy",
    "outputId": "0561f871-92a1-4b34-9626-812486fc9b20"
   },
   "outputs": [],
   "source": [
    "data = pd.read_sql_query(query, con = engine)"
   ]
  },
  {
   "cell_type": "code",
   "execution_count": 7,
   "metadata": {
    "id": "F__9dPvarSRK"
   },
   "outputs": [
    {
     "data": {
      "text/html": [
       "<div>\n",
       "<style scoped>\n",
       "    .dataframe tbody tr th:only-of-type {\n",
       "        vertical-align: middle;\n",
       "    }\n",
       "\n",
       "    .dataframe tbody tr th {\n",
       "        vertical-align: top;\n",
       "    }\n",
       "\n",
       "    .dataframe thead th {\n",
       "        text-align: right;\n",
       "    }\n",
       "</style>\n",
       "<table border=\"1\" class=\"dataframe\">\n",
       "  <thead>\n",
       "    <tr style=\"text-align: right;\">\n",
       "      <th></th>\n",
       "      <th>model</th>\n",
       "      <th>speed</th>\n",
       "      <th>hd</th>\n",
       "    </tr>\n",
       "  </thead>\n",
       "  <tbody>\n",
       "    <tr>\n",
       "      <th>0</th>\n",
       "      <td>1232</td>\n",
       "      <td>500</td>\n",
       "      <td>10.0</td>\n",
       "    </tr>\n",
       "    <tr>\n",
       "      <th>1</th>\n",
       "      <td>1232</td>\n",
       "      <td>450</td>\n",
       "      <td>8.0</td>\n",
       "    </tr>\n",
       "    <tr>\n",
       "      <th>2</th>\n",
       "      <td>1232</td>\n",
       "      <td>450</td>\n",
       "      <td>10.0</td>\n",
       "    </tr>\n",
       "    <tr>\n",
       "      <th>3</th>\n",
       "      <td>1260</td>\n",
       "      <td>500</td>\n",
       "      <td>10.0</td>\n",
       "    </tr>\n",
       "  </tbody>\n",
       "</table>\n",
       "</div>"
      ],
      "text/plain": [
       "  model  speed    hd\n",
       "0  1232    500  10.0\n",
       "1  1232    450   8.0\n",
       "2  1232    450  10.0\n",
       "3  1260    500  10.0"
      ]
     },
     "execution_count": 7,
     "metadata": {},
     "output_type": "execute_result"
    }
   ],
   "source": [
    "data"
   ]
  },
  {
   "cell_type": "markdown",
   "metadata": {},
   "source": [
    "### №2"
   ]
  },
  {
   "cell_type": "markdown",
   "metadata": {},
   "source": [
    "Найдите производителей принтеров. Вывести: maker"
   ]
  },
  {
   "cell_type": "code",
   "execution_count": 8,
   "metadata": {},
   "outputs": [],
   "source": [
    "query = '''\n",
    "SELECT\n",
    "maker \n",
    "FROM Product \n",
    "WHERE type = 'Printer' \n",
    "GROUP BY maker\n",
    "'''"
   ]
  },
  {
   "cell_type": "code",
   "execution_count": 9,
   "metadata": {},
   "outputs": [],
   "source": [
    "data = pd.read_sql_query(query, con = engine)"
   ]
  },
  {
   "cell_type": "code",
   "execution_count": 10,
   "metadata": {},
   "outputs": [
    {
     "data": {
      "text/html": [
       "<div>\n",
       "<style scoped>\n",
       "    .dataframe tbody tr th:only-of-type {\n",
       "        vertical-align: middle;\n",
       "    }\n",
       "\n",
       "    .dataframe tbody tr th {\n",
       "        vertical-align: top;\n",
       "    }\n",
       "\n",
       "    .dataframe thead th {\n",
       "        text-align: right;\n",
       "    }\n",
       "</style>\n",
       "<table border=\"1\" class=\"dataframe\">\n",
       "  <thead>\n",
       "    <tr style=\"text-align: right;\">\n",
       "      <th></th>\n",
       "      <th>maker</th>\n",
       "    </tr>\n",
       "  </thead>\n",
       "  <tbody>\n",
       "    <tr>\n",
       "      <th>0</th>\n",
       "      <td>A</td>\n",
       "    </tr>\n",
       "    <tr>\n",
       "      <th>1</th>\n",
       "      <td>D</td>\n",
       "    </tr>\n",
       "    <tr>\n",
       "      <th>2</th>\n",
       "      <td>E</td>\n",
       "    </tr>\n",
       "  </tbody>\n",
       "</table>\n",
       "</div>"
      ],
      "text/plain": [
       "  maker\n",
       "0     A\n",
       "1     D\n",
       "2     E"
      ]
     },
     "execution_count": 10,
     "metadata": {},
     "output_type": "execute_result"
    }
   ],
   "source": [
    "data"
   ]
  },
  {
   "cell_type": "markdown",
   "metadata": {},
   "source": [
    "### №3"
   ]
  },
  {
   "cell_type": "markdown",
   "metadata": {},
   "source": [
    "Найдите номер модели, объем памяти и размеры экранов ПК-блокнотов, цена которых превышает 1000 дол.\n"
   ]
  },
  {
   "cell_type": "code",
   "execution_count": 11,
   "metadata": {},
   "outputs": [],
   "source": [
    "query = '''\n",
    "SELECT\n",
    "model,\n",
    "ram,\n",
    "screen\n",
    "FROM Laptop\n",
    "WHERE price>1000\n",
    "'''"
   ]
  },
  {
   "cell_type": "code",
   "execution_count": 12,
   "metadata": {},
   "outputs": [],
   "source": [
    "data = pd.read_sql_query(query, con = engine)"
   ]
  },
  {
   "cell_type": "code",
   "execution_count": 13,
   "metadata": {},
   "outputs": [
    {
     "data": {
      "text/html": [
       "<div>\n",
       "<style scoped>\n",
       "    .dataframe tbody tr th:only-of-type {\n",
       "        vertical-align: middle;\n",
       "    }\n",
       "\n",
       "    .dataframe tbody tr th {\n",
       "        vertical-align: top;\n",
       "    }\n",
       "\n",
       "    .dataframe thead th {\n",
       "        text-align: right;\n",
       "    }\n",
       "</style>\n",
       "<table border=\"1\" class=\"dataframe\">\n",
       "  <thead>\n",
       "    <tr style=\"text-align: right;\">\n",
       "      <th></th>\n",
       "      <th>model</th>\n",
       "      <th>ram</th>\n",
       "      <th>screen</th>\n",
       "    </tr>\n",
       "  </thead>\n",
       "  <tbody>\n",
       "    <tr>\n",
       "      <th>0</th>\n",
       "      <td>1750</td>\n",
       "      <td>128</td>\n",
       "      <td>14</td>\n",
       "    </tr>\n",
       "    <tr>\n",
       "      <th>1</th>\n",
       "      <td>1298</td>\n",
       "      <td>64</td>\n",
       "      <td>15</td>\n",
       "    </tr>\n",
       "    <tr>\n",
       "      <th>2</th>\n",
       "      <td>1752</td>\n",
       "      <td>128</td>\n",
       "      <td>14</td>\n",
       "    </tr>\n",
       "  </tbody>\n",
       "</table>\n",
       "</div>"
      ],
      "text/plain": [
       "  model  ram  screen\n",
       "0  1750  128      14\n",
       "1  1298   64      15\n",
       "2  1752  128      14"
      ]
     },
     "execution_count": 13,
     "metadata": {},
     "output_type": "execute_result"
    }
   ],
   "source": [
    "data"
   ]
  },
  {
   "cell_type": "markdown",
   "metadata": {},
   "source": [
    "### №4"
   ]
  },
  {
   "cell_type": "markdown",
   "metadata": {},
   "source": [
    "Найдите все записи таблицы Printer для цветных принтеров."
   ]
  },
  {
   "cell_type": "code",
   "execution_count": 14,
   "metadata": {},
   "outputs": [],
   "source": [
    "query = '''\n",
    "SELECT\n",
    "*\n",
    "FROM Printer\n",
    "WHERE color = 'y'\n",
    "'''"
   ]
  },
  {
   "cell_type": "code",
   "execution_count": 15,
   "metadata": {},
   "outputs": [],
   "source": [
    "data = pd.read_sql_query(query, con = engine)"
   ]
  },
  {
   "cell_type": "code",
   "execution_count": 16,
   "metadata": {},
   "outputs": [
    {
     "data": {
      "text/html": [
       "<div>\n",
       "<style scoped>\n",
       "    .dataframe tbody tr th:only-of-type {\n",
       "        vertical-align: middle;\n",
       "    }\n",
       "\n",
       "    .dataframe tbody tr th {\n",
       "        vertical-align: top;\n",
       "    }\n",
       "\n",
       "    .dataframe thead th {\n",
       "        text-align: right;\n",
       "    }\n",
       "</style>\n",
       "<table border=\"1\" class=\"dataframe\">\n",
       "  <thead>\n",
       "    <tr style=\"text-align: right;\">\n",
       "      <th></th>\n",
       "      <th>code</th>\n",
       "      <th>model</th>\n",
       "      <th>color</th>\n",
       "      <th>type</th>\n",
       "      <th>price</th>\n",
       "    </tr>\n",
       "  </thead>\n",
       "  <tbody>\n",
       "    <tr>\n",
       "      <th>0</th>\n",
       "      <td>2</td>\n",
       "      <td>1433</td>\n",
       "      <td>y</td>\n",
       "      <td>Jet</td>\n",
       "      <td>270.0</td>\n",
       "    </tr>\n",
       "    <tr>\n",
       "      <th>1</th>\n",
       "      <td>3</td>\n",
       "      <td>1434</td>\n",
       "      <td>y</td>\n",
       "      <td>Jet</td>\n",
       "      <td>290.0</td>\n",
       "    </tr>\n",
       "  </tbody>\n",
       "</table>\n",
       "</div>"
      ],
      "text/plain": [
       "   code model color type  price\n",
       "0     2  1433     y  Jet  270.0\n",
       "1     3  1434     y  Jet  290.0"
      ]
     },
     "execution_count": 16,
     "metadata": {},
     "output_type": "execute_result"
    }
   ],
   "source": [
    "data"
   ]
  },
  {
   "cell_type": "markdown",
   "metadata": {},
   "source": [
    "### №5"
   ]
  },
  {
   "cell_type": "markdown",
   "metadata": {},
   "source": [
    "Найдите номер модели, скорость и размер жесткого диска ПК, имеющих 12x или 24x CD и цену менее 600 дол."
   ]
  },
  {
   "cell_type": "code",
   "execution_count": 17,
   "metadata": {},
   "outputs": [],
   "source": [
    "query = '''\n",
    "SELECT\n",
    "model,\n",
    "speed,\n",
    "hd\n",
    "FROM \n",
    "pc\n",
    "WHERE\n",
    "(cd = '12x' OR cd = '24x') AND\n",
    "price <600\n",
    "'''"
   ]
  },
  {
   "cell_type": "code",
   "execution_count": 18,
   "metadata": {},
   "outputs": [],
   "source": [
    "data = pd.read_sql_query(query, con = engine)"
   ]
  },
  {
   "cell_type": "code",
   "execution_count": 19,
   "metadata": {},
   "outputs": [
    {
     "data": {
      "text/html": [
       "<div>\n",
       "<style scoped>\n",
       "    .dataframe tbody tr th:only-of-type {\n",
       "        vertical-align: middle;\n",
       "    }\n",
       "\n",
       "    .dataframe tbody tr th {\n",
       "        vertical-align: top;\n",
       "    }\n",
       "\n",
       "    .dataframe thead th {\n",
       "        text-align: right;\n",
       "    }\n",
       "</style>\n",
       "<table border=\"1\" class=\"dataframe\">\n",
       "  <thead>\n",
       "    <tr style=\"text-align: right;\">\n",
       "      <th></th>\n",
       "      <th>model</th>\n",
       "      <th>speed</th>\n",
       "      <th>hd</th>\n",
       "    </tr>\n",
       "  </thead>\n",
       "  <tbody>\n",
       "    <tr>\n",
       "      <th>0</th>\n",
       "      <td>1232</td>\n",
       "      <td>500</td>\n",
       "      <td>10.0</td>\n",
       "    </tr>\n",
       "    <tr>\n",
       "      <th>1</th>\n",
       "      <td>1232</td>\n",
       "      <td>450</td>\n",
       "      <td>8.0</td>\n",
       "    </tr>\n",
       "    <tr>\n",
       "      <th>2</th>\n",
       "      <td>1232</td>\n",
       "      <td>450</td>\n",
       "      <td>10.0</td>\n",
       "    </tr>\n",
       "    <tr>\n",
       "      <th>3</th>\n",
       "      <td>1260</td>\n",
       "      <td>500</td>\n",
       "      <td>10.0</td>\n",
       "    </tr>\n",
       "  </tbody>\n",
       "</table>\n",
       "</div>"
      ],
      "text/plain": [
       "  model  speed    hd\n",
       "0  1232    500  10.0\n",
       "1  1232    450   8.0\n",
       "2  1232    450  10.0\n",
       "3  1260    500  10.0"
      ]
     },
     "execution_count": 19,
     "metadata": {},
     "output_type": "execute_result"
    }
   ],
   "source": [
    "data"
   ]
  },
  {
   "cell_type": "markdown",
   "metadata": {},
   "source": [
    "### №6"
   ]
  },
  {
   "cell_type": "markdown",
   "metadata": {},
   "source": [
    "Для каждого производителя, выпускающего ПК-блокноты c объёмом жесткого диска не менее 10 Гбайт, найти скорости таких ПК-блокнотов. Вывод: производитель, скорость."
   ]
  },
  {
   "cell_type": "code",
   "execution_count": 20,
   "metadata": {},
   "outputs": [],
   "source": [
    "query = '''\n",
    "SELECT\n",
    "DISTINCT p.maker,\n",
    "l.speed\n",
    "FROM\n",
    "laptop AS l\n",
    "LEFT JOIN product AS p ON l.model = p.model\n",
    "WHERE \n",
    "l.hd >= 10 \n",
    "\n",
    "\n",
    "'''"
   ]
  },
  {
   "cell_type": "code",
   "execution_count": 21,
   "metadata": {},
   "outputs": [],
   "source": [
    "data = pd.read_sql_query(query,con = engine)"
   ]
  },
  {
   "cell_type": "code",
   "execution_count": 22,
   "metadata": {},
   "outputs": [
    {
     "data": {
      "text/html": [
       "<div>\n",
       "<style scoped>\n",
       "    .dataframe tbody tr th:only-of-type {\n",
       "        vertical-align: middle;\n",
       "    }\n",
       "\n",
       "    .dataframe tbody tr th {\n",
       "        vertical-align: top;\n",
       "    }\n",
       "\n",
       "    .dataframe thead th {\n",
       "        text-align: right;\n",
       "    }\n",
       "</style>\n",
       "<table border=\"1\" class=\"dataframe\">\n",
       "  <thead>\n",
       "    <tr style=\"text-align: right;\">\n",
       "      <th></th>\n",
       "      <th>maker</th>\n",
       "      <th>speed</th>\n",
       "    </tr>\n",
       "  </thead>\n",
       "  <tbody>\n",
       "    <tr>\n",
       "      <th>0</th>\n",
       "      <td>A</td>\n",
       "      <td>750</td>\n",
       "    </tr>\n",
       "    <tr>\n",
       "      <th>1</th>\n",
       "      <td>A</td>\n",
       "      <td>450</td>\n",
       "    </tr>\n",
       "    <tr>\n",
       "      <th>2</th>\n",
       "      <td>A</td>\n",
       "      <td>600</td>\n",
       "    </tr>\n",
       "    <tr>\n",
       "      <th>3</th>\n",
       "      <td>B</td>\n",
       "      <td>750</td>\n",
       "    </tr>\n",
       "  </tbody>\n",
       "</table>\n",
       "</div>"
      ],
      "text/plain": [
       "  maker  speed\n",
       "0     A    750\n",
       "1     A    450\n",
       "2     A    600\n",
       "3     B    750"
      ]
     },
     "execution_count": 22,
     "metadata": {},
     "output_type": "execute_result"
    }
   ],
   "source": [
    "data"
   ]
  },
  {
   "cell_type": "markdown",
   "metadata": {},
   "source": [
    "### №7"
   ]
  },
  {
   "cell_type": "markdown",
   "metadata": {},
   "source": [
    "Найдите номера моделей и цены всех имеющихся в продаже продуктов (любого типа) производителя B (латинская буква)."
   ]
  },
  {
   "cell_type": "code",
   "execution_count": 23,
   "metadata": {},
   "outputs": [],
   "source": [
    "query = '''\n",
    "SELECT\n",
    "DISTINCT st.model,\n",
    "st.price\n",
    "FROM\n",
    "(SELECT\n",
    "DISTINCT p.model,\n",
    "pc.price\n",
    "FROM\n",
    "product AS p\n",
    " JOIN pc ON p.model = pc.model\n",
    "WHERE p.maker LIKE 'B'\n",
    "UNION \n",
    "SELECT\n",
    "DISTINCT p.model,\n",
    "l.price\n",
    "FROM\n",
    "product AS p\n",
    " JOIN laptop AS l ON p.model = l.model\n",
    "WHERE p.maker LIKE 'B'\n",
    "UNION \n",
    "SELECT\n",
    "DISTINCT p.model,\n",
    "pr.price\n",
    "FROM\n",
    "product AS p\n",
    " JOIN printer AS pr ON p.model = pr.model\n",
    "WHERE p.maker LIKE 'B') AS st\n",
    "\n",
    "'''"
   ]
  },
  {
   "cell_type": "code",
   "execution_count": 24,
   "metadata": {},
   "outputs": [],
   "source": [
    "data = pd.read_sql_query(query,con = engine)"
   ]
  },
  {
   "cell_type": "code",
   "execution_count": 25,
   "metadata": {},
   "outputs": [
    {
     "data": {
      "text/html": [
       "<div>\n",
       "<style scoped>\n",
       "    .dataframe tbody tr th:only-of-type {\n",
       "        vertical-align: middle;\n",
       "    }\n",
       "\n",
       "    .dataframe tbody tr th {\n",
       "        vertical-align: top;\n",
       "    }\n",
       "\n",
       "    .dataframe thead th {\n",
       "        text-align: right;\n",
       "    }\n",
       "</style>\n",
       "<table border=\"1\" class=\"dataframe\">\n",
       "  <thead>\n",
       "    <tr style=\"text-align: right;\">\n",
       "      <th></th>\n",
       "      <th>model</th>\n",
       "      <th>price</th>\n",
       "    </tr>\n",
       "  </thead>\n",
       "  <tbody>\n",
       "    <tr>\n",
       "      <th>0</th>\n",
       "      <td>1121</td>\n",
       "      <td>850.0</td>\n",
       "    </tr>\n",
       "    <tr>\n",
       "      <th>1</th>\n",
       "      <td>1750</td>\n",
       "      <td>1200.0</td>\n",
       "    </tr>\n",
       "  </tbody>\n",
       "</table>\n",
       "</div>"
      ],
      "text/plain": [
       "  model   price\n",
       "0  1121   850.0\n",
       "1  1750  1200.0"
      ]
     },
     "execution_count": 25,
     "metadata": {},
     "output_type": "execute_result"
    }
   ],
   "source": [
    "data"
   ]
  },
  {
   "cell_type": "markdown",
   "metadata": {},
   "source": [
    "### №8"
   ]
  },
  {
   "cell_type": "markdown",
   "metadata": {},
   "source": [
    "Найдите производителя, выпускающего ПК, но не ПК-блокноты."
   ]
  },
  {
   "cell_type": "code",
   "execution_count": 26,
   "metadata": {},
   "outputs": [],
   "source": [
    "query = '''\n",
    "SELECT\n",
    "DISTINCT p.maker \n",
    "FROM \n",
    "product AS p\n",
    "WHERE p.type LIKE 'PC'\n",
    "EXCEPT \n",
    "SELECT\n",
    "DISTINCT p.maker \n",
    "FROM \n",
    "product AS p\n",
    "WHERE p.type LIKE 'Laptop'\n",
    "'''"
   ]
  },
  {
   "cell_type": "code",
   "execution_count": 27,
   "metadata": {},
   "outputs": [],
   "source": [
    "data = pd.read_sql_query(query,con = engine)"
   ]
  },
  {
   "cell_type": "code",
   "execution_count": 28,
   "metadata": {},
   "outputs": [
    {
     "data": {
      "text/html": [
       "<div>\n",
       "<style scoped>\n",
       "    .dataframe tbody tr th:only-of-type {\n",
       "        vertical-align: middle;\n",
       "    }\n",
       "\n",
       "    .dataframe tbody tr th {\n",
       "        vertical-align: top;\n",
       "    }\n",
       "\n",
       "    .dataframe thead th {\n",
       "        text-align: right;\n",
       "    }\n",
       "</style>\n",
       "<table border=\"1\" class=\"dataframe\">\n",
       "  <thead>\n",
       "    <tr style=\"text-align: right;\">\n",
       "      <th></th>\n",
       "      <th>maker</th>\n",
       "    </tr>\n",
       "  </thead>\n",
       "  <tbody>\n",
       "    <tr>\n",
       "      <th>0</th>\n",
       "      <td>E</td>\n",
       "    </tr>\n",
       "  </tbody>\n",
       "</table>\n",
       "</div>"
      ],
      "text/plain": [
       "  maker\n",
       "0     E"
      ]
     },
     "execution_count": 28,
     "metadata": {},
     "output_type": "execute_result"
    }
   ],
   "source": [
    "data"
   ]
  },
  {
   "cell_type": "markdown",
   "metadata": {},
   "source": [
    "### №9"
   ]
  },
  {
   "cell_type": "markdown",
   "metadata": {},
   "source": [
    "Найдите производителей ПК с процессором не менее 450 Мгц. Вывести: Maker"
   ]
  },
  {
   "cell_type": "code",
   "execution_count": 29,
   "metadata": {},
   "outputs": [],
   "source": [
    "query = '''\n",
    "SELECT\n",
    "DISTINCT p.maker\n",
    "FROM\n",
    "product AS p\n",
    "INNER JOIN\n",
    "(SELECT\n",
    "*\n",
    "FROM \n",
    "pc\n",
    "WHERE pc.speed >= 450) \n",
    "AS q ON p.model = q.model\n",
    "'''"
   ]
  },
  {
   "cell_type": "code",
   "execution_count": 30,
   "metadata": {},
   "outputs": [],
   "source": [
    "data = pd.read_sql_query(query,con = engine)"
   ]
  },
  {
   "cell_type": "code",
   "execution_count": 31,
   "metadata": {},
   "outputs": [
    {
     "data": {
      "text/html": [
       "<div>\n",
       "<style scoped>\n",
       "    .dataframe tbody tr th:only-of-type {\n",
       "        vertical-align: middle;\n",
       "    }\n",
       "\n",
       "    .dataframe tbody tr th {\n",
       "        vertical-align: top;\n",
       "    }\n",
       "\n",
       "    .dataframe thead th {\n",
       "        text-align: right;\n",
       "    }\n",
       "</style>\n",
       "<table border=\"1\" class=\"dataframe\">\n",
       "  <thead>\n",
       "    <tr style=\"text-align: right;\">\n",
       "      <th></th>\n",
       "      <th>maker</th>\n",
       "    </tr>\n",
       "  </thead>\n",
       "  <tbody>\n",
       "    <tr>\n",
       "      <th>0</th>\n",
       "      <td>B</td>\n",
       "    </tr>\n",
       "    <tr>\n",
       "      <th>1</th>\n",
       "      <td>E</td>\n",
       "    </tr>\n",
       "    <tr>\n",
       "      <th>2</th>\n",
       "      <td>A</td>\n",
       "    </tr>\n",
       "  </tbody>\n",
       "</table>\n",
       "</div>"
      ],
      "text/plain": [
       "  maker\n",
       "0     B\n",
       "1     E\n",
       "2     A"
      ]
     },
     "execution_count": 31,
     "metadata": {},
     "output_type": "execute_result"
    }
   ],
   "source": [
    "data"
   ]
  },
  {
   "cell_type": "markdown",
   "metadata": {},
   "source": [
    "### №10"
   ]
  },
  {
   "cell_type": "markdown",
   "metadata": {},
   "source": [
    "Найдите модели принтеров, имеющих самую высокую цену. Вывести: model, price"
   ]
  },
  {
   "cell_type": "code",
   "execution_count": 32,
   "metadata": {},
   "outputs": [],
   "source": [
    "query = '''\n",
    "SELECT\n",
    "p.model,\n",
    "p.price\n",
    "FROM\n",
    "printer AS p\n",
    "WHERE p.price IN(\n",
    "SELECT MAX(price) \n",
    "               FROM Printer)\n",
    "'''"
   ]
  },
  {
   "cell_type": "code",
   "execution_count": 33,
   "metadata": {},
   "outputs": [],
   "source": [
    "data = pd.read_sql_query(query,con = engine)"
   ]
  },
  {
   "cell_type": "code",
   "execution_count": 34,
   "metadata": {},
   "outputs": [
    {
     "data": {
      "text/html": [
       "<div>\n",
       "<style scoped>\n",
       "    .dataframe tbody tr th:only-of-type {\n",
       "        vertical-align: middle;\n",
       "    }\n",
       "\n",
       "    .dataframe tbody tr th {\n",
       "        vertical-align: top;\n",
       "    }\n",
       "\n",
       "    .dataframe thead th {\n",
       "        text-align: right;\n",
       "    }\n",
       "</style>\n",
       "<table border=\"1\" class=\"dataframe\">\n",
       "  <thead>\n",
       "    <tr style=\"text-align: right;\">\n",
       "      <th></th>\n",
       "      <th>model</th>\n",
       "      <th>price</th>\n",
       "    </tr>\n",
       "  </thead>\n",
       "  <tbody>\n",
       "    <tr>\n",
       "      <th>0</th>\n",
       "      <td>1276</td>\n",
       "      <td>400.0</td>\n",
       "    </tr>\n",
       "    <tr>\n",
       "      <th>1</th>\n",
       "      <td>1288</td>\n",
       "      <td>400.0</td>\n",
       "    </tr>\n",
       "  </tbody>\n",
       "</table>\n",
       "</div>"
      ],
      "text/plain": [
       "  model  price\n",
       "0  1276  400.0\n",
       "1  1288  400.0"
      ]
     },
     "execution_count": 34,
     "metadata": {},
     "output_type": "execute_result"
    }
   ],
   "source": [
    "data"
   ]
  },
  {
   "cell_type": "markdown",
   "metadata": {},
   "source": [
    "### №11"
   ]
  },
  {
   "cell_type": "markdown",
   "metadata": {},
   "source": [
    "Найдите среднюю скорость ПК."
   ]
  },
  {
   "cell_type": "code",
   "execution_count": 35,
   "metadata": {},
   "outputs": [],
   "source": [
    "query = '''\n",
    "SELECT\n",
    "AVG(pc.speed)\n",
    "FROM pc\n",
    "'''"
   ]
  },
  {
   "cell_type": "code",
   "execution_count": 36,
   "metadata": {},
   "outputs": [],
   "source": [
    "data = pd.read_sql_query(query,con = engine)"
   ]
  },
  {
   "cell_type": "code",
   "execution_count": 37,
   "metadata": {},
   "outputs": [
    {
     "data": {
      "text/html": [
       "<div>\n",
       "<style scoped>\n",
       "    .dataframe tbody tr th:only-of-type {\n",
       "        vertical-align: middle;\n",
       "    }\n",
       "\n",
       "    .dataframe tbody tr th {\n",
       "        vertical-align: top;\n",
       "    }\n",
       "\n",
       "    .dataframe thead th {\n",
       "        text-align: right;\n",
       "    }\n",
       "</style>\n",
       "<table border=\"1\" class=\"dataframe\">\n",
       "  <thead>\n",
       "    <tr style=\"text-align: right;\">\n",
       "      <th></th>\n",
       "      <th>avg</th>\n",
       "    </tr>\n",
       "  </thead>\n",
       "  <tbody>\n",
       "    <tr>\n",
       "      <th>0</th>\n",
       "      <td>608.333333</td>\n",
       "    </tr>\n",
       "  </tbody>\n",
       "</table>\n",
       "</div>"
      ],
      "text/plain": [
       "          avg\n",
       "0  608.333333"
      ]
     },
     "execution_count": 37,
     "metadata": {},
     "output_type": "execute_result"
    }
   ],
   "source": [
    "data"
   ]
  },
  {
   "cell_type": "markdown",
   "metadata": {},
   "source": [
    "### №12"
   ]
  },
  {
   "cell_type": "markdown",
   "metadata": {},
   "source": [
    "Найдите среднюю скорость ПК-блокнотов, цена которых превышает 1000 дол"
   ]
  },
  {
   "cell_type": "code",
   "execution_count": 38,
   "metadata": {},
   "outputs": [],
   "source": [
    "query = '''\n",
    "SELECT\n",
    "AVG(l.speed)\n",
    "FROM\n",
    "laptop AS l\n",
    "WHERE l.price>1000\n",
    "'''"
   ]
  },
  {
   "cell_type": "code",
   "execution_count": 39,
   "metadata": {},
   "outputs": [],
   "source": [
    "data = pd.read_sql_query(query,con = engine)"
   ]
  },
  {
   "cell_type": "code",
   "execution_count": 40,
   "metadata": {},
   "outputs": [
    {
     "data": {
      "text/html": [
       "<div>\n",
       "<style scoped>\n",
       "    .dataframe tbody tr th:only-of-type {\n",
       "        vertical-align: middle;\n",
       "    }\n",
       "\n",
       "    .dataframe tbody tr th {\n",
       "        vertical-align: top;\n",
       "    }\n",
       "\n",
       "    .dataframe thead th {\n",
       "        text-align: right;\n",
       "    }\n",
       "</style>\n",
       "<table border=\"1\" class=\"dataframe\">\n",
       "  <thead>\n",
       "    <tr style=\"text-align: right;\">\n",
       "      <th></th>\n",
       "      <th>avg</th>\n",
       "    </tr>\n",
       "  </thead>\n",
       "  <tbody>\n",
       "    <tr>\n",
       "      <th>0</th>\n",
       "      <td>700.0</td>\n",
       "    </tr>\n",
       "  </tbody>\n",
       "</table>\n",
       "</div>"
      ],
      "text/plain": [
       "     avg\n",
       "0  700.0"
      ]
     },
     "execution_count": 40,
     "metadata": {},
     "output_type": "execute_result"
    }
   ],
   "source": [
    "data"
   ]
  },
  {
   "cell_type": "markdown",
   "metadata": {},
   "source": [
    "### №13"
   ]
  },
  {
   "cell_type": "markdown",
   "metadata": {},
   "source": [
    "Найдите среднюю скорость ПК, выпущенных производителем A."
   ]
  },
  {
   "cell_type": "code",
   "execution_count": 41,
   "metadata": {},
   "outputs": [],
   "source": [
    "query = '''\n",
    "SELECT\n",
    "AVG(pc.speed)\n",
    "FROM\n",
    "pc\n",
    "INNER JOIN product AS p ON pc.model = p.model\n",
    "WHERE p.maker LIKE 'A'\n",
    "'''"
   ]
  },
  {
   "cell_type": "code",
   "execution_count": 42,
   "metadata": {},
   "outputs": [],
   "source": [
    "data = pd.read_sql_query(query,con = engine)"
   ]
  },
  {
   "cell_type": "code",
   "execution_count": 43,
   "metadata": {},
   "outputs": [
    {
     "data": {
      "text/html": [
       "<div>\n",
       "<style scoped>\n",
       "    .dataframe tbody tr th:only-of-type {\n",
       "        vertical-align: middle;\n",
       "    }\n",
       "\n",
       "    .dataframe tbody tr th {\n",
       "        vertical-align: top;\n",
       "    }\n",
       "\n",
       "    .dataframe thead th {\n",
       "        text-align: right;\n",
       "    }\n",
       "</style>\n",
       "<table border=\"1\" class=\"dataframe\">\n",
       "  <thead>\n",
       "    <tr style=\"text-align: right;\">\n",
       "      <th></th>\n",
       "      <th>avg</th>\n",
       "    </tr>\n",
       "  </thead>\n",
       "  <tbody>\n",
       "    <tr>\n",
       "      <th>0</th>\n",
       "      <td>606.25</td>\n",
       "    </tr>\n",
       "  </tbody>\n",
       "</table>\n",
       "</div>"
      ],
      "text/plain": [
       "      avg\n",
       "0  606.25"
      ]
     },
     "execution_count": 43,
     "metadata": {},
     "output_type": "execute_result"
    }
   ],
   "source": [
    "data"
   ]
  },
  {
   "cell_type": "markdown",
   "metadata": {},
   "source": [
    "### №14"
   ]
  },
  {
   "cell_type": "markdown",
   "metadata": {},
   "source": [
    "Найдите класс, имя и страну для кораблей из таблицы Ships, имеющих не менее 10 орудий."
   ]
  },
  {
   "cell_type": "code",
   "execution_count": 44,
   "metadata": {},
   "outputs": [],
   "source": [
    "query = '''\n",
    "SELECT\n",
    "s.class,\n",
    "s.name,\n",
    "c.country\n",
    "FROM\n",
    "Ships AS s\n",
    "JOIN Classes AS c ON s.class = c.class\n",
    "WHERE c.numGuns>=10\n",
    "'''"
   ]
  },
  {
   "cell_type": "code",
   "execution_count": 45,
   "metadata": {},
   "outputs": [],
   "source": [
    "data = pd.read_sql_query(query,con = engine)"
   ]
  },
  {
   "cell_type": "code",
   "execution_count": 46,
   "metadata": {},
   "outputs": [
    {
     "data": {
      "text/html": [
       "<div>\n",
       "<style scoped>\n",
       "    .dataframe tbody tr th:only-of-type {\n",
       "        vertical-align: middle;\n",
       "    }\n",
       "\n",
       "    .dataframe tbody tr th {\n",
       "        vertical-align: top;\n",
       "    }\n",
       "\n",
       "    .dataframe thead th {\n",
       "        text-align: right;\n",
       "    }\n",
       "</style>\n",
       "<table border=\"1\" class=\"dataframe\">\n",
       "  <thead>\n",
       "    <tr style=\"text-align: right;\">\n",
       "      <th></th>\n",
       "      <th>class</th>\n",
       "      <th>name</th>\n",
       "      <th>country</th>\n",
       "    </tr>\n",
       "  </thead>\n",
       "  <tbody>\n",
       "    <tr>\n",
       "      <th>0</th>\n",
       "      <td>Tennessee</td>\n",
       "      <td>California</td>\n",
       "      <td>USA</td>\n",
       "    </tr>\n",
       "    <tr>\n",
       "      <th>1</th>\n",
       "      <td>North Carolina</td>\n",
       "      <td>North Carolina</td>\n",
       "      <td>USA</td>\n",
       "    </tr>\n",
       "    <tr>\n",
       "      <th>2</th>\n",
       "      <td>Tennessee</td>\n",
       "      <td>Tennessee</td>\n",
       "      <td>USA</td>\n",
       "    </tr>\n",
       "    <tr>\n",
       "      <th>3</th>\n",
       "      <td>North Carolina</td>\n",
       "      <td>Washington</td>\n",
       "      <td>USA</td>\n",
       "    </tr>\n",
       "    <tr>\n",
       "      <th>4</th>\n",
       "      <td>North Carolina</td>\n",
       "      <td>South Dakota</td>\n",
       "      <td>USA</td>\n",
       "    </tr>\n",
       "  </tbody>\n",
       "</table>\n",
       "</div>"
      ],
      "text/plain": [
       "            class            name country\n",
       "0       Tennessee      California     USA\n",
       "1  North Carolina  North Carolina     USA\n",
       "2       Tennessee       Tennessee     USA\n",
       "3  North Carolina      Washington     USA\n",
       "4  North Carolina    South Dakota     USA"
      ]
     },
     "execution_count": 46,
     "metadata": {},
     "output_type": "execute_result"
    }
   ],
   "source": [
    "data"
   ]
  },
  {
   "cell_type": "markdown",
   "metadata": {},
   "source": [
    "### №15"
   ]
  },
  {
   "cell_type": "markdown",
   "metadata": {},
   "source": [
    "Найдите размеры жестких дисков, совпадающих у двух и более PC. Вывести: HD"
   ]
  },
  {
   "cell_type": "code",
   "execution_count": 47,
   "metadata": {},
   "outputs": [],
   "source": [
    "query = '''\n",
    "SELECT\n",
    "pc.hd\n",
    "FROM\n",
    "pc\n",
    "GROUP BY \n",
    "pc.hd\n",
    "HAVING COUNT(*)>1\n",
    "'''"
   ]
  },
  {
   "cell_type": "code",
   "execution_count": 48,
   "metadata": {},
   "outputs": [],
   "source": [
    "data = pd.read_sql_query(query,con = engine)"
   ]
  },
  {
   "cell_type": "code",
   "execution_count": 49,
   "metadata": {},
   "outputs": [
    {
     "data": {
      "text/html": [
       "<div>\n",
       "<style scoped>\n",
       "    .dataframe tbody tr th:only-of-type {\n",
       "        vertical-align: middle;\n",
       "    }\n",
       "\n",
       "    .dataframe tbody tr th {\n",
       "        vertical-align: top;\n",
       "    }\n",
       "\n",
       "    .dataframe thead th {\n",
       "        text-align: right;\n",
       "    }\n",
       "</style>\n",
       "<table border=\"1\" class=\"dataframe\">\n",
       "  <thead>\n",
       "    <tr style=\"text-align: right;\">\n",
       "      <th></th>\n",
       "      <th>hd</th>\n",
       "    </tr>\n",
       "  </thead>\n",
       "  <tbody>\n",
       "    <tr>\n",
       "      <th>0</th>\n",
       "      <td>8.0</td>\n",
       "    </tr>\n",
       "    <tr>\n",
       "      <th>1</th>\n",
       "      <td>20.0</td>\n",
       "    </tr>\n",
       "    <tr>\n",
       "      <th>2</th>\n",
       "      <td>5.0</td>\n",
       "    </tr>\n",
       "    <tr>\n",
       "      <th>3</th>\n",
       "      <td>14.0</td>\n",
       "    </tr>\n",
       "    <tr>\n",
       "      <th>4</th>\n",
       "      <td>10.0</td>\n",
       "    </tr>\n",
       "  </tbody>\n",
       "</table>\n",
       "</div>"
      ],
      "text/plain": [
       "     hd\n",
       "0   8.0\n",
       "1  20.0\n",
       "2   5.0\n",
       "3  14.0\n",
       "4  10.0"
      ]
     },
     "execution_count": 49,
     "metadata": {},
     "output_type": "execute_result"
    }
   ],
   "source": [
    "data"
   ]
  },
  {
   "cell_type": "markdown",
   "metadata": {},
   "source": [
    "### №16"
   ]
  },
  {
   "cell_type": "markdown",
   "metadata": {},
   "source": [
    "Найдите пары моделей PC, имеющих одинаковые скорость и RAM. В результате каждая пара указывается только один раз, т.е. (i,j), но не (j,i), Порядок вывода: модель с большим номером, модель с меньшим номером, скорость и RAM."
   ]
  },
  {
   "cell_type": "code",
   "execution_count": 50,
   "metadata": {},
   "outputs": [],
   "source": [
    "query = '''\n",
    "SELECT\n",
    " DISTINCT query_1.model,\n",
    "query_2.model,\n",
    "query_1.speed,\n",
    "query_1.ram\n",
    "FROM\n",
    "(SELECT\n",
    "pc.model,\n",
    "pc.speed,\n",
    "pc.ram\n",
    "FROM\n",
    "pc) AS query_1\n",
    "INNER JOIN \n",
    "(SELECT\n",
    "pc.model,\n",
    "pc.speed,\n",
    "pc.ram\n",
    "FROM\n",
    "pc) AS query_2 ON query_1.speed = query_2.speed AND query_1.ram = query_2.ram\n",
    "WHERE query_1.model != query_2.model\n",
    "AND query_1.model > query_2.model\n",
    "\n",
    "ORDER BY \n",
    "query_1.speed DESC,\n",
    "query_1.ram DESC\n",
    "'''"
   ]
  },
  {
   "cell_type": "code",
   "execution_count": 51,
   "metadata": {},
   "outputs": [],
   "source": [
    "data = pd.read_sql_query(query,con = engine)"
   ]
  },
  {
   "cell_type": "code",
   "execution_count": 52,
   "metadata": {},
   "outputs": [
    {
     "data": {
      "text/html": [
       "<div>\n",
       "<style scoped>\n",
       "    .dataframe tbody tr th:only-of-type {\n",
       "        vertical-align: middle;\n",
       "    }\n",
       "\n",
       "    .dataframe tbody tr th {\n",
       "        vertical-align: top;\n",
       "    }\n",
       "\n",
       "    .dataframe thead th {\n",
       "        text-align: right;\n",
       "    }\n",
       "</style>\n",
       "<table border=\"1\" class=\"dataframe\">\n",
       "  <thead>\n",
       "    <tr style=\"text-align: right;\">\n",
       "      <th></th>\n",
       "      <th>model</th>\n",
       "      <th>model</th>\n",
       "      <th>speed</th>\n",
       "      <th>ram</th>\n",
       "    </tr>\n",
       "  </thead>\n",
       "  <tbody>\n",
       "    <tr>\n",
       "      <th>0</th>\n",
       "      <td>1233</td>\n",
       "      <td>1121</td>\n",
       "      <td>750</td>\n",
       "      <td>128</td>\n",
       "    </tr>\n",
       "    <tr>\n",
       "      <th>1</th>\n",
       "      <td>1233</td>\n",
       "      <td>1232</td>\n",
       "      <td>500</td>\n",
       "      <td>64</td>\n",
       "    </tr>\n",
       "    <tr>\n",
       "      <th>2</th>\n",
       "      <td>1260</td>\n",
       "      <td>1232</td>\n",
       "      <td>500</td>\n",
       "      <td>32</td>\n",
       "    </tr>\n",
       "  </tbody>\n",
       "</table>\n",
       "</div>"
      ],
      "text/plain": [
       "  model model  speed  ram\n",
       "0  1233  1121    750  128\n",
       "1  1233  1232    500   64\n",
       "2  1260  1232    500   32"
      ]
     },
     "execution_count": 52,
     "metadata": {},
     "output_type": "execute_result"
    }
   ],
   "source": [
    "data"
   ]
  },
  {
   "cell_type": "markdown",
   "metadata": {},
   "source": [
    "### №17"
   ]
  },
  {
   "cell_type": "markdown",
   "metadata": {},
   "source": [
    "Найдите модели ПК-блокнотов, скорость которых меньше скорости каждого из ПК.\n",
    "Вывести: type, model, speed"
   ]
  },
  {
   "cell_type": "code",
   "execution_count": 53,
   "metadata": {},
   "outputs": [],
   "source": [
    "query = '''\n",
    "SELECT\n",
    "DISTINCT p.type,\n",
    "p.model,\n",
    "l.speed\n",
    "FROM laptop AS l\n",
    "LEFT JOIN product AS p ON l.model = p.model\n",
    "WHERE l.speed < (\n",
    "SELECT\n",
    "MIN(pc.speed)\n",
    "FROM pc)\n",
    "'''"
   ]
  },
  {
   "cell_type": "code",
   "execution_count": 54,
   "metadata": {},
   "outputs": [],
   "source": [
    "data = pd.read_sql_query(query,con = engine)"
   ]
  },
  {
   "cell_type": "code",
   "execution_count": 55,
   "metadata": {},
   "outputs": [
    {
     "data": {
      "text/html": [
       "<div>\n",
       "<style scoped>\n",
       "    .dataframe tbody tr th:only-of-type {\n",
       "        vertical-align: middle;\n",
       "    }\n",
       "\n",
       "    .dataframe tbody tr th {\n",
       "        vertical-align: top;\n",
       "    }\n",
       "\n",
       "    .dataframe thead th {\n",
       "        text-align: right;\n",
       "    }\n",
       "</style>\n",
       "<table border=\"1\" class=\"dataframe\">\n",
       "  <thead>\n",
       "    <tr style=\"text-align: right;\">\n",
       "      <th></th>\n",
       "      <th>type</th>\n",
       "      <th>model</th>\n",
       "      <th>speed</th>\n",
       "    </tr>\n",
       "  </thead>\n",
       "  <tbody>\n",
       "    <tr>\n",
       "      <th>0</th>\n",
       "      <td>Laptop</td>\n",
       "      <td>1298</td>\n",
       "      <td>350</td>\n",
       "    </tr>\n",
       "  </tbody>\n",
       "</table>\n",
       "</div>"
      ],
      "text/plain": [
       "     type model  speed\n",
       "0  Laptop  1298    350"
      ]
     },
     "execution_count": 55,
     "metadata": {},
     "output_type": "execute_result"
    }
   ],
   "source": [
    "data"
   ]
  },
  {
   "cell_type": "markdown",
   "metadata": {},
   "source": [
    "### №18"
   ]
  },
  {
   "cell_type": "markdown",
   "metadata": {},
   "source": [
    "Найдите производителей самых дешевых цветных принтеров. Вывести: maker, price"
   ]
  },
  {
   "cell_type": "code",
   "execution_count": 56,
   "metadata": {},
   "outputs": [],
   "source": [
    "query = '''\n",
    "SELECT\n",
    "DISTINCT pr.maker,\n",
    "p.price\n",
    "FROM \n",
    "printer AS p\n",
    "LEFT JOIN product AS pr ON p.model = pr.model\n",
    "WHERE p.price = (\n",
    "SELECT\n",
    "MIN(p.price)\n",
    "FROM\n",
    "printer AS p\n",
    "WHERE p.color LIKE 'y' ) AND\n",
    "p.color LIKE 'y'\n",
    "\n",
    "'''"
   ]
  },
  {
   "cell_type": "code",
   "execution_count": 57,
   "metadata": {},
   "outputs": [],
   "source": [
    "data = pd.read_sql_query(query,con = engine)"
   ]
  },
  {
   "cell_type": "code",
   "execution_count": 58,
   "metadata": {},
   "outputs": [
    {
     "data": {
      "text/html": [
       "<div>\n",
       "<style scoped>\n",
       "    .dataframe tbody tr th:only-of-type {\n",
       "        vertical-align: middle;\n",
       "    }\n",
       "\n",
       "    .dataframe tbody tr th {\n",
       "        vertical-align: top;\n",
       "    }\n",
       "\n",
       "    .dataframe thead th {\n",
       "        text-align: right;\n",
       "    }\n",
       "</style>\n",
       "<table border=\"1\" class=\"dataframe\">\n",
       "  <thead>\n",
       "    <tr style=\"text-align: right;\">\n",
       "      <th></th>\n",
       "      <th>maker</th>\n",
       "      <th>price</th>\n",
       "    </tr>\n",
       "  </thead>\n",
       "  <tbody>\n",
       "    <tr>\n",
       "      <th>0</th>\n",
       "      <td>D</td>\n",
       "      <td>270.0</td>\n",
       "    </tr>\n",
       "  </tbody>\n",
       "</table>\n",
       "</div>"
      ],
      "text/plain": [
       "  maker  price\n",
       "0     D  270.0"
      ]
     },
     "execution_count": 58,
     "metadata": {},
     "output_type": "execute_result"
    }
   ],
   "source": [
    "data"
   ]
  },
  {
   "cell_type": "markdown",
   "metadata": {},
   "source": [
    "### №19"
   ]
  },
  {
   "cell_type": "markdown",
   "metadata": {},
   "source": [
    "Для каждого производителя, имеющего модели в таблице Laptop, найдите средний размер экрана выпускаемых им ПК-блокнотов.\n",
    "Вывести: maker, средний размер экрана."
   ]
  },
  {
   "cell_type": "code",
   "execution_count": 59,
   "metadata": {},
   "outputs": [],
   "source": [
    "query = '''\n",
    "SELECT\n",
    "p.maker,\n",
    "AVG(l.screen)\n",
    "FROM\n",
    "laptop AS l\n",
    "INNER JOIN product AS p ON l.model = p.model\n",
    "GROUP BY p.maker\n",
    "\n",
    "'''"
   ]
  },
  {
   "cell_type": "code",
   "execution_count": 60,
   "metadata": {},
   "outputs": [],
   "source": [
    "data = pd.read_sql_query(query,con = engine)"
   ]
  },
  {
   "cell_type": "code",
   "execution_count": 61,
   "metadata": {},
   "outputs": [
    {
     "data": {
      "text/html": [
       "<div>\n",
       "<style scoped>\n",
       "    .dataframe tbody tr th:only-of-type {\n",
       "        vertical-align: middle;\n",
       "    }\n",
       "\n",
       "    .dataframe tbody tr th {\n",
       "        vertical-align: top;\n",
       "    }\n",
       "\n",
       "    .dataframe thead th {\n",
       "        text-align: right;\n",
       "    }\n",
       "</style>\n",
       "<table border=\"1\" class=\"dataframe\">\n",
       "  <thead>\n",
       "    <tr style=\"text-align: right;\">\n",
       "      <th></th>\n",
       "      <th>maker</th>\n",
       "      <th>avg</th>\n",
       "    </tr>\n",
       "  </thead>\n",
       "  <tbody>\n",
       "    <tr>\n",
       "      <th>0</th>\n",
       "      <td>B</td>\n",
       "      <td>14.0</td>\n",
       "    </tr>\n",
       "    <tr>\n",
       "      <th>1</th>\n",
       "      <td>C</td>\n",
       "      <td>12.0</td>\n",
       "    </tr>\n",
       "    <tr>\n",
       "      <th>2</th>\n",
       "      <td>A</td>\n",
       "      <td>13.0</td>\n",
       "    </tr>\n",
       "  </tbody>\n",
       "</table>\n",
       "</div>"
      ],
      "text/plain": [
       "  maker   avg\n",
       "0     B  14.0\n",
       "1     C  12.0\n",
       "2     A  13.0"
      ]
     },
     "execution_count": 61,
     "metadata": {},
     "output_type": "execute_result"
    }
   ],
   "source": [
    "data"
   ]
  },
  {
   "cell_type": "markdown",
   "metadata": {},
   "source": [
    "### №20"
   ]
  },
  {
   "cell_type": "markdown",
   "metadata": {},
   "source": [
    "Найдите производителей, выпускающих по меньшей мере три различных модели ПК. Вывести: Maker, число моделей ПК."
   ]
  },
  {
   "cell_type": "code",
   "execution_count": 62,
   "metadata": {},
   "outputs": [],
   "source": [
    "query = '''\n",
    "SELECT\n",
    "p.maker,\n",
    "COUNT(p.model)\n",
    "FROM\n",
    "product AS p\n",
    "WHERE p.type LIKE 'PC'\n",
    "GROUP BY p.maker\n",
    "HAVING COUNT(p.model) >=3\n",
    "\n",
    "'''"
   ]
  },
  {
   "cell_type": "code",
   "execution_count": 63,
   "metadata": {},
   "outputs": [],
   "source": [
    "data = pd.read_sql_query(query,con = engine)"
   ]
  },
  {
   "cell_type": "code",
   "execution_count": 64,
   "metadata": {},
   "outputs": [
    {
     "data": {
      "text/html": [
       "<div>\n",
       "<style scoped>\n",
       "    .dataframe tbody tr th:only-of-type {\n",
       "        vertical-align: middle;\n",
       "    }\n",
       "\n",
       "    .dataframe tbody tr th {\n",
       "        vertical-align: top;\n",
       "    }\n",
       "\n",
       "    .dataframe thead th {\n",
       "        text-align: right;\n",
       "    }\n",
       "</style>\n",
       "<table border=\"1\" class=\"dataframe\">\n",
       "  <thead>\n",
       "    <tr style=\"text-align: right;\">\n",
       "      <th></th>\n",
       "      <th>maker</th>\n",
       "      <th>count</th>\n",
       "    </tr>\n",
       "  </thead>\n",
       "  <tbody>\n",
       "    <tr>\n",
       "      <th>0</th>\n",
       "      <td>E</td>\n",
       "      <td>3</td>\n",
       "    </tr>\n",
       "  </tbody>\n",
       "</table>\n",
       "</div>"
      ],
      "text/plain": [
       "  maker  count\n",
       "0     E      3"
      ]
     },
     "execution_count": 64,
     "metadata": {},
     "output_type": "execute_result"
    }
   ],
   "source": [
    "data"
   ]
  },
  {
   "cell_type": "markdown",
   "metadata": {},
   "source": [
    "### №21"
   ]
  },
  {
   "cell_type": "markdown",
   "metadata": {},
   "source": [
    "Найдите максимальную цену ПК, выпускаемых каждым производителем, у которого есть модели в таблице PC.\n",
    "Вывести: maker, максимальная цена."
   ]
  },
  {
   "cell_type": "code",
   "execution_count": 65,
   "metadata": {},
   "outputs": [],
   "source": [
    "query = '''\n",
    "SELECT\n",
    "p.maker,\n",
    "MAX(pc.price)\n",
    "FROM\n",
    "pc\n",
    "LEFT JOIN product AS p ON pc.model = p.model\n",
    "GROUP BY \n",
    "p.maker\n",
    "\n",
    "\n",
    "'''"
   ]
  },
  {
   "cell_type": "code",
   "execution_count": 66,
   "metadata": {},
   "outputs": [],
   "source": [
    "data = pd.read_sql_query(query,con = engine)"
   ]
  },
  {
   "cell_type": "code",
   "execution_count": 67,
   "metadata": {},
   "outputs": [
    {
     "data": {
      "text/html": [
       "<div>\n",
       "<style scoped>\n",
       "    .dataframe tbody tr th:only-of-type {\n",
       "        vertical-align: middle;\n",
       "    }\n",
       "\n",
       "    .dataframe tbody tr th {\n",
       "        vertical-align: top;\n",
       "    }\n",
       "\n",
       "    .dataframe thead th {\n",
       "        text-align: right;\n",
       "    }\n",
       "</style>\n",
       "<table border=\"1\" class=\"dataframe\">\n",
       "  <thead>\n",
       "    <tr style=\"text-align: right;\">\n",
       "      <th></th>\n",
       "      <th>maker</th>\n",
       "      <th>max</th>\n",
       "    </tr>\n",
       "  </thead>\n",
       "  <tbody>\n",
       "    <tr>\n",
       "      <th>0</th>\n",
       "      <td>B</td>\n",
       "      <td>850.0</td>\n",
       "    </tr>\n",
       "    <tr>\n",
       "      <th>1</th>\n",
       "      <td>E</td>\n",
       "      <td>350.0</td>\n",
       "    </tr>\n",
       "    <tr>\n",
       "      <th>2</th>\n",
       "      <td>A</td>\n",
       "      <td>980.0</td>\n",
       "    </tr>\n",
       "  </tbody>\n",
       "</table>\n",
       "</div>"
      ],
      "text/plain": [
       "  maker    max\n",
       "0     B  850.0\n",
       "1     E  350.0\n",
       "2     A  980.0"
      ]
     },
     "execution_count": 67,
     "metadata": {},
     "output_type": "execute_result"
    }
   ],
   "source": [
    "data"
   ]
  },
  {
   "cell_type": "markdown",
   "metadata": {},
   "source": [
    "### №22"
   ]
  },
  {
   "cell_type": "markdown",
   "metadata": {},
   "source": [
    "Для каждого значения скорости ПК, превышающего 600 МГц, определите среднюю цену ПК с такой же скоростью. Вывести: speed, средняя цена."
   ]
  },
  {
   "cell_type": "code",
   "execution_count": 68,
   "metadata": {},
   "outputs": [],
   "source": [
    "query = '''\n",
    "SELECT\n",
    "pc.speed,\n",
    "AVG(pc.price)\n",
    "FROM\n",
    "pc\n",
    "WHERE pc.speed> 600\n",
    "GROUP BY \n",
    "pc.speed\n",
    "'''"
   ]
  },
  {
   "cell_type": "code",
   "execution_count": 69,
   "metadata": {},
   "outputs": [],
   "source": [
    "data = pd.read_sql_query(query,con = engine)"
   ]
  },
  {
   "cell_type": "code",
   "execution_count": 70,
   "metadata": {},
   "outputs": [
    {
     "data": {
      "text/html": [
       "<div>\n",
       "<style scoped>\n",
       "    .dataframe tbody tr th:only-of-type {\n",
       "        vertical-align: middle;\n",
       "    }\n",
       "\n",
       "    .dataframe tbody tr th {\n",
       "        vertical-align: top;\n",
       "    }\n",
       "\n",
       "    .dataframe thead th {\n",
       "        text-align: right;\n",
       "    }\n",
       "</style>\n",
       "<table border=\"1\" class=\"dataframe\">\n",
       "  <thead>\n",
       "    <tr style=\"text-align: right;\">\n",
       "      <th></th>\n",
       "      <th>speed</th>\n",
       "      <th>avg</th>\n",
       "    </tr>\n",
       "  </thead>\n",
       "  <tbody>\n",
       "    <tr>\n",
       "      <th>0</th>\n",
       "      <td>900</td>\n",
       "      <td>980.0</td>\n",
       "    </tr>\n",
       "    <tr>\n",
       "      <th>1</th>\n",
       "      <td>750</td>\n",
       "      <td>900.0</td>\n",
       "    </tr>\n",
       "    <tr>\n",
       "      <th>2</th>\n",
       "      <td>800</td>\n",
       "      <td>970.0</td>\n",
       "    </tr>\n",
       "  </tbody>\n",
       "</table>\n",
       "</div>"
      ],
      "text/plain": [
       "   speed    avg\n",
       "0    900  980.0\n",
       "1    750  900.0\n",
       "2    800  970.0"
      ]
     },
     "execution_count": 70,
     "metadata": {},
     "output_type": "execute_result"
    }
   ],
   "source": [
    "data"
   ]
  },
  {
   "cell_type": "markdown",
   "metadata": {},
   "source": [
    "### №23"
   ]
  },
  {
   "cell_type": "markdown",
   "metadata": {},
   "source": [
    "Найдите производителей, которые производили бы как ПК\n",
    "со скоростью не менее 750 МГц, так и ПК-блокноты со скоростью не менее 750 МГц.\n",
    "Вывести: Maker"
   ]
  },
  {
   "cell_type": "code",
   "execution_count": 71,
   "metadata": {},
   "outputs": [],
   "source": [
    "query = '''\n",
    "WITH\n",
    "\n",
    "query_1 AS\n",
    "(SELECT\n",
    "DISTINCT p.maker AS maker\n",
    "FROM\n",
    "pc\n",
    "LEFT JOIN product AS p ON pc.model = p.model\n",
    "WHERE pc.speed >= 750),\n",
    "\n",
    "query_2 AS\n",
    "(SELECT\n",
    "DISTINCT p.maker AS maker\n",
    "FROM\n",
    "laptop AS l\n",
    "LEFT JOIN product AS p ON l.model = p.model\n",
    "WHERE l.speed >= 750)\n",
    "\n",
    "SELECT\n",
    "query_1.maker\n",
    "FROM\n",
    "query_1\n",
    "INNER JOIN query_2 ON query_1.maker = query_2.maker\n",
    "'''"
   ]
  },
  {
   "cell_type": "code",
   "execution_count": 72,
   "metadata": {},
   "outputs": [],
   "source": [
    "data = pd.read_sql_query(query,con = engine)"
   ]
  },
  {
   "cell_type": "code",
   "execution_count": 73,
   "metadata": {},
   "outputs": [
    {
     "data": {
      "text/html": [
       "<div>\n",
       "<style scoped>\n",
       "    .dataframe tbody tr th:only-of-type {\n",
       "        vertical-align: middle;\n",
       "    }\n",
       "\n",
       "    .dataframe tbody tr th {\n",
       "        vertical-align: top;\n",
       "    }\n",
       "\n",
       "    .dataframe thead th {\n",
       "        text-align: right;\n",
       "    }\n",
       "</style>\n",
       "<table border=\"1\" class=\"dataframe\">\n",
       "  <thead>\n",
       "    <tr style=\"text-align: right;\">\n",
       "      <th></th>\n",
       "      <th>maker</th>\n",
       "    </tr>\n",
       "  </thead>\n",
       "  <tbody>\n",
       "    <tr>\n",
       "      <th>0</th>\n",
       "      <td>B</td>\n",
       "    </tr>\n",
       "    <tr>\n",
       "      <th>1</th>\n",
       "      <td>A</td>\n",
       "    </tr>\n",
       "  </tbody>\n",
       "</table>\n",
       "</div>"
      ],
      "text/plain": [
       "  maker\n",
       "0     B\n",
       "1     A"
      ]
     },
     "execution_count": 73,
     "metadata": {},
     "output_type": "execute_result"
    }
   ],
   "source": [
    "data"
   ]
  },
  {
   "cell_type": "markdown",
   "metadata": {},
   "source": [
    "### №24"
   ]
  },
  {
   "cell_type": "markdown",
   "metadata": {},
   "source": [
    "Перечислите номера моделей любых типов, имеющих самую высокую цену по всей имеющейся в базе данных продукции."
   ]
  },
  {
   "cell_type": "code",
   "execution_count": 74,
   "metadata": {},
   "outputs": [],
   "source": [
    "query = '''\n",
    "WITH\n",
    "query_1 AS\n",
    "\n",
    "(SELECT\n",
    "pc.model,\n",
    "pc.price\n",
    "FROM\n",
    "pc\n",
    "WHERE pc.price = (\n",
    "SELECT\n",
    "MAX(pc.price)\n",
    "FROM\n",
    "pc)\n",
    "UNION ALL\n",
    "\n",
    "SELECT\n",
    "l.model,\n",
    "l.price\n",
    "FROM\n",
    "laptop AS l\n",
    "WHERE l.price = (\n",
    "SELECT\n",
    "MAX(l.price)\n",
    "FROM\n",
    "laptop AS l)\n",
    "UNION ALL\n",
    "\n",
    "SELECT\n",
    "p.model,\n",
    "p.price\n",
    "FROM\n",
    "printer AS p\n",
    "WHERE p.price = (\n",
    "SELECT\n",
    "MAX(p.price)\n",
    "FROM\n",
    "printer AS p))\n",
    "\n",
    "\n",
    "SELECT\n",
    " DISTINCT query_1.model\n",
    "FROM\n",
    "query_1\n",
    "WHERE\n",
    "query_1.price = \n",
    "(SELECT\n",
    "MAX(query_1.price)\n",
    "FROM\n",
    "query_1)\n",
    "\n",
    "'''"
   ]
  },
  {
   "cell_type": "code",
   "execution_count": 75,
   "metadata": {},
   "outputs": [],
   "source": [
    "data = pd.read_sql_query(query,con = engine)"
   ]
  },
  {
   "cell_type": "code",
   "execution_count": 76,
   "metadata": {},
   "outputs": [
    {
     "data": {
      "text/html": [
       "<div>\n",
       "<style scoped>\n",
       "    .dataframe tbody tr th:only-of-type {\n",
       "        vertical-align: middle;\n",
       "    }\n",
       "\n",
       "    .dataframe tbody tr th {\n",
       "        vertical-align: top;\n",
       "    }\n",
       "\n",
       "    .dataframe thead th {\n",
       "        text-align: right;\n",
       "    }\n",
       "</style>\n",
       "<table border=\"1\" class=\"dataframe\">\n",
       "  <thead>\n",
       "    <tr style=\"text-align: right;\">\n",
       "      <th></th>\n",
       "      <th>model</th>\n",
       "    </tr>\n",
       "  </thead>\n",
       "  <tbody>\n",
       "    <tr>\n",
       "      <th>0</th>\n",
       "      <td>1750</td>\n",
       "    </tr>\n",
       "  </tbody>\n",
       "</table>\n",
       "</div>"
      ],
      "text/plain": [
       "  model\n",
       "0  1750"
      ]
     },
     "execution_count": 76,
     "metadata": {},
     "output_type": "execute_result"
    }
   ],
   "source": [
    "data"
   ]
  },
  {
   "cell_type": "markdown",
   "metadata": {},
   "source": [
    "### №25"
   ]
  },
  {
   "cell_type": "markdown",
   "metadata": {},
   "source": [
    "Найдите производителей принтеров, которые производят ПК с наименьшим объемом RAM и с самым быстрым процессором среди всех ПК, имеющих наименьший объем RAM. Вывести: Maker"
   ]
  },
  {
   "cell_type": "code",
   "execution_count": 77,
   "metadata": {},
   "outputs": [],
   "source": [
    "query = '''\n",
    "WITH\n",
    "query_1 AS\n",
    "\n",
    "(SELECT\n",
    "distinct p.maker\n",
    "FROM\n",
    "pc\n",
    "INNER JOIN product AS p ON pc.model = p.model\n",
    "WHERE pc.speed IN\n",
    "(SELECT\n",
    "MAX(pc.speed)\n",
    "FROM\n",
    "pc\n",
    "WHERE \n",
    "pc.ram IN(\n",
    "SELECT\n",
    "MIN(pc.ram)\n",
    "FROM\n",
    "pc))),\n",
    "\n",
    "\n",
    "query_2 AS\n",
    "\n",
    "(SELECT\n",
    "DISTINCT p.maker\n",
    "FROM\n",
    "product AS p\n",
    "WHERE p.type = 'Printer')\n",
    "\n",
    "SELECT\n",
    "DISTINCT query_2.maker\n",
    "FROM\n",
    "query_2\n",
    "INNER JOIN query_1 ON query_2.maker = query_1.maker\n",
    "\n",
    "'''"
   ]
  },
  {
   "cell_type": "code",
   "execution_count": 78,
   "metadata": {},
   "outputs": [],
   "source": [
    "data = pd.read_sql_query(query,con = engine)"
   ]
  },
  {
   "cell_type": "code",
   "execution_count": 79,
   "metadata": {},
   "outputs": [
    {
     "data": {
      "text/html": [
       "<div>\n",
       "<style scoped>\n",
       "    .dataframe tbody tr th:only-of-type {\n",
       "        vertical-align: middle;\n",
       "    }\n",
       "\n",
       "    .dataframe tbody tr th {\n",
       "        vertical-align: top;\n",
       "    }\n",
       "\n",
       "    .dataframe thead th {\n",
       "        text-align: right;\n",
       "    }\n",
       "</style>\n",
       "<table border=\"1\" class=\"dataframe\">\n",
       "  <thead>\n",
       "    <tr style=\"text-align: right;\">\n",
       "      <th></th>\n",
       "      <th>maker</th>\n",
       "    </tr>\n",
       "  </thead>\n",
       "  <tbody>\n",
       "    <tr>\n",
       "      <th>0</th>\n",
       "      <td>A</td>\n",
       "    </tr>\n",
       "    <tr>\n",
       "      <th>1</th>\n",
       "      <td>E</td>\n",
       "    </tr>\n",
       "  </tbody>\n",
       "</table>\n",
       "</div>"
      ],
      "text/plain": [
       "  maker\n",
       "0     A\n",
       "1     E"
      ]
     },
     "execution_count": 79,
     "metadata": {},
     "output_type": "execute_result"
    }
   ],
   "source": [
    "data"
   ]
  },
  {
   "cell_type": "markdown",
   "metadata": {},
   "source": [
    "### №26"
   ]
  },
  {
   "cell_type": "markdown",
   "metadata": {},
   "source": [
    "Найдите среднюю цену ПК и ПК-блокнотов, выпущенных производителем A (латинская буква). Вывести: одна общая средняя цена."
   ]
  },
  {
   "cell_type": "code",
   "execution_count": 80,
   "metadata": {},
   "outputs": [],
   "source": [
    "query = '''\n",
    "SELECT\n",
    "AVG(query.price)\n",
    "FROM\n",
    "(SELECT\n",
    "pc.price AS price\n",
    "FROM\n",
    "product AS p\n",
    "LEFT JOIN pc ON p.model = pc.model\n",
    "WHERE p.maker LIKE 'A'\n",
    "\n",
    "UNION ALL\n",
    "SELECT\n",
    "l.price AS price\n",
    "FROM\n",
    "product AS p\n",
    "LEFT JOIN laptop AS l ON p.model = l.model\n",
    "WHERE p.maker LIKE 'A') AS query\n",
    "'''"
   ]
  },
  {
   "cell_type": "code",
   "execution_count": 81,
   "metadata": {},
   "outputs": [],
   "source": [
    "data = pd.read_sql_query(query,con = engine)"
   ]
  },
  {
   "cell_type": "code",
   "execution_count": 82,
   "metadata": {},
   "outputs": [
    {
     "data": {
      "text/html": [
       "<div>\n",
       "<style scoped>\n",
       "    .dataframe tbody tr th:only-of-type {\n",
       "        vertical-align: middle;\n",
       "    }\n",
       "\n",
       "    .dataframe tbody tr th {\n",
       "        vertical-align: top;\n",
       "    }\n",
       "\n",
       "    .dataframe thead th {\n",
       "        text-align: right;\n",
       "    }\n",
       "</style>\n",
       "<table border=\"1\" class=\"dataframe\">\n",
       "  <thead>\n",
       "    <tr style=\"text-align: right;\">\n",
       "      <th></th>\n",
       "      <th>avg</th>\n",
       "    </tr>\n",
       "  </thead>\n",
       "  <tbody>\n",
       "    <tr>\n",
       "      <th>0</th>\n",
       "      <td>754.166667</td>\n",
       "    </tr>\n",
       "  </tbody>\n",
       "</table>\n",
       "</div>"
      ],
      "text/plain": [
       "          avg\n",
       "0  754.166667"
      ]
     },
     "execution_count": 82,
     "metadata": {},
     "output_type": "execute_result"
    }
   ],
   "source": [
    "data"
   ]
  },
  {
   "cell_type": "markdown",
   "metadata": {},
   "source": [
    "### №27"
   ]
  },
  {
   "cell_type": "markdown",
   "metadata": {},
   "source": [
    "Найдите средний размер диска ПК каждого из тех производителей, которые выпускают и принтеры. Вывести: maker, средний размер HD."
   ]
  },
  {
   "cell_type": "code",
   "execution_count": 83,
   "metadata": {},
   "outputs": [],
   "source": [
    "query = '''\n",
    "SELECT\n",
    "p.maker,\n",
    "AVG(pc.hd)\n",
    "FROM pc\n",
    "LEFT JOIN product AS p ON pc.model = p.model\n",
    "WHERE p.maker IN (\n",
    "SELECT\n",
    "DISTINCT p.maker\n",
    "FROM\n",
    "product AS p\n",
    "WHERE p.type = 'Printer')\n",
    "GROUP BY p.maker\n",
    "'''"
   ]
  },
  {
   "cell_type": "code",
   "execution_count": 84,
   "metadata": {},
   "outputs": [],
   "source": [
    "data = pd.read_sql_query(query,con = engine)"
   ]
  },
  {
   "cell_type": "code",
   "execution_count": 85,
   "metadata": {},
   "outputs": [
    {
     "data": {
      "text/html": [
       "<div>\n",
       "<style scoped>\n",
       "    .dataframe tbody tr th:only-of-type {\n",
       "        vertical-align: middle;\n",
       "    }\n",
       "\n",
       "    .dataframe tbody tr th {\n",
       "        vertical-align: top;\n",
       "    }\n",
       "\n",
       "    .dataframe thead th {\n",
       "        text-align: right;\n",
       "    }\n",
       "</style>\n",
       "<table border=\"1\" class=\"dataframe\">\n",
       "  <thead>\n",
       "    <tr style=\"text-align: right;\">\n",
       "      <th></th>\n",
       "      <th>maker</th>\n",
       "      <th>avg</th>\n",
       "    </tr>\n",
       "  </thead>\n",
       "  <tbody>\n",
       "    <tr>\n",
       "      <th>0</th>\n",
       "      <td>A</td>\n",
       "      <td>14.75</td>\n",
       "    </tr>\n",
       "    <tr>\n",
       "      <th>1</th>\n",
       "      <td>E</td>\n",
       "      <td>10.00</td>\n",
       "    </tr>\n",
       "  </tbody>\n",
       "</table>\n",
       "</div>"
      ],
      "text/plain": [
       "  maker    avg\n",
       "0     A  14.75\n",
       "1     E  10.00"
      ]
     },
     "execution_count": 85,
     "metadata": {},
     "output_type": "execute_result"
    }
   ],
   "source": [
    "data"
   ]
  },
  {
   "cell_type": "markdown",
   "metadata": {},
   "source": [
    "### №28"
   ]
  },
  {
   "cell_type": "markdown",
   "metadata": {},
   "source": [
    "Используя таблицу Product, определить количество производителей, выпускающих по одной модели."
   ]
  },
  {
   "cell_type": "code",
   "execution_count": 86,
   "metadata": {},
   "outputs": [],
   "source": [
    "query = '''\n",
    "SELECT\n",
    "COUNT(*)\n",
    "FROM\n",
    "(SELECT\n",
    "p.maker,\n",
    "COUNT(p.model)\n",
    "FROM\n",
    "product AS p\n",
    "GROUP BY p.maker\n",
    "HAVING COUNT(p.model) =1) AS query\n",
    "'''"
   ]
  },
  {
   "cell_type": "code",
   "execution_count": 87,
   "metadata": {},
   "outputs": [],
   "source": [
    "data = pd.read_sql_query(query,con = engine)"
   ]
  },
  {
   "cell_type": "code",
   "execution_count": 88,
   "metadata": {},
   "outputs": [
    {
     "data": {
      "text/html": [
       "<div>\n",
       "<style scoped>\n",
       "    .dataframe tbody tr th:only-of-type {\n",
       "        vertical-align: middle;\n",
       "    }\n",
       "\n",
       "    .dataframe tbody tr th {\n",
       "        vertical-align: top;\n",
       "    }\n",
       "\n",
       "    .dataframe thead th {\n",
       "        text-align: right;\n",
       "    }\n",
       "</style>\n",
       "<table border=\"1\" class=\"dataframe\">\n",
       "  <thead>\n",
       "    <tr style=\"text-align: right;\">\n",
       "      <th></th>\n",
       "      <th>count</th>\n",
       "    </tr>\n",
       "  </thead>\n",
       "  <tbody>\n",
       "    <tr>\n",
       "      <th>0</th>\n",
       "      <td>1</td>\n",
       "    </tr>\n",
       "  </tbody>\n",
       "</table>\n",
       "</div>"
      ],
      "text/plain": [
       "   count\n",
       "0      1"
      ]
     },
     "execution_count": 88,
     "metadata": {},
     "output_type": "execute_result"
    }
   ],
   "source": [
    "data"
   ]
  },
  {
   "cell_type": "markdown",
   "metadata": {},
   "source": [
    "### №29"
   ]
  },
  {
   "cell_type": "markdown",
   "metadata": {},
   "source": [
    "В предположении, что приход и расход денег на каждом пункте приема фиксируется не чаще одного раза в день [т.е. первичный ключ (пункт, дата)], написать запрос с выходными данными (пункт, дата, приход, расход). Использовать таблицы Income_o и Outcome_o."
   ]
  },
  {
   "cell_type": "code",
   "execution_count": 89,
   "metadata": {},
   "outputs": [],
   "source": [
    "query = '''\n",
    "SELECT\n",
    "inc.point,\n",
    "inc.date,\n",
    "inc.inc,\n",
    "out.out\n",
    "FROM\n",
    "Income_o AS inc\n",
    "LEFT JOIN Outcome_o AS out ON inc.point = out.point AND inc.date = out.date\n",
    "UNION\n",
    "SELECT\n",
    "out.point,\n",
    "out.date,\n",
    "inc.inc,\n",
    "out.out\n",
    "\n",
    "FROM\n",
    "Outcome_o AS out\n",
    "LEFT JOIN Income_o AS inc ON out.point = inc.point AND out.date = inc.date\n",
    "\n",
    "\n",
    "'''"
   ]
  },
  {
   "cell_type": "code",
   "execution_count": 90,
   "metadata": {},
   "outputs": [],
   "source": [
    "data = pd.read_sql_query(query,con = engine)"
   ]
  },
  {
   "cell_type": "code",
   "execution_count": 91,
   "metadata": {},
   "outputs": [
    {
     "data": {
      "text/html": [
       "<div>\n",
       "<style scoped>\n",
       "    .dataframe tbody tr th:only-of-type {\n",
       "        vertical-align: middle;\n",
       "    }\n",
       "\n",
       "    .dataframe tbody tr th {\n",
       "        vertical-align: top;\n",
       "    }\n",
       "\n",
       "    .dataframe thead th {\n",
       "        text-align: right;\n",
       "    }\n",
       "</style>\n",
       "<table border=\"1\" class=\"dataframe\">\n",
       "  <thead>\n",
       "    <tr style=\"text-align: right;\">\n",
       "      <th></th>\n",
       "      <th>point</th>\n",
       "      <th>date</th>\n",
       "      <th>inc</th>\n",
       "      <th>out</th>\n",
       "    </tr>\n",
       "  </thead>\n",
       "  <tbody>\n",
       "    <tr>\n",
       "      <th>0</th>\n",
       "      <td>3</td>\n",
       "      <td>2001-09-14</td>\n",
       "      <td>NaN</td>\n",
       "      <td>2300.00</td>\n",
       "    </tr>\n",
       "    <tr>\n",
       "      <th>1</th>\n",
       "      <td>1</td>\n",
       "      <td>2001-04-11</td>\n",
       "      <td>NaN</td>\n",
       "      <td>3195.04</td>\n",
       "    </tr>\n",
       "    <tr>\n",
       "      <th>2</th>\n",
       "      <td>2</td>\n",
       "      <td>2001-03-22</td>\n",
       "      <td>10000.0</td>\n",
       "      <td>1440.00</td>\n",
       "    </tr>\n",
       "    <tr>\n",
       "      <th>3</th>\n",
       "      <td>3</td>\n",
       "      <td>2001-10-02</td>\n",
       "      <td>18000.0</td>\n",
       "      <td>NaN</td>\n",
       "    </tr>\n",
       "    <tr>\n",
       "      <th>4</th>\n",
       "      <td>1</td>\n",
       "      <td>2001-03-26</td>\n",
       "      <td>NaN</td>\n",
       "      <td>1221.00</td>\n",
       "    </tr>\n",
       "    <tr>\n",
       "      <th>5</th>\n",
       "      <td>1</td>\n",
       "      <td>2001-03-28</td>\n",
       "      <td>NaN</td>\n",
       "      <td>2075.00</td>\n",
       "    </tr>\n",
       "    <tr>\n",
       "      <th>6</th>\n",
       "      <td>2</td>\n",
       "      <td>2001-04-02</td>\n",
       "      <td>NaN</td>\n",
       "      <td>2040.00</td>\n",
       "    </tr>\n",
       "    <tr>\n",
       "      <th>7</th>\n",
       "      <td>2</td>\n",
       "      <td>2001-03-29</td>\n",
       "      <td>NaN</td>\n",
       "      <td>7848.00</td>\n",
       "    </tr>\n",
       "    <tr>\n",
       "      <th>8</th>\n",
       "      <td>1</td>\n",
       "      <td>2001-05-11</td>\n",
       "      <td>4500.0</td>\n",
       "      <td>2530.00</td>\n",
       "    </tr>\n",
       "    <tr>\n",
       "      <th>9</th>\n",
       "      <td>1</td>\n",
       "      <td>2001-03-29</td>\n",
       "      <td>NaN</td>\n",
       "      <td>2004.00</td>\n",
       "    </tr>\n",
       "    <tr>\n",
       "      <th>10</th>\n",
       "      <td>1</td>\n",
       "      <td>2001-04-27</td>\n",
       "      <td>NaN</td>\n",
       "      <td>3110.00</td>\n",
       "    </tr>\n",
       "    <tr>\n",
       "      <th>11</th>\n",
       "      <td>3</td>\n",
       "      <td>2002-09-16</td>\n",
       "      <td>NaN</td>\n",
       "      <td>2150.00</td>\n",
       "    </tr>\n",
       "    <tr>\n",
       "      <th>12</th>\n",
       "      <td>1</td>\n",
       "      <td>2001-04-13</td>\n",
       "      <td>5000.0</td>\n",
       "      <td>4490.00</td>\n",
       "    </tr>\n",
       "    <tr>\n",
       "      <th>13</th>\n",
       "      <td>1</td>\n",
       "      <td>2001-03-23</td>\n",
       "      <td>15000.0</td>\n",
       "      <td>NaN</td>\n",
       "    </tr>\n",
       "    <tr>\n",
       "      <th>14</th>\n",
       "      <td>1</td>\n",
       "      <td>2001-03-22</td>\n",
       "      <td>15000.0</td>\n",
       "      <td>NaN</td>\n",
       "    </tr>\n",
       "    <tr>\n",
       "      <th>15</th>\n",
       "      <td>2</td>\n",
       "      <td>2001-03-24</td>\n",
       "      <td>1500.0</td>\n",
       "      <td>NaN</td>\n",
       "    </tr>\n",
       "    <tr>\n",
       "      <th>16</th>\n",
       "      <td>1</td>\n",
       "      <td>2001-03-24</td>\n",
       "      <td>3400.0</td>\n",
       "      <td>3663.00</td>\n",
       "    </tr>\n",
       "    <tr>\n",
       "      <th>17</th>\n",
       "      <td>3</td>\n",
       "      <td>2001-09-13</td>\n",
       "      <td>11500.0</td>\n",
       "      <td>1500.00</td>\n",
       "    </tr>\n",
       "    <tr>\n",
       "      <th>18</th>\n",
       "      <td>1</td>\n",
       "      <td>2001-03-14</td>\n",
       "      <td>NaN</td>\n",
       "      <td>15348.00</td>\n",
       "    </tr>\n",
       "  </tbody>\n",
       "</table>\n",
       "</div>"
      ],
      "text/plain": [
       "    point       date      inc       out\n",
       "0       3 2001-09-14      NaN   2300.00\n",
       "1       1 2001-04-11      NaN   3195.04\n",
       "2       2 2001-03-22  10000.0   1440.00\n",
       "3       3 2001-10-02  18000.0       NaN\n",
       "4       1 2001-03-26      NaN   1221.00\n",
       "5       1 2001-03-28      NaN   2075.00\n",
       "6       2 2001-04-02      NaN   2040.00\n",
       "7       2 2001-03-29      NaN   7848.00\n",
       "8       1 2001-05-11   4500.0   2530.00\n",
       "9       1 2001-03-29      NaN   2004.00\n",
       "10      1 2001-04-27      NaN   3110.00\n",
       "11      3 2002-09-16      NaN   2150.00\n",
       "12      1 2001-04-13   5000.0   4490.00\n",
       "13      1 2001-03-23  15000.0       NaN\n",
       "14      1 2001-03-22  15000.0       NaN\n",
       "15      2 2001-03-24   1500.0       NaN\n",
       "16      1 2001-03-24   3400.0   3663.00\n",
       "17      3 2001-09-13  11500.0   1500.00\n",
       "18      1 2001-03-14      NaN  15348.00"
      ]
     },
     "execution_count": 91,
     "metadata": {},
     "output_type": "execute_result"
    }
   ],
   "source": [
    "data"
   ]
  },
  {
   "cell_type": "markdown",
   "metadata": {},
   "source": [
    "### №30\n"
   ]
  },
  {
   "cell_type": "markdown",
   "metadata": {},
   "source": [
    "В предположении, что приход и расход денег на каждом пункте приема фиксируется произвольное число раз (первичным ключом в таблицах является столбец code), требуется получить таблицу, в которой каждому пункту за каждую дату выполнения операций будет соответствовать одна строка.\n",
    "Вывод: point, date, суммарный расход пункта за день (out), суммарный приход пункта за день (inc). Отсутствующие значения считать неопределенными (NULL)."
   ]
  },
  {
   "cell_type": "code",
   "execution_count": 92,
   "metadata": {},
   "outputs": [],
   "source": [
    "query = '''\n",
    "WITH\n",
    "query_1 AS\n",
    "(SELECT\n",
    "i.point,\n",
    "i.date,\n",
    "SUM(i.inc) AS sum_inc\n",
    "FROM\n",
    "Income AS i\n",
    "GROUP BY \n",
    "i.point,\n",
    "i.date),\n",
    "\n",
    "query_2 AS\n",
    "(SELECT\n",
    "o.point,\n",
    "o.date,\n",
    "SUM(o.out) AS sum_out\n",
    "FROM\n",
    "Outcome AS o\n",
    "GROUP BY \n",
    "o.point,\n",
    "o.date)\n",
    "\n",
    "SELECT\n",
    "query_1.point,\n",
    "query_1.date,\n",
    "SUM(o.out) AS sum_out,\n",
    "query_1.sum_inc\n",
    "FROM query_1\n",
    "LEFT JOIN Outcome AS o ON query_1.point = o.point AND query_1.date = o.date\n",
    "GROUP BY query_1.point, query_1.date, query_1.sum_inc\n",
    "\n",
    "UNION \n",
    "\n",
    "SELECT\n",
    "query_2.point,\n",
    "query_2.date,\n",
    "query_2.sum_out,\n",
    "SUM(i.inc) AS sum_inc\n",
    "FROM query_2\n",
    "LEFT JOIN Income AS i ON query_2.point = i.point AND query_2.date = i.date\n",
    "GROUP BY query_2.point, query_2.date, query_2.sum_out;\n",
    "\n",
    "'''"
   ]
  },
  {
   "cell_type": "code",
   "execution_count": 93,
   "metadata": {},
   "outputs": [],
   "source": [
    "data = pd.read_sql_query(query,con = engine)"
   ]
  },
  {
   "cell_type": "code",
   "execution_count": 94,
   "metadata": {},
   "outputs": [
    {
     "data": {
      "text/html": [
       "<div>\n",
       "<style scoped>\n",
       "    .dataframe tbody tr th:only-of-type {\n",
       "        vertical-align: middle;\n",
       "    }\n",
       "\n",
       "    .dataframe tbody tr th {\n",
       "        vertical-align: top;\n",
       "    }\n",
       "\n",
       "    .dataframe thead th {\n",
       "        text-align: right;\n",
       "    }\n",
       "</style>\n",
       "<table border=\"1\" class=\"dataframe\">\n",
       "  <thead>\n",
       "    <tr style=\"text-align: right;\">\n",
       "      <th></th>\n",
       "      <th>point</th>\n",
       "      <th>date</th>\n",
       "      <th>sum_out</th>\n",
       "      <th>sum_inc</th>\n",
       "    </tr>\n",
       "  </thead>\n",
       "  <tbody>\n",
       "    <tr>\n",
       "      <th>0</th>\n",
       "      <td>3</td>\n",
       "      <td>2001-09-14</td>\n",
       "      <td>1150.00</td>\n",
       "      <td>NaN</td>\n",
       "    </tr>\n",
       "    <tr>\n",
       "      <th>1</th>\n",
       "      <td>1</td>\n",
       "      <td>2001-03-29</td>\n",
       "      <td>4010.00</td>\n",
       "      <td>NaN</td>\n",
       "    </tr>\n",
       "    <tr>\n",
       "      <th>2</th>\n",
       "      <td>1</td>\n",
       "      <td>2001-04-11</td>\n",
       "      <td>3195.04</td>\n",
       "      <td>NaN</td>\n",
       "    </tr>\n",
       "    <tr>\n",
       "      <th>3</th>\n",
       "      <td>1</td>\n",
       "      <td>2001-03-22</td>\n",
       "      <td>NaN</td>\n",
       "      <td>30000.0</td>\n",
       "    </tr>\n",
       "    <tr>\n",
       "      <th>4</th>\n",
       "      <td>2</td>\n",
       "      <td>2001-04-02</td>\n",
       "      <td>2040.00</td>\n",
       "      <td>NaN</td>\n",
       "    </tr>\n",
       "    <tr>\n",
       "      <th>5</th>\n",
       "      <td>1</td>\n",
       "      <td>2001-03-28</td>\n",
       "      <td>2075.00</td>\n",
       "      <td>NaN</td>\n",
       "    </tr>\n",
       "    <tr>\n",
       "      <th>6</th>\n",
       "      <td>1</td>\n",
       "      <td>2001-04-27</td>\n",
       "      <td>3110.00</td>\n",
       "      <td>NaN</td>\n",
       "    </tr>\n",
       "    <tr>\n",
       "      <th>7</th>\n",
       "      <td>2</td>\n",
       "      <td>2001-03-29</td>\n",
       "      <td>7848.00</td>\n",
       "      <td>NaN</td>\n",
       "    </tr>\n",
       "    <tr>\n",
       "      <th>8</th>\n",
       "      <td>1</td>\n",
       "      <td>2001-03-14</td>\n",
       "      <td>15348.00</td>\n",
       "      <td>NaN</td>\n",
       "    </tr>\n",
       "    <tr>\n",
       "      <th>9</th>\n",
       "      <td>1</td>\n",
       "      <td>2001-03-23</td>\n",
       "      <td>NaN</td>\n",
       "      <td>15000.0</td>\n",
       "    </tr>\n",
       "    <tr>\n",
       "      <th>10</th>\n",
       "      <td>1</td>\n",
       "      <td>2001-03-26</td>\n",
       "      <td>1221.00</td>\n",
       "      <td>NaN</td>\n",
       "    </tr>\n",
       "    <tr>\n",
       "      <th>11</th>\n",
       "      <td>1</td>\n",
       "      <td>2001-05-11</td>\n",
       "      <td>2530.00</td>\n",
       "      <td>4500.0</td>\n",
       "    </tr>\n",
       "    <tr>\n",
       "      <th>12</th>\n",
       "      <td>1</td>\n",
       "      <td>2001-04-13</td>\n",
       "      <td>4490.00</td>\n",
       "      <td>10000.0</td>\n",
       "    </tr>\n",
       "    <tr>\n",
       "      <th>13</th>\n",
       "      <td>3</td>\n",
       "      <td>2001-09-13</td>\n",
       "      <td>2700.00</td>\n",
       "      <td>3100.0</td>\n",
       "    </tr>\n",
       "    <tr>\n",
       "      <th>14</th>\n",
       "      <td>2</td>\n",
       "      <td>2001-03-22</td>\n",
       "      <td>2880.00</td>\n",
       "      <td>10000.0</td>\n",
       "    </tr>\n",
       "    <tr>\n",
       "      <th>15</th>\n",
       "      <td>1</td>\n",
       "      <td>2001-03-24</td>\n",
       "      <td>7163.00</td>\n",
       "      <td>7000.0</td>\n",
       "    </tr>\n",
       "    <tr>\n",
       "      <th>16</th>\n",
       "      <td>2</td>\n",
       "      <td>2001-03-24</td>\n",
       "      <td>NaN</td>\n",
       "      <td>3000.0</td>\n",
       "    </tr>\n",
       "  </tbody>\n",
       "</table>\n",
       "</div>"
      ],
      "text/plain": [
       "    point       date   sum_out  sum_inc\n",
       "0       3 2001-09-14   1150.00      NaN\n",
       "1       1 2001-03-29   4010.00      NaN\n",
       "2       1 2001-04-11   3195.04      NaN\n",
       "3       1 2001-03-22       NaN  30000.0\n",
       "4       2 2001-04-02   2040.00      NaN\n",
       "5       1 2001-03-28   2075.00      NaN\n",
       "6       1 2001-04-27   3110.00      NaN\n",
       "7       2 2001-03-29   7848.00      NaN\n",
       "8       1 2001-03-14  15348.00      NaN\n",
       "9       1 2001-03-23       NaN  15000.0\n",
       "10      1 2001-03-26   1221.00      NaN\n",
       "11      1 2001-05-11   2530.00   4500.0\n",
       "12      1 2001-04-13   4490.00  10000.0\n",
       "13      3 2001-09-13   2700.00   3100.0\n",
       "14      2 2001-03-22   2880.00  10000.0\n",
       "15      1 2001-03-24   7163.00   7000.0\n",
       "16      2 2001-03-24       NaN   3000.0"
      ]
     },
     "execution_count": 94,
     "metadata": {},
     "output_type": "execute_result"
    }
   ],
   "source": [
    "data"
   ]
  },
  {
   "cell_type": "markdown",
   "metadata": {},
   "source": [
    "### №31"
   ]
  },
  {
   "cell_type": "markdown",
   "metadata": {},
   "source": [
    "Для классов кораблей, калибр орудий которых не менее 16 дюймов, укажите класс и страну."
   ]
  },
  {
   "cell_type": "code",
   "execution_count": 95,
   "metadata": {},
   "outputs": [],
   "source": [
    "query = '''\n",
    "SELECT\n",
    "c.class,\n",
    "c.country\n",
    "FROM\n",
    "Classes AS c\n",
    "WHERE c.bore >=16\n",
    "'''"
   ]
  },
  {
   "cell_type": "code",
   "execution_count": 96,
   "metadata": {},
   "outputs": [],
   "source": [
    "data = pd.read_sql_query(query,con = engine)"
   ]
  },
  {
   "cell_type": "code",
   "execution_count": 97,
   "metadata": {},
   "outputs": [
    {
     "data": {
      "text/html": [
       "<div>\n",
       "<style scoped>\n",
       "    .dataframe tbody tr th:only-of-type {\n",
       "        vertical-align: middle;\n",
       "    }\n",
       "\n",
       "    .dataframe tbody tr th {\n",
       "        vertical-align: top;\n",
       "    }\n",
       "\n",
       "    .dataframe thead th {\n",
       "        text-align: right;\n",
       "    }\n",
       "</style>\n",
       "<table border=\"1\" class=\"dataframe\">\n",
       "  <thead>\n",
       "    <tr style=\"text-align: right;\">\n",
       "      <th></th>\n",
       "      <th>class</th>\n",
       "      <th>country</th>\n",
       "    </tr>\n",
       "  </thead>\n",
       "  <tbody>\n",
       "    <tr>\n",
       "      <th>0</th>\n",
       "      <td>Iowa</td>\n",
       "      <td>USA</td>\n",
       "    </tr>\n",
       "    <tr>\n",
       "      <th>1</th>\n",
       "      <td>North Carolina</td>\n",
       "      <td>USA</td>\n",
       "    </tr>\n",
       "    <tr>\n",
       "      <th>2</th>\n",
       "      <td>Yamato</td>\n",
       "      <td>Japan</td>\n",
       "    </tr>\n",
       "  </tbody>\n",
       "</table>\n",
       "</div>"
      ],
      "text/plain": [
       "            class country\n",
       "0            Iowa     USA\n",
       "1  North Carolina     USA\n",
       "2          Yamato   Japan"
      ]
     },
     "execution_count": 97,
     "metadata": {},
     "output_type": "execute_result"
    }
   ],
   "source": [
    "data"
   ]
  },
  {
   "cell_type": "markdown",
   "metadata": {},
   "source": [
    "### №32"
   ]
  },
  {
   "cell_type": "markdown",
   "metadata": {},
   "source": [
    "Одной из характеристик корабля является половина куба калибра его главных орудий (mw). С точностью до 2 десятичных знаков определите среднее значение mw для кораблей каждой страны, у которой есть корабли в базе данных."
   ]
  },
  {
   "cell_type": "code",
   "execution_count": 98,
   "metadata": {},
   "outputs": [],
   "source": [
    "query = '''\n",
    "WITH\n",
    "\n",
    "query_1 AS\n",
    "\n",
    "(SELECT\n",
    " c.class,\n",
    " c.country,\n",
    "POWER(c.bore,3)/2 AS weight\n",
    "FROM\n",
    "Classes AS c\n",
    "LEFT JOIN Ships AS s ON c.class = s.class\n",
    "LEFT JOIN Outcomes AS o ON s.class = o.ship\n",
    ")\n",
    "\n",
    "SELECT\n",
    "DISTINCT query_1.country,\n",
    "ROUND(AVG(query_1.weight)::numeric, 2) AS avg_weight\n",
    "FROM \n",
    "query_1 \n",
    "\n",
    "GROUP BY query_1.country\n",
    "'''"
   ]
  },
  {
   "cell_type": "code",
   "execution_count": 99,
   "metadata": {},
   "outputs": [],
   "source": [
    "data = pd.read_sql_query(query,con = engine)"
   ]
  },
  {
   "cell_type": "code",
   "execution_count": 100,
   "metadata": {},
   "outputs": [
    {
     "data": {
      "text/html": [
       "<div>\n",
       "<style scoped>\n",
       "    .dataframe tbody tr th:only-of-type {\n",
       "        vertical-align: middle;\n",
       "    }\n",
       "\n",
       "    .dataframe tbody tr th {\n",
       "        vertical-align: top;\n",
       "    }\n",
       "\n",
       "    .dataframe thead th {\n",
       "        text-align: right;\n",
       "    }\n",
       "</style>\n",
       "<table border=\"1\" class=\"dataframe\">\n",
       "  <thead>\n",
       "    <tr style=\"text-align: right;\">\n",
       "      <th></th>\n",
       "      <th>country</th>\n",
       "      <th>avg_weight</th>\n",
       "    </tr>\n",
       "  </thead>\n",
       "  <tbody>\n",
       "    <tr>\n",
       "      <th>0</th>\n",
       "      <td>USA</td>\n",
       "      <td>1897.78</td>\n",
       "    </tr>\n",
       "    <tr>\n",
       "      <th>1</th>\n",
       "      <td>Germany</td>\n",
       "      <td>1687.50</td>\n",
       "    </tr>\n",
       "    <tr>\n",
       "      <th>2</th>\n",
       "      <td>Japan</td>\n",
       "      <td>1886.67</td>\n",
       "    </tr>\n",
       "    <tr>\n",
       "      <th>3</th>\n",
       "      <td>Gt.Britain</td>\n",
       "      <td>1687.50</td>\n",
       "    </tr>\n",
       "  </tbody>\n",
       "</table>\n",
       "</div>"
      ],
      "text/plain": [
       "      country  avg_weight\n",
       "0         USA     1897.78\n",
       "1     Germany     1687.50\n",
       "2       Japan     1886.67\n",
       "3  Gt.Britain     1687.50"
      ]
     },
     "execution_count": 100,
     "metadata": {},
     "output_type": "execute_result"
    }
   ],
   "source": [
    "data"
   ]
  },
  {
   "cell_type": "markdown",
   "metadata": {},
   "source": [
    "### №33"
   ]
  },
  {
   "cell_type": "markdown",
   "metadata": {},
   "source": [
    "Укажите корабли, потопленные в сражениях в Северной Атлантике (North Atlantic). Вывод: ship."
   ]
  },
  {
   "cell_type": "code",
   "execution_count": 101,
   "metadata": {},
   "outputs": [],
   "source": [
    "query = '''\n",
    "SELECT\n",
    "o.ship\n",
    "FROM\n",
    "Outcomes as o\n",
    "WHERE\n",
    "o.battle LIKE 'North Atlantic'\n",
    "AND result LIKE 'sunk'\n",
    "\n",
    "'''"
   ]
  },
  {
   "cell_type": "code",
   "execution_count": 102,
   "metadata": {},
   "outputs": [],
   "source": [
    "data = pd.read_sql_query(query,con = engine)"
   ]
  },
  {
   "cell_type": "code",
   "execution_count": 103,
   "metadata": {},
   "outputs": [
    {
     "data": {
      "text/html": [
       "<div>\n",
       "<style scoped>\n",
       "    .dataframe tbody tr th:only-of-type {\n",
       "        vertical-align: middle;\n",
       "    }\n",
       "\n",
       "    .dataframe tbody tr th {\n",
       "        vertical-align: top;\n",
       "    }\n",
       "\n",
       "    .dataframe thead th {\n",
       "        text-align: right;\n",
       "    }\n",
       "</style>\n",
       "<table border=\"1\" class=\"dataframe\">\n",
       "  <thead>\n",
       "    <tr style=\"text-align: right;\">\n",
       "      <th></th>\n",
       "      <th>ship</th>\n",
       "    </tr>\n",
       "  </thead>\n",
       "  <tbody>\n",
       "    <tr>\n",
       "      <th>0</th>\n",
       "      <td>Bismarck</td>\n",
       "    </tr>\n",
       "    <tr>\n",
       "      <th>1</th>\n",
       "      <td>Hood</td>\n",
       "    </tr>\n",
       "  </tbody>\n",
       "</table>\n",
       "</div>"
      ],
      "text/plain": [
       "       ship\n",
       "0  Bismarck\n",
       "1      Hood"
      ]
     },
     "execution_count": 103,
     "metadata": {},
     "output_type": "execute_result"
    }
   ],
   "source": [
    "data"
   ]
  },
  {
   "cell_type": "markdown",
   "metadata": {},
   "source": [
    "### №34"
   ]
  },
  {
   "cell_type": "markdown",
   "metadata": {},
   "source": [
    "По Вашингтонскому международному договору от начала 1922 г. запрещалось строить линейные корабли водоизмещением более 35 тыс.тонн. Укажите корабли, нарушившие этот договор (учитывать только корабли c известным годом спуска на воду). Вывести названия кораблей."
   ]
  },
  {
   "cell_type": "code",
   "execution_count": 104,
   "metadata": {},
   "outputs": [],
   "source": [
    "query = '''\n",
    "SELECT\n",
    "DISTINCT s.name\n",
    "FROM\n",
    "Ships AS s\n",
    "LEFT JOIN Classes AS c ON s.class = c.class\n",
    "WHERE c.displacement > 35000 AND\n",
    "s.launched >= 1922 AND\n",
    "c.type LIKE 'bb'\n",
    "'''"
   ]
  },
  {
   "cell_type": "code",
   "execution_count": 105,
   "metadata": {},
   "outputs": [],
   "source": [
    "data = pd.read_sql_query(query,con = engine)"
   ]
  },
  {
   "cell_type": "code",
   "execution_count": 106,
   "metadata": {},
   "outputs": [
    {
     "data": {
      "text/html": [
       "<div>\n",
       "<style scoped>\n",
       "    .dataframe tbody tr th:only-of-type {\n",
       "        vertical-align: middle;\n",
       "    }\n",
       "\n",
       "    .dataframe tbody tr th {\n",
       "        vertical-align: top;\n",
       "    }\n",
       "\n",
       "    .dataframe thead th {\n",
       "        text-align: right;\n",
       "    }\n",
       "</style>\n",
       "<table border=\"1\" class=\"dataframe\">\n",
       "  <thead>\n",
       "    <tr style=\"text-align: right;\">\n",
       "      <th></th>\n",
       "      <th>name</th>\n",
       "    </tr>\n",
       "  </thead>\n",
       "  <tbody>\n",
       "    <tr>\n",
       "      <th>0</th>\n",
       "      <td>Iowa</td>\n",
       "    </tr>\n",
       "    <tr>\n",
       "      <th>1</th>\n",
       "      <td>Missouri</td>\n",
       "    </tr>\n",
       "    <tr>\n",
       "      <th>2</th>\n",
       "      <td>Musashi</td>\n",
       "    </tr>\n",
       "    <tr>\n",
       "      <th>3</th>\n",
       "      <td>New Jersey</td>\n",
       "    </tr>\n",
       "    <tr>\n",
       "      <th>4</th>\n",
       "      <td>North Carolina</td>\n",
       "    </tr>\n",
       "    <tr>\n",
       "      <th>5</th>\n",
       "      <td>South Dakota</td>\n",
       "    </tr>\n",
       "    <tr>\n",
       "      <th>6</th>\n",
       "      <td>Washington</td>\n",
       "    </tr>\n",
       "    <tr>\n",
       "      <th>7</th>\n",
       "      <td>Wisconsin</td>\n",
       "    </tr>\n",
       "    <tr>\n",
       "      <th>8</th>\n",
       "      <td>Yamato</td>\n",
       "    </tr>\n",
       "  </tbody>\n",
       "</table>\n",
       "</div>"
      ],
      "text/plain": [
       "             name\n",
       "0            Iowa\n",
       "1        Missouri\n",
       "2         Musashi\n",
       "3      New Jersey\n",
       "4  North Carolina\n",
       "5    South Dakota\n",
       "6      Washington\n",
       "7       Wisconsin\n",
       "8          Yamato"
      ]
     },
     "execution_count": 106,
     "metadata": {},
     "output_type": "execute_result"
    }
   ],
   "source": [
    "data"
   ]
  },
  {
   "cell_type": "markdown",
   "metadata": {},
   "source": [
    "### №35\n"
   ]
  },
  {
   "cell_type": "markdown",
   "metadata": {},
   "source": [
    "В таблице Product найти модели, которые состоят только из цифр или только из латинских букв (A-Z, без учета регистра).\n",
    "Вывод: номер модели, тип модели."
   ]
  },
  {
   "cell_type": "code",
   "execution_count": 107,
   "metadata": {},
   "outputs": [],
   "source": [
    "query = '''\n",
    "SELECT \n",
    "\n",
    "\n",
    "'''"
   ]
  },
  {
   "cell_type": "code",
   "execution_count": 108,
   "metadata": {},
   "outputs": [],
   "source": [
    "data = pd.read_sql_query(query,con = engine)"
   ]
  },
  {
   "cell_type": "code",
   "execution_count": 109,
   "metadata": {},
   "outputs": [
    {
     "data": {
      "text/html": [
       "<div>\n",
       "<style scoped>\n",
       "    .dataframe tbody tr th:only-of-type {\n",
       "        vertical-align: middle;\n",
       "    }\n",
       "\n",
       "    .dataframe tbody tr th {\n",
       "        vertical-align: top;\n",
       "    }\n",
       "\n",
       "    .dataframe thead th {\n",
       "        text-align: right;\n",
       "    }\n",
       "</style>\n",
       "<table border=\"1\" class=\"dataframe\">\n",
       "  <thead>\n",
       "    <tr style=\"text-align: right;\">\n",
       "      <th></th>\n",
       "    </tr>\n",
       "  </thead>\n",
       "  <tbody>\n",
       "  </tbody>\n",
       "</table>\n",
       "</div>"
      ],
      "text/plain": [
       "Empty DataFrame\n",
       "Columns: []\n",
       "Index: []"
      ]
     },
     "execution_count": 109,
     "metadata": {},
     "output_type": "execute_result"
    }
   ],
   "source": [
    "data"
   ]
  },
  {
   "cell_type": "markdown",
   "metadata": {},
   "source": [
    "### №36"
   ]
  },
  {
   "cell_type": "markdown",
   "metadata": {},
   "source": [
    "Перечислите названия головных кораблей, имеющихся в базе данных (учесть корабли в Outcomes)."
   ]
  },
  {
   "cell_type": "code",
   "execution_count": 110,
   "metadata": {},
   "outputs": [],
   "source": [
    "query = '''\n",
    "SELECT\n",
    "s.name\n",
    "FROM\n",
    "Ships AS s\n",
    "WHERE\n",
    "s.name = s.class\n",
    "UNION\n",
    "SELECT\n",
    "o.ship\n",
    "FROM\n",
    "Outcomes AS o\n",
    "INNER JOIN Classes as c ON o.ship = c.class\n",
    "\n",
    "'''"
   ]
  },
  {
   "cell_type": "code",
   "execution_count": 111,
   "metadata": {},
   "outputs": [],
   "source": [
    "data = pd.read_sql_query(query,con = engine)"
   ]
  },
  {
   "cell_type": "code",
   "execution_count": 112,
   "metadata": {},
   "outputs": [
    {
     "data": {
      "text/html": [
       "<div>\n",
       "<style scoped>\n",
       "    .dataframe tbody tr th:only-of-type {\n",
       "        vertical-align: middle;\n",
       "    }\n",
       "\n",
       "    .dataframe tbody tr th {\n",
       "        vertical-align: top;\n",
       "    }\n",
       "\n",
       "    .dataframe thead th {\n",
       "        text-align: right;\n",
       "    }\n",
       "</style>\n",
       "<table border=\"1\" class=\"dataframe\">\n",
       "  <thead>\n",
       "    <tr style=\"text-align: right;\">\n",
       "      <th></th>\n",
       "      <th>name</th>\n",
       "    </tr>\n",
       "  </thead>\n",
       "  <tbody>\n",
       "    <tr>\n",
       "      <th>0</th>\n",
       "      <td>Tennessee</td>\n",
       "    </tr>\n",
       "    <tr>\n",
       "      <th>1</th>\n",
       "      <td>Yamato</td>\n",
       "    </tr>\n",
       "    <tr>\n",
       "      <th>2</th>\n",
       "      <td>Bismarck</td>\n",
       "    </tr>\n",
       "    <tr>\n",
       "      <th>3</th>\n",
       "      <td>Revenge</td>\n",
       "    </tr>\n",
       "    <tr>\n",
       "      <th>4</th>\n",
       "      <td>Kongo</td>\n",
       "    </tr>\n",
       "    <tr>\n",
       "      <th>5</th>\n",
       "      <td>Renown</td>\n",
       "    </tr>\n",
       "    <tr>\n",
       "      <th>6</th>\n",
       "      <td>North Carolina</td>\n",
       "    </tr>\n",
       "    <tr>\n",
       "      <th>7</th>\n",
       "      <td>Iowa</td>\n",
       "    </tr>\n",
       "  </tbody>\n",
       "</table>\n",
       "</div>"
      ],
      "text/plain": [
       "             name\n",
       "0       Tennessee\n",
       "1          Yamato\n",
       "2        Bismarck\n",
       "3         Revenge\n",
       "4           Kongo\n",
       "5          Renown\n",
       "6  North Carolina\n",
       "7            Iowa"
      ]
     },
     "execution_count": 112,
     "metadata": {},
     "output_type": "execute_result"
    }
   ],
   "source": [
    "data"
   ]
  },
  {
   "cell_type": "markdown",
   "metadata": {},
   "source": [
    "### №37"
   ]
  },
  {
   "cell_type": "markdown",
   "metadata": {},
   "source": [
    "Найдите классы, в которые входит только один корабль из базы данных (учесть также корабли в Outcomes)."
   ]
  },
  {
   "cell_type": "code",
   "execution_count": 113,
   "metadata": {},
   "outputs": [],
   "source": [
    "query = '''\n",
    "SELECT c.class\n",
    "FROM classes c\n",
    " LEFT JOIN (\n",
    " SELECT class, name\n",
    " FROM ships\n",
    " UNION\n",
    " SELECT ship AS class, ship AS name\n",
    " FROM outcomes\n",
    ") AS s ON s.class = c.class\n",
    "GROUP BY c.class\n",
    "HAVING COUNT(s.name) = 1\n",
    "'''"
   ]
  },
  {
   "cell_type": "code",
   "execution_count": 114,
   "metadata": {},
   "outputs": [],
   "source": [
    "data = pd.read_sql_query(query,con = engine)"
   ]
  },
  {
   "cell_type": "code",
   "execution_count": 115,
   "metadata": {},
   "outputs": [
    {
     "data": {
      "text/html": [
       "<div>\n",
       "<style scoped>\n",
       "    .dataframe tbody tr th:only-of-type {\n",
       "        vertical-align: middle;\n",
       "    }\n",
       "\n",
       "    .dataframe tbody tr th {\n",
       "        vertical-align: top;\n",
       "    }\n",
       "\n",
       "    .dataframe thead th {\n",
       "        text-align: right;\n",
       "    }\n",
       "</style>\n",
       "<table border=\"1\" class=\"dataframe\">\n",
       "  <thead>\n",
       "    <tr style=\"text-align: right;\">\n",
       "      <th></th>\n",
       "      <th>class</th>\n",
       "    </tr>\n",
       "  </thead>\n",
       "  <tbody>\n",
       "    <tr>\n",
       "      <th>0</th>\n",
       "      <td>Bismarck</td>\n",
       "    </tr>\n",
       "  </tbody>\n",
       "</table>\n",
       "</div>"
      ],
      "text/plain": [
       "      class\n",
       "0  Bismarck"
      ]
     },
     "execution_count": 115,
     "metadata": {},
     "output_type": "execute_result"
    }
   ],
   "source": [
    "data"
   ]
  },
  {
   "cell_type": "markdown",
   "metadata": {},
   "source": [
    "### №38"
   ]
  },
  {
   "cell_type": "markdown",
   "metadata": {},
   "source": [
    "Найдите страны, имевшие когда-либо классы обычных боевых кораблей ('bb') и имевшие когда-либо классы крейсеров ('bc')"
   ]
  },
  {
   "cell_type": "code",
   "execution_count": 161,
   "metadata": {},
   "outputs": [],
   "source": [
    "query = '''\n",
    "WITH\n",
    "query_1 AS\n",
    "(SELECT \n",
    "*\n",
    "FROM\n",
    "Classes AS c\n",
    "WHERE c.type LIKE 'bb'),\n",
    "\n",
    "query_2 AS\n",
    "(SELECT \n",
    "*\n",
    "FROM\n",
    "Classes AS c\n",
    "WHERE c.type LIKE 'bc')\n",
    "\n",
    "SELECT\n",
    "DISTINCT query_1.country\n",
    "FROM\n",
    "query_1\n",
    "INNER JOIN query_2 ON query_1.country = query_2.country\n",
    "'''"
   ]
  },
  {
   "cell_type": "code",
   "execution_count": 162,
   "metadata": {},
   "outputs": [],
   "source": [
    "data = pd.read_sql_query(query,con = engine)"
   ]
  },
  {
   "cell_type": "code",
   "execution_count": 163,
   "metadata": {},
   "outputs": [
    {
     "data": {
      "text/html": [
       "<div>\n",
       "<style scoped>\n",
       "    .dataframe tbody tr th:only-of-type {\n",
       "        vertical-align: middle;\n",
       "    }\n",
       "\n",
       "    .dataframe tbody tr th {\n",
       "        vertical-align: top;\n",
       "    }\n",
       "\n",
       "    .dataframe thead th {\n",
       "        text-align: right;\n",
       "    }\n",
       "</style>\n",
       "<table border=\"1\" class=\"dataframe\">\n",
       "  <thead>\n",
       "    <tr style=\"text-align: right;\">\n",
       "      <th></th>\n",
       "      <th>country</th>\n",
       "    </tr>\n",
       "  </thead>\n",
       "  <tbody>\n",
       "    <tr>\n",
       "      <th>0</th>\n",
       "      <td>Gt.Britain</td>\n",
       "    </tr>\n",
       "    <tr>\n",
       "      <th>1</th>\n",
       "      <td>Japan</td>\n",
       "    </tr>\n",
       "  </tbody>\n",
       "</table>\n",
       "</div>"
      ],
      "text/plain": [
       "      country\n",
       "0  Gt.Britain\n",
       "1       Japan"
      ]
     },
     "execution_count": 163,
     "metadata": {},
     "output_type": "execute_result"
    }
   ],
   "source": [
    "data"
   ]
  }
 ],
 "metadata": {
  "colab": {
   "provenance": []
  },
  "kernelspec": {
   "display_name": "Python 3 (ipykernel)",
   "language": "python",
   "name": "python3"
  },
  "language_info": {
   "codemirror_mode": {
    "name": "ipython",
    "version": 3
   },
   "file_extension": ".py",
   "mimetype": "text/x-python",
   "name": "python",
   "nbconvert_exporter": "python",
   "pygments_lexer": "ipython3",
   "version": "3.9.16"
  },
  "toc": {
   "base_numbering": 1,
   "nav_menu": {},
   "number_sections": true,
   "sideBar": true,
   "skip_h1_title": true,
   "title_cell": "SQL запросы портала SQL-EX",
   "title_sidebar": "SQL запросы портала SQL-EX",
   "toc_cell": true,
   "toc_position": {
    "height": "calc(100% - 180px)",
    "left": "10px",
    "top": "150px",
    "width": "384px"
   },
   "toc_section_display": true,
   "toc_window_display": false
  }
 },
 "nbformat": 4,
 "nbformat_minor": 1
}
