{
 "cells": [
  {
   "cell_type": "markdown",
   "id": "f965bfe6",
   "metadata": {
    "toc": true
   },
   "source": [
    "<h1>Запросы SQL из базы данных SQLite (локальный сервер(файл) SQLite )<span class=\"tocSkip\"></span></h1>\n",
    "<div class=\"toc\"><ul class=\"toc-item\"><li><span><a href=\"#Подключение-к-базе-данных-с-помощью-Python\" data-toc-modified-id=\"Подключение-к-базе-данных-с-помощью-Python-1\"><span class=\"toc-item-num\">1&nbsp;&nbsp;</span>Подключение к базе данных с помощью Python</a></span></li></ul></div>"
   ]
  },
  {
   "cell_type": "markdown",
   "id": "dd42b785",
   "metadata": {},
   "source": [
    "## Подключение к базе данных с помощью Python"
   ]
  },
  {
   "cell_type": "markdown",
   "id": "ee42f00a",
   "metadata": {},
   "source": [
    "Для подключения к базе данных SQLite часто используют библиотеку sqlite3 — она одна из самых распространённых. Для подключения к базе данных нам не понадобятся данные для подключения(авторизация)"
   ]
  },
  {
   "cell_type": "code",
   "execution_count": 1,
   "id": "9f594fb1",
   "metadata": {},
   "outputs": [],
   "source": [
    "import sqlite3\n",
    "import pandas as pd\n",
    "\n",
    "# Пример подключения к базе данных test_sqlite.db\n",
    "# Здесь создается подключение к базе данных SQLite с именем файла 'db'. \n",
    "# Если файл 'db' не существует, то он будет создан. \n",
    "# Если файл существует, то будет установлено соединение с ним.Важно, чтобы файл базы данных, находился в том же катологе \n",
    "# исполняемого файла на Python\n",
    "conn = sqlite3.connect('test_sqlite.db') \n",
    "\n",
    "# Создается объект курсора (cursor), который используется для выполнения SQL-запросов в базе данных. \n",
    "# Курсор предоставляет методы для выполнения SQL-запросов и получения результатов.Также используется для записи и удаления таблиц \n",
    "# в базе данных\n",
    "cursor = conn.cursor()\n",
    "\n",
    "\n"
   ]
  },
  {
   "cell_type": "markdown",
   "id": "c873e288",
   "metadata": {},
   "source": [
    "Напишем функцию для вывода SQL запроса, где параметром будет являться SQL запрос, а функция вернёт результат заапроса"
   ]
  },
  {
   "cell_type": "code",
   "execution_count": 2,
   "id": "7888ff08",
   "metadata": {},
   "outputs": [],
   "source": [
    "def select(sql):\n",
    "  return pd.read_sql(sql,con = conn)"
   ]
  },
  {
   "cell_type": "markdown",
   "id": "06687098",
   "metadata": {},
   "source": [
    "Ранее в базе данных `test_sqlite.db` уже была создана таблица test_1, которую мы создали с помощью IDE DB Browser. Проверим резльтат нашего тестового запроса. "
   ]
  },
  {
   "cell_type": "code",
   "execution_count": 3,
   "id": "befa91c4",
   "metadata": {},
   "outputs": [],
   "source": [
    "sql = '''select * from test_1 t '''"
   ]
  },
  {
   "cell_type": "code",
   "execution_count": 4,
   "id": "9505a238",
   "metadata": {},
   "outputs": [
    {
     "data": {
      "text/html": [
       "<div>\n",
       "<style scoped>\n",
       "    .dataframe tbody tr th:only-of-type {\n",
       "        vertical-align: middle;\n",
       "    }\n",
       "\n",
       "    .dataframe tbody tr th {\n",
       "        vertical-align: top;\n",
       "    }\n",
       "\n",
       "    .dataframe thead th {\n",
       "        text-align: right;\n",
       "    }\n",
       "</style>\n",
       "<table border=\"1\" class=\"dataframe\">\n",
       "  <thead>\n",
       "    <tr style=\"text-align: right;\">\n",
       "      <th></th>\n",
       "      <th>number</th>\n",
       "    </tr>\n",
       "  </thead>\n",
       "  <tbody>\n",
       "    <tr>\n",
       "      <th>0</th>\n",
       "      <td>1</td>\n",
       "    </tr>\n",
       "    <tr>\n",
       "      <th>1</th>\n",
       "      <td>2</td>\n",
       "    </tr>\n",
       "    <tr>\n",
       "      <th>2</th>\n",
       "      <td>3</td>\n",
       "    </tr>\n",
       "    <tr>\n",
       "      <th>3</th>\n",
       "      <td>4</td>\n",
       "    </tr>\n",
       "    <tr>\n",
       "      <th>4</th>\n",
       "      <td>5</td>\n",
       "    </tr>\n",
       "  </tbody>\n",
       "</table>\n",
       "</div>"
      ],
      "text/plain": [
       "   number\n",
       "0       1\n",
       "1       2\n",
       "2       3\n",
       "3       4\n",
       "4       5"
      ]
     },
     "execution_count": 4,
     "metadata": {},
     "output_type": "execute_result"
    }
   ],
   "source": [
    "select(sql)"
   ]
  },
  {
   "cell_type": "markdown",
   "id": "a551573b",
   "metadata": {},
   "source": [
    "Результат выполнения успешный"
   ]
  },
  {
   "cell_type": "markdown",
   "id": "68eaa602",
   "metadata": {},
   "source": [
    "Создадим тестовый датафрейм и зальём его в нашу базу данных **test_sqlite.db**"
   ]
  },
  {
   "cell_type": "code",
   "execution_count": 5,
   "id": "30939e0e",
   "metadata": {},
   "outputs": [
    {
     "data": {
      "text/html": [
       "<div>\n",
       "<style scoped>\n",
       "    .dataframe tbody tr th:only-of-type {\n",
       "        vertical-align: middle;\n",
       "    }\n",
       "\n",
       "    .dataframe tbody tr th {\n",
       "        vertical-align: top;\n",
       "    }\n",
       "\n",
       "    .dataframe thead th {\n",
       "        text-align: right;\n",
       "    }\n",
       "</style>\n",
       "<table border=\"1\" class=\"dataframe\">\n",
       "  <thead>\n",
       "    <tr style=\"text-align: right;\">\n",
       "      <th></th>\n",
       "      <th>number</th>\n",
       "    </tr>\n",
       "  </thead>\n",
       "  <tbody>\n",
       "    <tr>\n",
       "      <th>0</th>\n",
       "      <td>1</td>\n",
       "    </tr>\n",
       "    <tr>\n",
       "      <th>1</th>\n",
       "      <td>2</td>\n",
       "    </tr>\n",
       "    <tr>\n",
       "      <th>2</th>\n",
       "      <td>3</td>\n",
       "    </tr>\n",
       "    <tr>\n",
       "      <th>3</th>\n",
       "      <td>4</td>\n",
       "    </tr>\n",
       "    <tr>\n",
       "      <th>4</th>\n",
       "      <td>5</td>\n",
       "    </tr>\n",
       "  </tbody>\n",
       "</table>\n",
       "</div>"
      ],
      "text/plain": [
       "   number\n",
       "0       1\n",
       "1       2\n",
       "2       3\n",
       "3       4\n",
       "4       5"
      ]
     },
     "execution_count": 5,
     "metadata": {},
     "output_type": "execute_result"
    }
   ],
   "source": [
    "new_df = pd.DataFrame({'number': [1,2,3,4,5]})\n",
    "new_df"
   ]
  },
  {
   "cell_type": "code",
   "execution_count": 6,
   "id": "9b46cafd",
   "metadata": {},
   "outputs": [],
   "source": [
    "# Параметр if_exists = 'replace' - нужен для того, чтобы перезаписывать таблицу test_1 в базу данных, в случае, если мы перегружаем тетрадку \n",
    "# Jupyter, если не поставим, будет ошибка. \n",
    "# Параметр index=False, нужен, чтобы в базу данных записалась таблица без индексов\n",
    "\n",
    "new_df.to_sql('test_1',conn,if_exists = 'replace',index=False)"
   ]
  },
  {
   "cell_type": "markdown",
   "id": "139a3c63",
   "metadata": {},
   "source": [
    "Выполняем запрос по вновь добавленной в базу данных таблице test_1"
   ]
  },
  {
   "cell_type": "code",
   "execution_count": 7,
   "id": "ec9c1fa6",
   "metadata": {},
   "outputs": [],
   "source": [
    "sql = '''select number*3 from test_1  '''"
   ]
  },
  {
   "cell_type": "code",
   "execution_count": 8,
   "id": "97158023",
   "metadata": {},
   "outputs": [
    {
     "data": {
      "text/html": [
       "<div>\n",
       "<style scoped>\n",
       "    .dataframe tbody tr th:only-of-type {\n",
       "        vertical-align: middle;\n",
       "    }\n",
       "\n",
       "    .dataframe tbody tr th {\n",
       "        vertical-align: top;\n",
       "    }\n",
       "\n",
       "    .dataframe thead th {\n",
       "        text-align: right;\n",
       "    }\n",
       "</style>\n",
       "<table border=\"1\" class=\"dataframe\">\n",
       "  <thead>\n",
       "    <tr style=\"text-align: right;\">\n",
       "      <th></th>\n",
       "      <th>number*3</th>\n",
       "    </tr>\n",
       "  </thead>\n",
       "  <tbody>\n",
       "    <tr>\n",
       "      <th>0</th>\n",
       "      <td>3</td>\n",
       "    </tr>\n",
       "    <tr>\n",
       "      <th>1</th>\n",
       "      <td>6</td>\n",
       "    </tr>\n",
       "    <tr>\n",
       "      <th>2</th>\n",
       "      <td>9</td>\n",
       "    </tr>\n",
       "    <tr>\n",
       "      <th>3</th>\n",
       "      <td>12</td>\n",
       "    </tr>\n",
       "    <tr>\n",
       "      <th>4</th>\n",
       "      <td>15</td>\n",
       "    </tr>\n",
       "  </tbody>\n",
       "</table>\n",
       "</div>"
      ],
      "text/plain": [
       "   number*3\n",
       "0         3\n",
       "1         6\n",
       "2         9\n",
       "3        12\n",
       "4        15"
      ]
     },
     "execution_count": 8,
     "metadata": {},
     "output_type": "execute_result"
    }
   ],
   "source": [
    "select(sql)"
   ]
  },
  {
   "cell_type": "markdown",
   "id": "13606204",
   "metadata": {},
   "source": [
    "Альтернативный способ вывода sql запроса"
   ]
  },
  {
   "cell_type": "code",
   "execution_count": 9,
   "id": "67a444f8",
   "metadata": {},
   "outputs": [
    {
     "data": {
      "text/html": [
       "<div>\n",
       "<style scoped>\n",
       "    .dataframe tbody tr th:only-of-type {\n",
       "        vertical-align: middle;\n",
       "    }\n",
       "\n",
       "    .dataframe tbody tr th {\n",
       "        vertical-align: top;\n",
       "    }\n",
       "\n",
       "    .dataframe thead th {\n",
       "        text-align: right;\n",
       "    }\n",
       "</style>\n",
       "<table border=\"1\" class=\"dataframe\">\n",
       "  <thead>\n",
       "    <tr style=\"text-align: right;\">\n",
       "      <th></th>\n",
       "      <th>number*3</th>\n",
       "    </tr>\n",
       "  </thead>\n",
       "  <tbody>\n",
       "    <tr>\n",
       "      <th>0</th>\n",
       "      <td>3</td>\n",
       "    </tr>\n",
       "    <tr>\n",
       "      <th>1</th>\n",
       "      <td>6</td>\n",
       "    </tr>\n",
       "    <tr>\n",
       "      <th>2</th>\n",
       "      <td>9</td>\n",
       "    </tr>\n",
       "    <tr>\n",
       "      <th>3</th>\n",
       "      <td>12</td>\n",
       "    </tr>\n",
       "    <tr>\n",
       "      <th>4</th>\n",
       "      <td>15</td>\n",
       "    </tr>\n",
       "  </tbody>\n",
       "</table>\n",
       "</div>"
      ],
      "text/plain": [
       "   number*3\n",
       "0         3\n",
       "1         6\n",
       "2         9\n",
       "3        12\n",
       "4        15"
      ]
     },
     "execution_count": 9,
     "metadata": {},
     "output_type": "execute_result"
    }
   ],
   "source": [
    "pd.read_sql(sql,conn)"
   ]
  },
  {
   "cell_type": "markdown",
   "id": "8417a72f",
   "metadata": {},
   "source": [
    "Создадим SQL запрос, где результатом будет новый датафрейм `report_1` и зальём его в нашу базу данных **test_sqlite.db**. DROP TABLE нужно для того, чтобы мы смогли удалить и потом перезаписать нашу созданную ранее таблицу `report_1` в базу данных, в случае перезапуска тетрадки Jupyter. "
   ]
  },
  {
   "cell_type": "code",
   "execution_count": 10,
   "id": "3b2054cd",
   "metadata": {},
   "outputs": [],
   "source": [
    "# SQL-запрос для удаления таблицы, если она существует\n",
    "drop_table_query = '''\n",
    "DROP TABLE IF EXISTS report_1;'''\n",
    "\n",
    "# SQL-запрос для создания новой таблицы\n",
    "sql = '''\n",
    "CREATE TABLE report_1 AS\n",
    "SELECT number*10 \n",
    "FROM test_1;\n",
    "'''"
   ]
  },
  {
   "cell_type": "markdown",
   "id": "75d12338",
   "metadata": {},
   "source": [
    "Функция cursor с методом execute используется для записи и удаления таблиц в базе данных"
   ]
  },
  {
   "cell_type": "code",
   "execution_count": 11,
   "id": "280918fa",
   "metadata": {},
   "outputs": [
    {
     "data": {
      "text/plain": [
       "<sqlite3.Cursor at 0x21bb2ed63b0>"
      ]
     },
     "execution_count": 11,
     "metadata": {},
     "output_type": "execute_result"
    }
   ],
   "source": [
    "# Выполнение SQL-запроса на удаление созданной ранее таблицы\n",
    "cursor.execute(drop_table_query)"
   ]
  },
  {
   "cell_type": "code",
   "execution_count": 12,
   "id": "7694574a",
   "metadata": {},
   "outputs": [
    {
     "data": {
      "text/plain": [
       "<sqlite3.Cursor at 0x21bb2ed63b0>"
      ]
     },
     "execution_count": 12,
     "metadata": {},
     "output_type": "execute_result"
    }
   ],
   "source": [
    "# Выполнение SQL-запроса на создание новой таблицы из запроса\n",
    "cursor.execute(sql)"
   ]
  },
  {
   "cell_type": "markdown",
   "id": "6d2c17ad",
   "metadata": {},
   "source": [
    "Выполняем запрос по вновь добавленной в базу данных таблице report_1"
   ]
  },
  {
   "cell_type": "code",
   "execution_count": 13,
   "id": "5956f0eb",
   "metadata": {},
   "outputs": [],
   "source": [
    "sql = '''\n",
    "select *\n",
    "from report_1\n",
    "'''"
   ]
  },
  {
   "cell_type": "code",
   "execution_count": 14,
   "id": "7180362a",
   "metadata": {},
   "outputs": [
    {
     "data": {
      "text/html": [
       "<div>\n",
       "<style scoped>\n",
       "    .dataframe tbody tr th:only-of-type {\n",
       "        vertical-align: middle;\n",
       "    }\n",
       "\n",
       "    .dataframe tbody tr th {\n",
       "        vertical-align: top;\n",
       "    }\n",
       "\n",
       "    .dataframe thead th {\n",
       "        text-align: right;\n",
       "    }\n",
       "</style>\n",
       "<table border=\"1\" class=\"dataframe\">\n",
       "  <thead>\n",
       "    <tr style=\"text-align: right;\">\n",
       "      <th></th>\n",
       "      <th>number*10</th>\n",
       "    </tr>\n",
       "  </thead>\n",
       "  <tbody>\n",
       "    <tr>\n",
       "      <th>0</th>\n",
       "      <td>10</td>\n",
       "    </tr>\n",
       "    <tr>\n",
       "      <th>1</th>\n",
       "      <td>20</td>\n",
       "    </tr>\n",
       "    <tr>\n",
       "      <th>2</th>\n",
       "      <td>30</td>\n",
       "    </tr>\n",
       "    <tr>\n",
       "      <th>3</th>\n",
       "      <td>40</td>\n",
       "    </tr>\n",
       "    <tr>\n",
       "      <th>4</th>\n",
       "      <td>50</td>\n",
       "    </tr>\n",
       "  </tbody>\n",
       "</table>\n",
       "</div>"
      ],
      "text/plain": [
       "   number*10\n",
       "0         10\n",
       "1         20\n",
       "2         30\n",
       "3         40\n",
       "4         50"
      ]
     },
     "execution_count": 14,
     "metadata": {},
     "output_type": "execute_result"
    }
   ],
   "source": [
    "select(sql)"
   ]
  },
  {
   "cell_type": "markdown",
   "id": "de5f58ab",
   "metadata": {},
   "source": [
    "При завершении работы с базой данных её нужно обязательно сохранить и закрыть"
   ]
  },
  {
   "cell_type": "code",
   "execution_count": 15,
   "id": "fe5fee5f",
   "metadata": {},
   "outputs": [],
   "source": [
    "# Сохранение изменений и закрытие соединения\n",
    "conn.commit()\n",
    "conn.close()"
   ]
  }
 ],
 "metadata": {
  "kernelspec": {
   "display_name": "Python 3 (ipykernel)",
   "language": "python",
   "name": "python3"
  },
  "language_info": {
   "codemirror_mode": {
    "name": "ipython",
    "version": 3
   },
   "file_extension": ".py",
   "mimetype": "text/x-python",
   "name": "python",
   "nbconvert_exporter": "python",
   "pygments_lexer": "ipython3",
   "version": "3.9.16"
  },
  "toc": {
   "base_numbering": 1,
   "nav_menu": {},
   "number_sections": true,
   "sideBar": true,
   "skip_h1_title": true,
   "title_cell": "Запросы SQL из базы данных SQLite (локальный сервер(файл) SQLite )",
   "title_sidebar": "Запросы SQL из базы данных SQLite (локальный сервер(файл) SQLite )",
   "toc_cell": true,
   "toc_position": {
    "height": "calc(100% - 180px)",
    "left": "10px",
    "top": "150px",
    "width": "384px"
   },
   "toc_section_display": true,
   "toc_window_display": false
  }
 },
 "nbformat": 4,
 "nbformat_minor": 5
}
